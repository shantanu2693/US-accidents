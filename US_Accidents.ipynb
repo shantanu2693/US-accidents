{
  "nbformat": 4,
  "nbformat_minor": 0,
  "metadata": {
    "colab": {
      "provenance": []
    },
    "kernelspec": {
      "name": "python3",
      "display_name": "Python 3"
    },
    "language_info": {
      "name": "python"
    }
  },
  "cells": [
    {
      "cell_type": "code",
      "execution_count": 1,
      "metadata": {
        "id": "U-z6EE1rIA8f",
        "colab": {
          "base_uri": "https://localhost:8080/"
        },
        "outputId": "b1df324e-daeb-49e6-9515-96d93b7e7274"
      },
      "outputs": [
        {
          "output_type": "stream",
          "name": "stdout",
          "text": [
            "Mounted at /content/drive\n"
          ]
        }
      ],
      "source": [
        "import numpy as np\n",
        "import polars as pl\n",
        "import time\n",
        "from sklearn import tree\n",
        "from sklearn.model_selection import train_test_split\n",
        "from matplotlib import pyplot as plt\n",
        "%matplotlib inline\n",
        "import seaborn as sns\n",
        "from google.colab import drive                       #This is to import the datasets which are uploaded to Google drive\n",
        "drive.mount('/content/drive')\n",
        "from sklearn.model_selection import GridSearchCV\n",
        "from sklearn.preprocessing import TargetEncoder\n",
        "from sklearn.tree import DecisionTreeClassifier\n",
        "from sklearn import metrics\n",
        "from sklearn.model_selection import learning_curve\n",
        "from sklearn.model_selection import validation_curve"
      ]
    },
    {
      "cell_type": "code",
      "source": [
        "Df = pl.read_csv('/content/drive/MyDrive/Datasets/US Accidents/US_Accidents_March23.csv',n_rows = 1000500)"
      ],
      "metadata": {
        "id": "N1BqweulKOpr"
      },
      "execution_count": 2,
      "outputs": []
    },
    {
      "cell_type": "code",
      "source": [
        "Df.head(5)"
      ],
      "metadata": {
        "id": "WZuUhwYbPbsq",
        "colab": {
          "base_uri": "https://localhost:8080/",
          "height": 466
        },
        "outputId": "6526ebb6-f2b6-4d25-f3c7-d89610eeff5d"
      },
      "execution_count": 3,
      "outputs": [
        {
          "output_type": "execute_result",
          "data": {
            "text/plain": [
              "shape: (5, 46)\n",
              "┌─────┬─────────┬──────────┬─────────────┬───┬─────────────┬─────────────┬────────────┬────────────┐\n",
              "│ ID  ┆ Source  ┆ Severity ┆ Start_Time  ┆ … ┆ Sunrise_Sun ┆ Civil_Twili ┆ Nautical_T ┆ Astronomic │\n",
              "│ --- ┆ ---     ┆ ---      ┆ ---         ┆   ┆ set         ┆ ght         ┆ wilight    ┆ al_Twiligh │\n",
              "│ str ┆ str     ┆ i64      ┆ str         ┆   ┆ ---         ┆ ---         ┆ ---        ┆ t          │\n",
              "│     ┆         ┆          ┆             ┆   ┆ str         ┆ str         ┆ str        ┆ ---        │\n",
              "│     ┆         ┆          ┆             ┆   ┆             ┆             ┆            ┆ str        │\n",
              "╞═════╪═════════╪══════════╪═════════════╪═══╪═════════════╪═════════════╪════════════╪════════════╡\n",
              "│ A-1 ┆ Source2 ┆ 3        ┆ 2016-02-08  ┆ … ┆ Night       ┆ Night       ┆ Night      ┆ Night      │\n",
              "│     ┆         ┆          ┆ 05:46:00    ┆   ┆             ┆             ┆            ┆            │\n",
              "│ A-2 ┆ Source2 ┆ 2        ┆ 2016-02-08  ┆ … ┆ Night       ┆ Night       ┆ Night      ┆ Day        │\n",
              "│     ┆         ┆          ┆ 06:07:59    ┆   ┆             ┆             ┆            ┆            │\n",
              "│ A-3 ┆ Source2 ┆ 2        ┆ 2016-02-08  ┆ … ┆ Night       ┆ Night       ┆ Day        ┆ Day        │\n",
              "│     ┆         ┆          ┆ 06:49:27    ┆   ┆             ┆             ┆            ┆            │\n",
              "│ A-4 ┆ Source2 ┆ 3        ┆ 2016-02-08  ┆ … ┆ Night       ┆ Day         ┆ Day        ┆ Day        │\n",
              "│     ┆         ┆          ┆ 07:23:34    ┆   ┆             ┆             ┆            ┆            │\n",
              "│ A-5 ┆ Source2 ┆ 2        ┆ 2016-02-08  ┆ … ┆ Day         ┆ Day         ┆ Day        ┆ Day        │\n",
              "│     ┆         ┆          ┆ 07:39:07    ┆   ┆             ┆             ┆            ┆            │\n",
              "└─────┴─────────┴──────────┴─────────────┴───┴─────────────┴─────────────┴────────────┴────────────┘"
            ],
            "text/html": [
              "<div><style>\n",
              ".dataframe > thead > tr,\n",
              ".dataframe > tbody > tr {\n",
              "  text-align: right;\n",
              "  white-space: pre-wrap;\n",
              "}\n",
              "</style>\n",
              "<small>shape: (5, 46)</small><table border=\"1\" class=\"dataframe\"><thead><tr><th>ID</th><th>Source</th><th>Severity</th><th>Start_Time</th><th>End_Time</th><th>Start_Lat</th><th>Start_Lng</th><th>End_Lat</th><th>End_Lng</th><th>Distance(mi)</th><th>Description</th><th>Street</th><th>City</th><th>County</th><th>State</th><th>Zipcode</th><th>Country</th><th>Timezone</th><th>Airport_Code</th><th>Weather_Timestamp</th><th>Temperature(F)</th><th>Wind_Chill(F)</th><th>Humidity(%)</th><th>Pressure(in)</th><th>Visibility(mi)</th><th>Wind_Direction</th><th>Wind_Speed(mph)</th><th>Precipitation(in)</th><th>Weather_Condition</th><th>Amenity</th><th>Bump</th><th>Crossing</th><th>Give_Way</th><th>Junction</th><th>No_Exit</th><th>Railway</th><th>Roundabout</th><th>Station</th><th>Stop</th><th>Traffic_Calming</th><th>Traffic_Signal</th><th>Turning_Loop</th><th>Sunrise_Sunset</th><th>Civil_Twilight</th><th>Nautical_Twilight</th><th>Astronomical_Twilight</th></tr><tr><td>str</td><td>str</td><td>i64</td><td>str</td><td>str</td><td>f64</td><td>f64</td><td>str</td><td>str</td><td>f64</td><td>str</td><td>str</td><td>str</td><td>str</td><td>str</td><td>str</td><td>str</td><td>str</td><td>str</td><td>str</td><td>f64</td><td>f64</td><td>f64</td><td>f64</td><td>f64</td><td>str</td><td>f64</td><td>f64</td><td>str</td><td>bool</td><td>bool</td><td>bool</td><td>bool</td><td>bool</td><td>bool</td><td>bool</td><td>bool</td><td>bool</td><td>bool</td><td>bool</td><td>bool</td><td>bool</td><td>str</td><td>str</td><td>str</td><td>str</td></tr></thead><tbody><tr><td>&quot;A-1&quot;</td><td>&quot;Source2&quot;</td><td>3</td><td>&quot;2016-02-08 05:46:00&quot;</td><td>&quot;2016-02-08 11:00:00&quot;</td><td>39.865147</td><td>-84.058723</td><td>null</td><td>null</td><td>0.01</td><td>&quot;Right lane blocked due to acci…</td><td>&quot;I-70 E&quot;</td><td>&quot;Dayton&quot;</td><td>&quot;Montgomery&quot;</td><td>&quot;OH&quot;</td><td>&quot;45424&quot;</td><td>&quot;US&quot;</td><td>&quot;US/Eastern&quot;</td><td>&quot;KFFO&quot;</td><td>&quot;2016-02-08 05:58:00&quot;</td><td>36.9</td><td>null</td><td>91.0</td><td>29.68</td><td>10.0</td><td>&quot;Calm&quot;</td><td>null</td><td>0.02</td><td>&quot;Light Rain&quot;</td><td>false</td><td>false</td><td>false</td><td>false</td><td>false</td><td>false</td><td>false</td><td>false</td><td>false</td><td>false</td><td>false</td><td>false</td><td>false</td><td>&quot;Night&quot;</td><td>&quot;Night&quot;</td><td>&quot;Night&quot;</td><td>&quot;Night&quot;</td></tr><tr><td>&quot;A-2&quot;</td><td>&quot;Source2&quot;</td><td>2</td><td>&quot;2016-02-08 06:07:59&quot;</td><td>&quot;2016-02-08 06:37:59&quot;</td><td>39.928059</td><td>-82.831184</td><td>null</td><td>null</td><td>0.01</td><td>&quot;Accident on Brice Rd at Tussin…</td><td>&quot;Brice Rd&quot;</td><td>&quot;Reynoldsburg&quot;</td><td>&quot;Franklin&quot;</td><td>&quot;OH&quot;</td><td>&quot;43068-3402&quot;</td><td>&quot;US&quot;</td><td>&quot;US/Eastern&quot;</td><td>&quot;KCMH&quot;</td><td>&quot;2016-02-08 05:51:00&quot;</td><td>37.9</td><td>null</td><td>100.0</td><td>29.65</td><td>10.0</td><td>&quot;Calm&quot;</td><td>null</td><td>0.0</td><td>&quot;Light Rain&quot;</td><td>false</td><td>false</td><td>false</td><td>false</td><td>false</td><td>false</td><td>false</td><td>false</td><td>false</td><td>false</td><td>false</td><td>false</td><td>false</td><td>&quot;Night&quot;</td><td>&quot;Night&quot;</td><td>&quot;Night&quot;</td><td>&quot;Day&quot;</td></tr><tr><td>&quot;A-3&quot;</td><td>&quot;Source2&quot;</td><td>2</td><td>&quot;2016-02-08 06:49:27&quot;</td><td>&quot;2016-02-08 07:19:27&quot;</td><td>39.063148</td><td>-84.032608</td><td>null</td><td>null</td><td>0.01</td><td>&quot;Accident on OH-32 State Route …</td><td>&quot;State Route 32&quot;</td><td>&quot;Williamsburg&quot;</td><td>&quot;Clermont&quot;</td><td>&quot;OH&quot;</td><td>&quot;45176&quot;</td><td>&quot;US&quot;</td><td>&quot;US/Eastern&quot;</td><td>&quot;KI69&quot;</td><td>&quot;2016-02-08 06:56:00&quot;</td><td>36.0</td><td>33.3</td><td>100.0</td><td>29.67</td><td>10.0</td><td>&quot;SW&quot;</td><td>3.5</td><td>null</td><td>&quot;Overcast&quot;</td><td>false</td><td>false</td><td>false</td><td>false</td><td>false</td><td>false</td><td>false</td><td>false</td><td>false</td><td>false</td><td>false</td><td>true</td><td>false</td><td>&quot;Night&quot;</td><td>&quot;Night&quot;</td><td>&quot;Day&quot;</td><td>&quot;Day&quot;</td></tr><tr><td>&quot;A-4&quot;</td><td>&quot;Source2&quot;</td><td>3</td><td>&quot;2016-02-08 07:23:34&quot;</td><td>&quot;2016-02-08 07:53:34&quot;</td><td>39.747753</td><td>-84.205582</td><td>null</td><td>null</td><td>0.01</td><td>&quot;Accident on I-75 Southbound at…</td><td>&quot;I-75 S&quot;</td><td>&quot;Dayton&quot;</td><td>&quot;Montgomery&quot;</td><td>&quot;OH&quot;</td><td>&quot;45417&quot;</td><td>&quot;US&quot;</td><td>&quot;US/Eastern&quot;</td><td>&quot;KDAY&quot;</td><td>&quot;2016-02-08 07:38:00&quot;</td><td>35.1</td><td>31.0</td><td>96.0</td><td>29.64</td><td>9.0</td><td>&quot;SW&quot;</td><td>4.6</td><td>null</td><td>&quot;Mostly Cloudy&quot;</td><td>false</td><td>false</td><td>false</td><td>false</td><td>false</td><td>false</td><td>false</td><td>false</td><td>false</td><td>false</td><td>false</td><td>false</td><td>false</td><td>&quot;Night&quot;</td><td>&quot;Day&quot;</td><td>&quot;Day&quot;</td><td>&quot;Day&quot;</td></tr><tr><td>&quot;A-5&quot;</td><td>&quot;Source2&quot;</td><td>2</td><td>&quot;2016-02-08 07:39:07&quot;</td><td>&quot;2016-02-08 08:09:07&quot;</td><td>39.627781</td><td>-84.188354</td><td>null</td><td>null</td><td>0.01</td><td>&quot;Accident on McEwen Rd at OH-72…</td><td>&quot;Miamisburg Centerville Rd&quot;</td><td>&quot;Dayton&quot;</td><td>&quot;Montgomery&quot;</td><td>&quot;OH&quot;</td><td>&quot;45459&quot;</td><td>&quot;US&quot;</td><td>&quot;US/Eastern&quot;</td><td>&quot;KMGY&quot;</td><td>&quot;2016-02-08 07:53:00&quot;</td><td>36.0</td><td>33.3</td><td>89.0</td><td>29.65</td><td>6.0</td><td>&quot;SW&quot;</td><td>3.5</td><td>null</td><td>&quot;Mostly Cloudy&quot;</td><td>false</td><td>false</td><td>false</td><td>false</td><td>false</td><td>false</td><td>false</td><td>false</td><td>false</td><td>false</td><td>false</td><td>true</td><td>false</td><td>&quot;Day&quot;</td><td>&quot;Day&quot;</td><td>&quot;Day&quot;</td><td>&quot;Day&quot;</td></tr></tbody></table></div>"
            ]
          },
          "metadata": {},
          "execution_count": 3
        }
      ]
    },
    {
      "cell_type": "code",
      "source": [
        "Df.describe()"
      ],
      "metadata": {
        "id": "N5HIhnVVRq9x",
        "colab": {
          "base_uri": "https://localhost:8080/",
          "height": 487
        },
        "outputId": "3a88a65e-5c8b-4ce9-bda4-6be6f754aa7f"
      },
      "execution_count": 4,
      "outputs": [
        {
          "output_type": "execute_result",
          "data": {
            "text/plain": [
              "shape: (9, 47)\n",
              "┌────────────┬──────────┬─────────┬──────────┬───┬────────────┬────────────┬───────────┬───────────┐\n",
              "│ statistic  ┆ ID       ┆ Source  ┆ Severity ┆ … ┆ Sunrise_Su ┆ Civil_Twil ┆ Nautical_ ┆ Astronomi │\n",
              "│ ---        ┆ ---      ┆ ---     ┆ ---      ┆   ┆ nset       ┆ ight       ┆ Twilight  ┆ cal_Twili │\n",
              "│ str        ┆ str      ┆ str     ┆ f64      ┆   ┆ ---        ┆ ---        ┆ ---       ┆ ght       │\n",
              "│            ┆          ┆         ┆          ┆   ┆ str        ┆ str        ┆ str       ┆ ---       │\n",
              "│            ┆          ┆         ┆          ┆   ┆            ┆            ┆           ┆ str       │\n",
              "╞════════════╪══════════╪═════════╪══════════╪═══╪════════════╪════════════╪═══════════╪═══════════╡\n",
              "│ count      ┆ 1000500  ┆ 1000500 ┆ 1.0005e6 ┆ … ┆ 998864     ┆ 998864     ┆ 998864    ┆ 998864    │\n",
              "│ null_count ┆ 0        ┆ 0       ┆ 0.0      ┆ … ┆ 1636       ┆ 1636       ┆ 1636      ┆ 1636      │\n",
              "│ mean       ┆ null     ┆ null    ┆ 2.320224 ┆ … ┆ null       ┆ null       ┆ null      ┆ null      │\n",
              "│ std        ┆ null     ┆ null    ┆ 0.548461 ┆ … ┆ null       ┆ null       ┆ null      ┆ null      │\n",
              "│ min        ┆ A-1      ┆ Source2 ┆ 1.0      ┆ … ┆ Day        ┆ Day        ┆ Day       ┆ Day       │\n",
              "│ 25%        ┆ null     ┆ null    ┆ 2.0      ┆ … ┆ null       ┆ null       ┆ null      ┆ null      │\n",
              "│ 50%        ┆ null     ┆ null    ┆ 2.0      ┆ … ┆ null       ┆ null       ┆ null      ┆ null      │\n",
              "│ 75%        ┆ null     ┆ null    ┆ 3.0      ┆ … ┆ null       ┆ null       ┆ null      ┆ null      │\n",
              "│ max        ┆ A-999999 ┆ Source3 ┆ 4.0      ┆ … ┆ Night      ┆ Night      ┆ Night     ┆ Night     │\n",
              "└────────────┴──────────┴─────────┴──────────┴───┴────────────┴────────────┴───────────┴───────────┘"
            ],
            "text/html": [
              "<div><style>\n",
              ".dataframe > thead > tr,\n",
              ".dataframe > tbody > tr {\n",
              "  text-align: right;\n",
              "  white-space: pre-wrap;\n",
              "}\n",
              "</style>\n",
              "<small>shape: (9, 47)</small><table border=\"1\" class=\"dataframe\"><thead><tr><th>statistic</th><th>ID</th><th>Source</th><th>Severity</th><th>Start_Time</th><th>End_Time</th><th>Start_Lat</th><th>Start_Lng</th><th>End_Lat</th><th>End_Lng</th><th>Distance(mi)</th><th>Description</th><th>Street</th><th>City</th><th>County</th><th>State</th><th>Zipcode</th><th>Country</th><th>Timezone</th><th>Airport_Code</th><th>Weather_Timestamp</th><th>Temperature(F)</th><th>Wind_Chill(F)</th><th>Humidity(%)</th><th>Pressure(in)</th><th>Visibility(mi)</th><th>Wind_Direction</th><th>Wind_Speed(mph)</th><th>Precipitation(in)</th><th>Weather_Condition</th><th>Amenity</th><th>Bump</th><th>Crossing</th><th>Give_Way</th><th>Junction</th><th>No_Exit</th><th>Railway</th><th>Roundabout</th><th>Station</th><th>Stop</th><th>Traffic_Calming</th><th>Traffic_Signal</th><th>Turning_Loop</th><th>Sunrise_Sunset</th><th>Civil_Twilight</th><th>Nautical_Twilight</th><th>Astronomical_Twilight</th></tr><tr><td>str</td><td>str</td><td>str</td><td>f64</td><td>str</td><td>str</td><td>f64</td><td>f64</td><td>str</td><td>str</td><td>f64</td><td>str</td><td>str</td><td>str</td><td>str</td><td>str</td><td>str</td><td>str</td><td>str</td><td>str</td><td>str</td><td>f64</td><td>f64</td><td>f64</td><td>f64</td><td>f64</td><td>str</td><td>f64</td><td>f64</td><td>str</td><td>f64</td><td>f64</td><td>f64</td><td>f64</td><td>f64</td><td>f64</td><td>f64</td><td>f64</td><td>f64</td><td>f64</td><td>f64</td><td>f64</td><td>f64</td><td>str</td><td>str</td><td>str</td><td>str</td></tr></thead><tbody><tr><td>&quot;count&quot;</td><td>&quot;1000500&quot;</td><td>&quot;1000500&quot;</td><td>1.0005e6</td><td>&quot;1000500&quot;</td><td>&quot;1000500&quot;</td><td>1.0005e6</td><td>1.0005e6</td><td>&quot;0&quot;</td><td>&quot;0&quot;</td><td>1.0005e6</td><td>&quot;1000499&quot;</td><td>&quot;998788&quot;</td><td>&quot;1000472&quot;</td><td>&quot;1000500&quot;</td><td>&quot;1000500&quot;</td><td>&quot;1000364&quot;</td><td>&quot;1000500&quot;</td><td>&quot;1000047&quot;</td><td>&quot;999066&quot;</td><td>&quot;990569&quot;</td><td>985192.0</td><td>539898.0</td><td>983937.0</td><td>988118.0</td><td>981562.0</td><td>&quot;986920&quot;</td><td>900092.0</td><td>525177.0</td><td>&quot;982282&quot;</td><td>1.0005e6</td><td>1.0005e6</td><td>1.0005e6</td><td>1.0005e6</td><td>1.0005e6</td><td>1.0005e6</td><td>1.0005e6</td><td>1.0005e6</td><td>1.0005e6</td><td>1.0005e6</td><td>1.0005e6</td><td>1.0005e6</td><td>1.0005e6</td><td>&quot;998864&quot;</td><td>&quot;998864&quot;</td><td>&quot;998864&quot;</td><td>&quot;998864&quot;</td></tr><tr><td>&quot;null_count&quot;</td><td>&quot;0&quot;</td><td>&quot;0&quot;</td><td>0.0</td><td>&quot;0&quot;</td><td>&quot;0&quot;</td><td>0.0</td><td>0.0</td><td>&quot;1000500&quot;</td><td>&quot;1000500&quot;</td><td>0.0</td><td>&quot;1&quot;</td><td>&quot;1712&quot;</td><td>&quot;28&quot;</td><td>&quot;0&quot;</td><td>&quot;0&quot;</td><td>&quot;136&quot;</td><td>&quot;0&quot;</td><td>&quot;453&quot;</td><td>&quot;1434&quot;</td><td>&quot;9931&quot;</td><td>15308.0</td><td>460602.0</td><td>16563.0</td><td>12382.0</td><td>18938.0</td><td>&quot;13580&quot;</td><td>100408.0</td><td>475323.0</td><td>&quot;18218&quot;</td><td>0.0</td><td>0.0</td><td>0.0</td><td>0.0</td><td>0.0</td><td>0.0</td><td>0.0</td><td>0.0</td><td>0.0</td><td>0.0</td><td>0.0</td><td>0.0</td><td>0.0</td><td>&quot;1636&quot;</td><td>&quot;1636&quot;</td><td>&quot;1636&quot;</td><td>&quot;1636&quot;</td></tr><tr><td>&quot;mean&quot;</td><td>null</td><td>null</td><td>2.320224</td><td>null</td><td>null</td><td>36.058837</td><td>-94.750544</td><td>null</td><td>null</td><td>0.167532</td><td>null</td><td>null</td><td>null</td><td>null</td><td>null</td><td>null</td><td>null</td><td>null</td><td>null</td><td>null</td><td>64.626661</td><td>59.457691</td><td>66.029973</td><td>29.693456</td><td>9.173896</td><td>null</td><td>7.767402</td><td>0.013247</td><td>null</td><td>0.013918</td><td>0.000321</td><td>0.129516</td><td>0.006232</td><td>0.056812</td><td>0.002171</td><td>0.00933</td><td>0.000027</td><td>0.027968</td><td>0.029207</td><td>0.000887</td><td>0.209889</td><td>0.0</td><td>null</td><td>null</td><td>null</td><td>null</td></tr><tr><td>&quot;std&quot;</td><td>null</td><td>null</td><td>0.548461</td><td>null</td><td>null</td><td>4.906894</td><td>17.388672</td><td>null</td><td>null</td><td>1.427759</td><td>null</td><td>null</td><td>null</td><td>null</td><td>null</td><td>null</td><td>null</td><td>null</td><td>null</td><td>null</td><td>17.450303</td><td>21.930264</td><td>21.888529</td><td>0.792037</td><td>2.259134</td><td>null</td><td>5.407576</td><td>0.203059</td><td>null</td><td>null</td><td>null</td><td>null</td><td>null</td><td>null</td><td>null</td><td>null</td><td>null</td><td>null</td><td>null</td><td>null</td><td>null</td><td>null</td><td>null</td><td>null</td><td>null</td><td>null</td></tr><tr><td>&quot;min&quot;</td><td>&quot;A-1&quot;</td><td>&quot;Source2&quot;</td><td>1.0</td><td>&quot;2016-02-08 05:46:00&quot;</td><td>&quot;2016-02-08 06:37:59&quot;</td><td>24.5548</td><td>-124.497414</td><td>null</td><td>null</td><td>0.0</td><td>&quot; middle lane blocked due to ac…</td><td>&quot;00-199 Fair Lawn Pkwy&quot;</td><td>&quot;Aaronsburg&quot;</td><td>&quot;Abbeville&quot;</td><td>&quot;AL&quot;</td><td>&quot;01001&quot;</td><td>&quot;US&quot;</td><td>&quot;US/Central&quot;</td><td>&quot;K01M&quot;</td><td>&quot;2016-02-08 05:51:00&quot;</td><td>-77.8</td><td>-50.0</td><td>1.0</td><td>0.12</td><td>0.0</td><td>&quot;CALM&quot;</td><td>0.0</td><td>0.0</td><td>&quot;Blowing Dust&quot;</td><td>0.0</td><td>0.0</td><td>0.0</td><td>0.0</td><td>0.0</td><td>0.0</td><td>0.0</td><td>0.0</td><td>0.0</td><td>0.0</td><td>0.0</td><td>0.0</td><td>0.0</td><td>&quot;Day&quot;</td><td>&quot;Day&quot;</td><td>&quot;Day&quot;</td><td>&quot;Day&quot;</td></tr><tr><td>&quot;25%&quot;</td><td>null</td><td>null</td><td>2.0</td><td>null</td><td>null</td><td>32.925362</td><td>-117.36837</td><td>null</td><td>null</td><td>0.0</td><td>null</td><td>null</td><td>null</td><td>null</td><td>null</td><td>null</td><td>null</td><td>null</td><td>null</td><td>null</td><td>54.0</td><td>43.0</td><td>50.0</td><td>29.56</td><td>10.0</td><td>null</td><td>4.6</td><td>0.0</td><td>null</td><td>null</td><td>null</td><td>null</td><td>null</td><td>null</td><td>null</td><td>null</td><td>null</td><td>null</td><td>null</td><td>null</td><td>null</td><td>null</td><td>null</td><td>null</td><td>null</td><td>null</td></tr><tr><td>&quot;50%&quot;</td><td>null</td><td>null</td><td>2.0</td><td>null</td><td>null</td><td>35.257641</td><td>-87.957573</td><td>null</td><td>null</td><td>0.0</td><td>null</td><td>null</td><td>null</td><td>null</td><td>null</td><td>null</td><td>null</td><td>null</td><td>null</td><td>null</td><td>66.9</td><td>64.0</td><td>68.0</td><td>29.91</td><td>10.0</td><td>null</td><td>7.0</td><td>0.0</td><td>null</td><td>null</td><td>null</td><td>null</td><td>null</td><td>null</td><td>null</td><td>null</td><td>null</td><td>null</td><td>null</td><td>null</td><td>null</td><td>null</td><td>null</td><td>null</td><td>null</td><td>null</td></tr><tr><td>&quot;75%&quot;</td><td>null</td><td>null</td><td>3.0</td><td>null</td><td>null</td><td>40.11311</td><td>-80.920403</td><td>null</td><td>null</td><td>0.01</td><td>null</td><td>null</td><td>null</td><td>null</td><td>null</td><td>null</td><td>null</td><td>null</td><td>null</td><td>null</td><td>77.0</td><td>76.0</td><td>84.0</td><td>30.05</td><td>10.0</td><td>null</td><td>10.4</td><td>0.0</td><td>null</td><td>null</td><td>null</td><td>null</td><td>null</td><td>null</td><td>null</td><td>null</td><td>null</td><td>null</td><td>null</td><td>null</td><td>null</td><td>null</td><td>null</td><td>null</td><td>null</td><td>null</td></tr><tr><td>&quot;max&quot;</td><td>&quot;A-999999&quot;</td><td>&quot;Source3&quot;</td><td>4.0</td><td>&quot;2022-09-08 17:56:22&quot;</td><td>&quot;2022-09-08 18:34:31&quot;</td><td>48.998085</td><td>-68.160789</td><td>null</td><td>null</td><td>336.570007</td><td>&quot;~Left lane blocked due to cras…</td><td>&quot;william Carey Dr&quot;</td><td>&quot;Zumbrota&quot;</td><td>&quot;Yuma&quot;</td><td>&quot;WY&quot;</td><td>&quot;99362-1879&quot;</td><td>&quot;US&quot;</td><td>&quot;US/Pacific&quot;</td><td>&quot;KZZV&quot;</td><td>&quot;2022-09-08 17:55:00&quot;</td><td>196.0</td><td>196.0</td><td>100.0</td><td>58.1</td><td>111.0</td><td>&quot;West&quot;</td><td>822.8</td><td>36.47</td><td>&quot;Wintry Mix / Windy&quot;</td><td>1.0</td><td>1.0</td><td>1.0</td><td>1.0</td><td>1.0</td><td>1.0</td><td>1.0</td><td>1.0</td><td>1.0</td><td>1.0</td><td>1.0</td><td>1.0</td><td>0.0</td><td>&quot;Night&quot;</td><td>&quot;Night&quot;</td><td>&quot;Night&quot;</td><td>&quot;Night&quot;</td></tr></tbody></table></div>"
            ]
          },
          "metadata": {},
          "execution_count": 4
        }
      ]
    },
    {
      "cell_type": "markdown",
      "source": [
        "## Steps to control leakage:"
      ],
      "metadata": {
        "id": "jV_GyUSVlS6i"
      }
    },
    {
      "cell_type": "code",
      "source": [
        "#Dropping columns to reduce leakage\n",
        "Df = Df.drop(['End_Time','End_Lat','End_Lng','Description','Weather_Timestamp'])"
      ],
      "metadata": {
        "id": "uAXc6kkRVwIK"
      },
      "execution_count": 5,
      "outputs": []
    },
    {
      "cell_type": "code",
      "source": [
        "Df.head(5)"
      ],
      "metadata": {
        "colab": {
          "base_uri": "https://localhost:8080/",
          "height": 379
        },
        "id": "R23VvNidZxPM",
        "outputId": "12d30706-25be-4b8c-d5f3-526968695dab"
      },
      "execution_count": 6,
      "outputs": [
        {
          "output_type": "execute_result",
          "data": {
            "text/plain": [
              "shape: (5, 41)\n",
              "┌─────┬─────────┬──────────┬─────────────┬───┬─────────────┬─────────────┬────────────┬────────────┐\n",
              "│ ID  ┆ Source  ┆ Severity ┆ Start_Time  ┆ … ┆ Sunrise_Sun ┆ Civil_Twili ┆ Nautical_T ┆ Astronomic │\n",
              "│ --- ┆ ---     ┆ ---      ┆ ---         ┆   ┆ set         ┆ ght         ┆ wilight    ┆ al_Twiligh │\n",
              "│ str ┆ str     ┆ i64      ┆ str         ┆   ┆ ---         ┆ ---         ┆ ---        ┆ t          │\n",
              "│     ┆         ┆          ┆             ┆   ┆ str         ┆ str         ┆ str        ┆ ---        │\n",
              "│     ┆         ┆          ┆             ┆   ┆             ┆             ┆            ┆ str        │\n",
              "╞═════╪═════════╪══════════╪═════════════╪═══╪═════════════╪═════════════╪════════════╪════════════╡\n",
              "│ A-1 ┆ Source2 ┆ 3        ┆ 2016-02-08  ┆ … ┆ Night       ┆ Night       ┆ Night      ┆ Night      │\n",
              "│     ┆         ┆          ┆ 05:46:00    ┆   ┆             ┆             ┆            ┆            │\n",
              "│ A-2 ┆ Source2 ┆ 2        ┆ 2016-02-08  ┆ … ┆ Night       ┆ Night       ┆ Night      ┆ Day        │\n",
              "│     ┆         ┆          ┆ 06:07:59    ┆   ┆             ┆             ┆            ┆            │\n",
              "│ A-3 ┆ Source2 ┆ 2        ┆ 2016-02-08  ┆ … ┆ Night       ┆ Night       ┆ Day        ┆ Day        │\n",
              "│     ┆         ┆          ┆ 06:49:27    ┆   ┆             ┆             ┆            ┆            │\n",
              "│ A-4 ┆ Source2 ┆ 3        ┆ 2016-02-08  ┆ … ┆ Night       ┆ Day         ┆ Day        ┆ Day        │\n",
              "│     ┆         ┆          ┆ 07:23:34    ┆   ┆             ┆             ┆            ┆            │\n",
              "│ A-5 ┆ Source2 ┆ 2        ┆ 2016-02-08  ┆ … ┆ Day         ┆ Day         ┆ Day        ┆ Day        │\n",
              "│     ┆         ┆          ┆ 07:39:07    ┆   ┆             ┆             ┆            ┆            │\n",
              "└─────┴─────────┴──────────┴─────────────┴───┴─────────────┴─────────────┴────────────┴────────────┘"
            ],
            "text/html": [
              "<div><style>\n",
              ".dataframe > thead > tr,\n",
              ".dataframe > tbody > tr {\n",
              "  text-align: right;\n",
              "  white-space: pre-wrap;\n",
              "}\n",
              "</style>\n",
              "<small>shape: (5, 41)</small><table border=\"1\" class=\"dataframe\"><thead><tr><th>ID</th><th>Source</th><th>Severity</th><th>Start_Time</th><th>Start_Lat</th><th>Start_Lng</th><th>Distance(mi)</th><th>Street</th><th>City</th><th>County</th><th>State</th><th>Zipcode</th><th>Country</th><th>Timezone</th><th>Airport_Code</th><th>Temperature(F)</th><th>Wind_Chill(F)</th><th>Humidity(%)</th><th>Pressure(in)</th><th>Visibility(mi)</th><th>Wind_Direction</th><th>Wind_Speed(mph)</th><th>Precipitation(in)</th><th>Weather_Condition</th><th>Amenity</th><th>Bump</th><th>Crossing</th><th>Give_Way</th><th>Junction</th><th>No_Exit</th><th>Railway</th><th>Roundabout</th><th>Station</th><th>Stop</th><th>Traffic_Calming</th><th>Traffic_Signal</th><th>Turning_Loop</th><th>Sunrise_Sunset</th><th>Civil_Twilight</th><th>Nautical_Twilight</th><th>Astronomical_Twilight</th></tr><tr><td>str</td><td>str</td><td>i64</td><td>str</td><td>f64</td><td>f64</td><td>f64</td><td>str</td><td>str</td><td>str</td><td>str</td><td>str</td><td>str</td><td>str</td><td>str</td><td>f64</td><td>f64</td><td>f64</td><td>f64</td><td>f64</td><td>str</td><td>f64</td><td>f64</td><td>str</td><td>bool</td><td>bool</td><td>bool</td><td>bool</td><td>bool</td><td>bool</td><td>bool</td><td>bool</td><td>bool</td><td>bool</td><td>bool</td><td>bool</td><td>bool</td><td>str</td><td>str</td><td>str</td><td>str</td></tr></thead><tbody><tr><td>&quot;A-1&quot;</td><td>&quot;Source2&quot;</td><td>3</td><td>&quot;2016-02-08 05:46:00&quot;</td><td>39.865147</td><td>-84.058723</td><td>0.01</td><td>&quot;I-70 E&quot;</td><td>&quot;Dayton&quot;</td><td>&quot;Montgomery&quot;</td><td>&quot;OH&quot;</td><td>&quot;45424&quot;</td><td>&quot;US&quot;</td><td>&quot;US/Eastern&quot;</td><td>&quot;KFFO&quot;</td><td>36.9</td><td>null</td><td>91.0</td><td>29.68</td><td>10.0</td><td>&quot;Calm&quot;</td><td>null</td><td>0.02</td><td>&quot;Light Rain&quot;</td><td>false</td><td>false</td><td>false</td><td>false</td><td>false</td><td>false</td><td>false</td><td>false</td><td>false</td><td>false</td><td>false</td><td>false</td><td>false</td><td>&quot;Night&quot;</td><td>&quot;Night&quot;</td><td>&quot;Night&quot;</td><td>&quot;Night&quot;</td></tr><tr><td>&quot;A-2&quot;</td><td>&quot;Source2&quot;</td><td>2</td><td>&quot;2016-02-08 06:07:59&quot;</td><td>39.928059</td><td>-82.831184</td><td>0.01</td><td>&quot;Brice Rd&quot;</td><td>&quot;Reynoldsburg&quot;</td><td>&quot;Franklin&quot;</td><td>&quot;OH&quot;</td><td>&quot;43068-3402&quot;</td><td>&quot;US&quot;</td><td>&quot;US/Eastern&quot;</td><td>&quot;KCMH&quot;</td><td>37.9</td><td>null</td><td>100.0</td><td>29.65</td><td>10.0</td><td>&quot;Calm&quot;</td><td>null</td><td>0.0</td><td>&quot;Light Rain&quot;</td><td>false</td><td>false</td><td>false</td><td>false</td><td>false</td><td>false</td><td>false</td><td>false</td><td>false</td><td>false</td><td>false</td><td>false</td><td>false</td><td>&quot;Night&quot;</td><td>&quot;Night&quot;</td><td>&quot;Night&quot;</td><td>&quot;Day&quot;</td></tr><tr><td>&quot;A-3&quot;</td><td>&quot;Source2&quot;</td><td>2</td><td>&quot;2016-02-08 06:49:27&quot;</td><td>39.063148</td><td>-84.032608</td><td>0.01</td><td>&quot;State Route 32&quot;</td><td>&quot;Williamsburg&quot;</td><td>&quot;Clermont&quot;</td><td>&quot;OH&quot;</td><td>&quot;45176&quot;</td><td>&quot;US&quot;</td><td>&quot;US/Eastern&quot;</td><td>&quot;KI69&quot;</td><td>36.0</td><td>33.3</td><td>100.0</td><td>29.67</td><td>10.0</td><td>&quot;SW&quot;</td><td>3.5</td><td>null</td><td>&quot;Overcast&quot;</td><td>false</td><td>false</td><td>false</td><td>false</td><td>false</td><td>false</td><td>false</td><td>false</td><td>false</td><td>false</td><td>false</td><td>true</td><td>false</td><td>&quot;Night&quot;</td><td>&quot;Night&quot;</td><td>&quot;Day&quot;</td><td>&quot;Day&quot;</td></tr><tr><td>&quot;A-4&quot;</td><td>&quot;Source2&quot;</td><td>3</td><td>&quot;2016-02-08 07:23:34&quot;</td><td>39.747753</td><td>-84.205582</td><td>0.01</td><td>&quot;I-75 S&quot;</td><td>&quot;Dayton&quot;</td><td>&quot;Montgomery&quot;</td><td>&quot;OH&quot;</td><td>&quot;45417&quot;</td><td>&quot;US&quot;</td><td>&quot;US/Eastern&quot;</td><td>&quot;KDAY&quot;</td><td>35.1</td><td>31.0</td><td>96.0</td><td>29.64</td><td>9.0</td><td>&quot;SW&quot;</td><td>4.6</td><td>null</td><td>&quot;Mostly Cloudy&quot;</td><td>false</td><td>false</td><td>false</td><td>false</td><td>false</td><td>false</td><td>false</td><td>false</td><td>false</td><td>false</td><td>false</td><td>false</td><td>false</td><td>&quot;Night&quot;</td><td>&quot;Day&quot;</td><td>&quot;Day&quot;</td><td>&quot;Day&quot;</td></tr><tr><td>&quot;A-5&quot;</td><td>&quot;Source2&quot;</td><td>2</td><td>&quot;2016-02-08 07:39:07&quot;</td><td>39.627781</td><td>-84.188354</td><td>0.01</td><td>&quot;Miamisburg Centerville Rd&quot;</td><td>&quot;Dayton&quot;</td><td>&quot;Montgomery&quot;</td><td>&quot;OH&quot;</td><td>&quot;45459&quot;</td><td>&quot;US&quot;</td><td>&quot;US/Eastern&quot;</td><td>&quot;KMGY&quot;</td><td>36.0</td><td>33.3</td><td>89.0</td><td>29.65</td><td>6.0</td><td>&quot;SW&quot;</td><td>3.5</td><td>null</td><td>&quot;Mostly Cloudy&quot;</td><td>false</td><td>false</td><td>false</td><td>false</td><td>false</td><td>false</td><td>false</td><td>false</td><td>false</td><td>false</td><td>false</td><td>true</td><td>false</td><td>&quot;Day&quot;</td><td>&quot;Day&quot;</td><td>&quot;Day&quot;</td><td>&quot;Day&quot;</td></tr></tbody></table></div>"
            ]
          },
          "metadata": {},
          "execution_count": 6
        }
      ]
    },
    {
      "cell_type": "markdown",
      "source": [
        "# Handling NULL values and EDA:"
      ],
      "metadata": {
        "id": "bR66kfQXRzjp"
      }
    },
    {
      "cell_type": "code",
      "source": [
        "Df.is_duplicated()[True]"
      ],
      "metadata": {
        "colab": {
          "base_uri": "https://localhost:8080/"
        },
        "id": "LXyX9MS9R1TU",
        "outputId": "19e05dca-999a-4cd0-f3b0-b2fc47f56547"
      },
      "execution_count": 7,
      "outputs": [
        {
          "output_type": "execute_result",
          "data": {
            "text/plain": [
              "False"
            ]
          },
          "metadata": {},
          "execution_count": 7
        }
      ]
    },
    {
      "cell_type": "markdown",
      "source": [
        "There are no duplicate rows."
      ],
      "metadata": {
        "id": "qmp3s2SgR-k3"
      }
    },
    {
      "cell_type": "code",
      "source": [
        "Df.select(pl.all().is_null().sum())"
      ],
      "metadata": {
        "colab": {
          "base_uri": "https://localhost:8080/",
          "height": 149
        },
        "id": "1X9kezUFR9WD",
        "outputId": "2a4f6fbb-68cc-448c-eb1f-9229efede3ab"
      },
      "execution_count": 8,
      "outputs": [
        {
          "output_type": "execute_result",
          "data": {
            "text/plain": [
              "shape: (1, 41)\n",
              "┌─────┬────────┬──────────┬────────────┬───┬─────────────┬─────────────┬─────────────┬─────────────┐\n",
              "│ ID  ┆ Source ┆ Severity ┆ Start_Time ┆ … ┆ Sunrise_Sun ┆ Civil_Twili ┆ Nautical_Tw ┆ Astronomica │\n",
              "│ --- ┆ ---    ┆ ---      ┆ ---        ┆   ┆ set         ┆ ght         ┆ ilight      ┆ l_Twilight  │\n",
              "│ u32 ┆ u32    ┆ u32      ┆ u32        ┆   ┆ ---         ┆ ---         ┆ ---         ┆ ---         │\n",
              "│     ┆        ┆          ┆            ┆   ┆ u32         ┆ u32         ┆ u32         ┆ u32         │\n",
              "╞═════╪════════╪══════════╪════════════╪═══╪═════════════╪═════════════╪═════════════╪═════════════╡\n",
              "│ 0   ┆ 0      ┆ 0        ┆ 0          ┆ … ┆ 1636        ┆ 1636        ┆ 1636        ┆ 1636        │\n",
              "└─────┴────────┴──────────┴────────────┴───┴─────────────┴─────────────┴─────────────┴─────────────┘"
            ],
            "text/html": [
              "<div><style>\n",
              ".dataframe > thead > tr,\n",
              ".dataframe > tbody > tr {\n",
              "  text-align: right;\n",
              "  white-space: pre-wrap;\n",
              "}\n",
              "</style>\n",
              "<small>shape: (1, 41)</small><table border=\"1\" class=\"dataframe\"><thead><tr><th>ID</th><th>Source</th><th>Severity</th><th>Start_Time</th><th>Start_Lat</th><th>Start_Lng</th><th>Distance(mi)</th><th>Street</th><th>City</th><th>County</th><th>State</th><th>Zipcode</th><th>Country</th><th>Timezone</th><th>Airport_Code</th><th>Temperature(F)</th><th>Wind_Chill(F)</th><th>Humidity(%)</th><th>Pressure(in)</th><th>Visibility(mi)</th><th>Wind_Direction</th><th>Wind_Speed(mph)</th><th>Precipitation(in)</th><th>Weather_Condition</th><th>Amenity</th><th>Bump</th><th>Crossing</th><th>Give_Way</th><th>Junction</th><th>No_Exit</th><th>Railway</th><th>Roundabout</th><th>Station</th><th>Stop</th><th>Traffic_Calming</th><th>Traffic_Signal</th><th>Turning_Loop</th><th>Sunrise_Sunset</th><th>Civil_Twilight</th><th>Nautical_Twilight</th><th>Astronomical_Twilight</th></tr><tr><td>u32</td><td>u32</td><td>u32</td><td>u32</td><td>u32</td><td>u32</td><td>u32</td><td>u32</td><td>u32</td><td>u32</td><td>u32</td><td>u32</td><td>u32</td><td>u32</td><td>u32</td><td>u32</td><td>u32</td><td>u32</td><td>u32</td><td>u32</td><td>u32</td><td>u32</td><td>u32</td><td>u32</td><td>u32</td><td>u32</td><td>u32</td><td>u32</td><td>u32</td><td>u32</td><td>u32</td><td>u32</td><td>u32</td><td>u32</td><td>u32</td><td>u32</td><td>u32</td><td>u32</td><td>u32</td><td>u32</td><td>u32</td></tr></thead><tbody><tr><td>0</td><td>0</td><td>0</td><td>0</td><td>0</td><td>0</td><td>0</td><td>1712</td><td>28</td><td>0</td><td>0</td><td>136</td><td>0</td><td>453</td><td>1434</td><td>15308</td><td>460602</td><td>16563</td><td>12382</td><td>18938</td><td>13580</td><td>100408</td><td>475323</td><td>18218</td><td>0</td><td>0</td><td>0</td><td>0</td><td>0</td><td>0</td><td>0</td><td>0</td><td>0</td><td>0</td><td>0</td><td>0</td><td>0</td><td>1636</td><td>1636</td><td>1636</td><td>1636</td></tr></tbody></table></div>"
            ]
          },
          "metadata": {},
          "execution_count": 8
        }
      ]
    },
    {
      "cell_type": "code",
      "source": [
        "#Imputing null values in numerical features with last valid value in the particular column\n",
        "Df = Df.with_columns(pl.col(\"Temperature(F)\").fill_null(strategy=\"forward\"))\n",
        "Df = Df.with_columns(pl.col(\"Wind_Chill(F)\").fill_null(strategy=\"forward\"))\n",
        "Df = Df.with_columns(pl.col(\"Humidity(%)\").fill_null(strategy=\"forward\"))\n",
        "Df = Df.with_columns(pl.col(\"Pressure(in)\").fill_null(strategy=\"forward\"))\n",
        "Df = Df.with_columns(pl.col(\"Visibility(mi)\").fill_null(strategy=\"forward\"))\n",
        "Df = Df.with_columns(pl.col(\"Wind_Speed(mph)\").fill_null(strategy=\"forward\"))\n",
        "Df = Df.with_columns(pl.col(\"Precipitation(in)\").fill_null(strategy=\"forward\"))"
      ],
      "metadata": {
        "id": "5vgbCsR6V7eA"
      },
      "execution_count": 9,
      "outputs": []
    },
    {
      "cell_type": "code",
      "source": [
        "Df.select(pl.all().is_null().sum())"
      ],
      "metadata": {
        "colab": {
          "base_uri": "https://localhost:8080/",
          "height": 149
        },
        "id": "UhgT8-YsWx12",
        "outputId": "4e31a357-f793-46b7-dc07-5a62ab5cd714"
      },
      "execution_count": 10,
      "outputs": [
        {
          "output_type": "execute_result",
          "data": {
            "text/plain": [
              "shape: (1, 41)\n",
              "┌─────┬────────┬──────────┬────────────┬───┬─────────────┬─────────────┬─────────────┬─────────────┐\n",
              "│ ID  ┆ Source ┆ Severity ┆ Start_Time ┆ … ┆ Sunrise_Sun ┆ Civil_Twili ┆ Nautical_Tw ┆ Astronomica │\n",
              "│ --- ┆ ---    ┆ ---      ┆ ---        ┆   ┆ set         ┆ ght         ┆ ilight      ┆ l_Twilight  │\n",
              "│ u32 ┆ u32    ┆ u32      ┆ u32        ┆   ┆ ---         ┆ ---         ┆ ---         ┆ ---         │\n",
              "│     ┆        ┆          ┆            ┆   ┆ u32         ┆ u32         ┆ u32         ┆ u32         │\n",
              "╞═════╪════════╪══════════╪════════════╪═══╪═════════════╪═════════════╪═════════════╪═════════════╡\n",
              "│ 0   ┆ 0      ┆ 0        ┆ 0          ┆ … ┆ 1636        ┆ 1636        ┆ 1636        ┆ 1636        │\n",
              "└─────┴────────┴──────────┴────────────┴───┴─────────────┴─────────────┴─────────────┴─────────────┘"
            ],
            "text/html": [
              "<div><style>\n",
              ".dataframe > thead > tr,\n",
              ".dataframe > tbody > tr {\n",
              "  text-align: right;\n",
              "  white-space: pre-wrap;\n",
              "}\n",
              "</style>\n",
              "<small>shape: (1, 41)</small><table border=\"1\" class=\"dataframe\"><thead><tr><th>ID</th><th>Source</th><th>Severity</th><th>Start_Time</th><th>Start_Lat</th><th>Start_Lng</th><th>Distance(mi)</th><th>Street</th><th>City</th><th>County</th><th>State</th><th>Zipcode</th><th>Country</th><th>Timezone</th><th>Airport_Code</th><th>Temperature(F)</th><th>Wind_Chill(F)</th><th>Humidity(%)</th><th>Pressure(in)</th><th>Visibility(mi)</th><th>Wind_Direction</th><th>Wind_Speed(mph)</th><th>Precipitation(in)</th><th>Weather_Condition</th><th>Amenity</th><th>Bump</th><th>Crossing</th><th>Give_Way</th><th>Junction</th><th>No_Exit</th><th>Railway</th><th>Roundabout</th><th>Station</th><th>Stop</th><th>Traffic_Calming</th><th>Traffic_Signal</th><th>Turning_Loop</th><th>Sunrise_Sunset</th><th>Civil_Twilight</th><th>Nautical_Twilight</th><th>Astronomical_Twilight</th></tr><tr><td>u32</td><td>u32</td><td>u32</td><td>u32</td><td>u32</td><td>u32</td><td>u32</td><td>u32</td><td>u32</td><td>u32</td><td>u32</td><td>u32</td><td>u32</td><td>u32</td><td>u32</td><td>u32</td><td>u32</td><td>u32</td><td>u32</td><td>u32</td><td>u32</td><td>u32</td><td>u32</td><td>u32</td><td>u32</td><td>u32</td><td>u32</td><td>u32</td><td>u32</td><td>u32</td><td>u32</td><td>u32</td><td>u32</td><td>u32</td><td>u32</td><td>u32</td><td>u32</td><td>u32</td><td>u32</td><td>u32</td><td>u32</td></tr></thead><tbody><tr><td>0</td><td>0</td><td>0</td><td>0</td><td>0</td><td>0</td><td>0</td><td>1712</td><td>28</td><td>0</td><td>0</td><td>136</td><td>0</td><td>453</td><td>1434</td><td>0</td><td>2</td><td>0</td><td>0</td><td>0</td><td>13580</td><td>2</td><td>0</td><td>18218</td><td>0</td><td>0</td><td>0</td><td>0</td><td>0</td><td>0</td><td>0</td><td>0</td><td>0</td><td>0</td><td>0</td><td>0</td><td>0</td><td>1636</td><td>1636</td><td>1636</td><td>1636</td></tr></tbody></table></div>"
            ]
          },
          "metadata": {},
          "execution_count": 10
        }
      ]
    },
    {
      "cell_type": "code",
      "source": [
        "Df.head(2)"
      ],
      "metadata": {
        "colab": {
          "base_uri": "https://localhost:8080/",
          "height": 216
        },
        "id": "0xWckM5GW0Ft",
        "outputId": "e24d0450-77fc-4f75-f4d7-a2240aa3ec43"
      },
      "execution_count": 11,
      "outputs": [
        {
          "output_type": "execute_result",
          "data": {
            "text/plain": [
              "shape: (2, 41)\n",
              "┌─────┬─────────┬──────────┬─────────────┬───┬─────────────┬─────────────┬────────────┬────────────┐\n",
              "│ ID  ┆ Source  ┆ Severity ┆ Start_Time  ┆ … ┆ Sunrise_Sun ┆ Civil_Twili ┆ Nautical_T ┆ Astronomic │\n",
              "│ --- ┆ ---     ┆ ---      ┆ ---         ┆   ┆ set         ┆ ght         ┆ wilight    ┆ al_Twiligh │\n",
              "│ str ┆ str     ┆ i64      ┆ str         ┆   ┆ ---         ┆ ---         ┆ ---        ┆ t          │\n",
              "│     ┆         ┆          ┆             ┆   ┆ str         ┆ str         ┆ str        ┆ ---        │\n",
              "│     ┆         ┆          ┆             ┆   ┆             ┆             ┆            ┆ str        │\n",
              "╞═════╪═════════╪══════════╪═════════════╪═══╪═════════════╪═════════════╪════════════╪════════════╡\n",
              "│ A-1 ┆ Source2 ┆ 3        ┆ 2016-02-08  ┆ … ┆ Night       ┆ Night       ┆ Night      ┆ Night      │\n",
              "│     ┆         ┆          ┆ 05:46:00    ┆   ┆             ┆             ┆            ┆            │\n",
              "│ A-2 ┆ Source2 ┆ 2        ┆ 2016-02-08  ┆ … ┆ Night       ┆ Night       ┆ Night      ┆ Day        │\n",
              "│     ┆         ┆          ┆ 06:07:59    ┆   ┆             ┆             ┆            ┆            │\n",
              "└─────┴─────────┴──────────┴─────────────┴───┴─────────────┴─────────────┴────────────┴────────────┘"
            ],
            "text/html": [
              "<div><style>\n",
              ".dataframe > thead > tr,\n",
              ".dataframe > tbody > tr {\n",
              "  text-align: right;\n",
              "  white-space: pre-wrap;\n",
              "}\n",
              "</style>\n",
              "<small>shape: (2, 41)</small><table border=\"1\" class=\"dataframe\"><thead><tr><th>ID</th><th>Source</th><th>Severity</th><th>Start_Time</th><th>Start_Lat</th><th>Start_Lng</th><th>Distance(mi)</th><th>Street</th><th>City</th><th>County</th><th>State</th><th>Zipcode</th><th>Country</th><th>Timezone</th><th>Airport_Code</th><th>Temperature(F)</th><th>Wind_Chill(F)</th><th>Humidity(%)</th><th>Pressure(in)</th><th>Visibility(mi)</th><th>Wind_Direction</th><th>Wind_Speed(mph)</th><th>Precipitation(in)</th><th>Weather_Condition</th><th>Amenity</th><th>Bump</th><th>Crossing</th><th>Give_Way</th><th>Junction</th><th>No_Exit</th><th>Railway</th><th>Roundabout</th><th>Station</th><th>Stop</th><th>Traffic_Calming</th><th>Traffic_Signal</th><th>Turning_Loop</th><th>Sunrise_Sunset</th><th>Civil_Twilight</th><th>Nautical_Twilight</th><th>Astronomical_Twilight</th></tr><tr><td>str</td><td>str</td><td>i64</td><td>str</td><td>f64</td><td>f64</td><td>f64</td><td>str</td><td>str</td><td>str</td><td>str</td><td>str</td><td>str</td><td>str</td><td>str</td><td>f64</td><td>f64</td><td>f64</td><td>f64</td><td>f64</td><td>str</td><td>f64</td><td>f64</td><td>str</td><td>bool</td><td>bool</td><td>bool</td><td>bool</td><td>bool</td><td>bool</td><td>bool</td><td>bool</td><td>bool</td><td>bool</td><td>bool</td><td>bool</td><td>bool</td><td>str</td><td>str</td><td>str</td><td>str</td></tr></thead><tbody><tr><td>&quot;A-1&quot;</td><td>&quot;Source2&quot;</td><td>3</td><td>&quot;2016-02-08 05:46:00&quot;</td><td>39.865147</td><td>-84.058723</td><td>0.01</td><td>&quot;I-70 E&quot;</td><td>&quot;Dayton&quot;</td><td>&quot;Montgomery&quot;</td><td>&quot;OH&quot;</td><td>&quot;45424&quot;</td><td>&quot;US&quot;</td><td>&quot;US/Eastern&quot;</td><td>&quot;KFFO&quot;</td><td>36.9</td><td>null</td><td>91.0</td><td>29.68</td><td>10.0</td><td>&quot;Calm&quot;</td><td>null</td><td>0.02</td><td>&quot;Light Rain&quot;</td><td>false</td><td>false</td><td>false</td><td>false</td><td>false</td><td>false</td><td>false</td><td>false</td><td>false</td><td>false</td><td>false</td><td>false</td><td>false</td><td>&quot;Night&quot;</td><td>&quot;Night&quot;</td><td>&quot;Night&quot;</td><td>&quot;Night&quot;</td></tr><tr><td>&quot;A-2&quot;</td><td>&quot;Source2&quot;</td><td>2</td><td>&quot;2016-02-08 06:07:59&quot;</td><td>39.928059</td><td>-82.831184</td><td>0.01</td><td>&quot;Brice Rd&quot;</td><td>&quot;Reynoldsburg&quot;</td><td>&quot;Franklin&quot;</td><td>&quot;OH&quot;</td><td>&quot;43068-3402&quot;</td><td>&quot;US&quot;</td><td>&quot;US/Eastern&quot;</td><td>&quot;KCMH&quot;</td><td>37.9</td><td>null</td><td>100.0</td><td>29.65</td><td>10.0</td><td>&quot;Calm&quot;</td><td>null</td><td>0.0</td><td>&quot;Light Rain&quot;</td><td>false</td><td>false</td><td>false</td><td>false</td><td>false</td><td>false</td><td>false</td><td>false</td><td>false</td><td>false</td><td>false</td><td>false</td><td>false</td><td>&quot;Night&quot;</td><td>&quot;Night&quot;</td><td>&quot;Night&quot;</td><td>&quot;Day&quot;</td></tr></tbody></table></div>"
            ]
          },
          "metadata": {},
          "execution_count": 11
        }
      ]
    },
    {
      "cell_type": "code",
      "source": [
        "#Imputing string features with high null value count with forward strategy imputation:\n",
        "Df = Df.with_columns(pl.col(\"Wind_Direction\").fill_null(strategy=\"forward\"))\n",
        "Df = Df.with_columns(pl.col(\"Weather_Condition\").fill_null(strategy=\"forward\"))"
      ],
      "metadata": {
        "id": "lSKbG20kjZEb"
      },
      "execution_count": 12,
      "outputs": []
    },
    {
      "cell_type": "code",
      "source": [
        "#Dropping all remaining rows containing null values as they are lesser in number w.r.t. the size of the total dataset:\n",
        "Df = Df.drop_nulls(subset = [\"Street\",\"City\",\"Zipcode\",\"Timezone\",\"Airport_Code\",\"Wind_Chill(F)\",\"Wind_Speed(mph)\",\"Sunrise_Sunset\",\"Civil_Twilight\",\"Nautical_Twilight\",\"Astronomical_Twilight\"])"
      ],
      "metadata": {
        "id": "7oxQgjX6jzbf"
      },
      "execution_count": 13,
      "outputs": []
    },
    {
      "cell_type": "code",
      "source": [
        "Df.select(pl.all().is_null().sum())"
      ],
      "metadata": {
        "colab": {
          "base_uri": "https://localhost:8080/",
          "height": 149
        },
        "id": "wF4Glbxoj_6d",
        "outputId": "363ec09b-0b33-47c2-ac97-6d2d567016f8"
      },
      "execution_count": 14,
      "outputs": [
        {
          "output_type": "execute_result",
          "data": {
            "text/plain": [
              "shape: (1, 41)\n",
              "┌─────┬────────┬──────────┬────────────┬───┬─────────────┬─────────────┬─────────────┬─────────────┐\n",
              "│ ID  ┆ Source ┆ Severity ┆ Start_Time ┆ … ┆ Sunrise_Sun ┆ Civil_Twili ┆ Nautical_Tw ┆ Astronomica │\n",
              "│ --- ┆ ---    ┆ ---      ┆ ---        ┆   ┆ set         ┆ ght         ┆ ilight      ┆ l_Twilight  │\n",
              "│ u32 ┆ u32    ┆ u32      ┆ u32        ┆   ┆ ---         ┆ ---         ┆ ---         ┆ ---         │\n",
              "│     ┆        ┆          ┆            ┆   ┆ u32         ┆ u32         ┆ u32         ┆ u32         │\n",
              "╞═════╪════════╪══════════╪════════════╪═══╪═════════════╪═════════════╪═════════════╪═════════════╡\n",
              "│ 0   ┆ 0      ┆ 0        ┆ 0          ┆ … ┆ 0           ┆ 0           ┆ 0           ┆ 0           │\n",
              "└─────┴────────┴──────────┴────────────┴───┴─────────────┴─────────────┴─────────────┴─────────────┘"
            ],
            "text/html": [
              "<div><style>\n",
              ".dataframe > thead > tr,\n",
              ".dataframe > tbody > tr {\n",
              "  text-align: right;\n",
              "  white-space: pre-wrap;\n",
              "}\n",
              "</style>\n",
              "<small>shape: (1, 41)</small><table border=\"1\" class=\"dataframe\"><thead><tr><th>ID</th><th>Source</th><th>Severity</th><th>Start_Time</th><th>Start_Lat</th><th>Start_Lng</th><th>Distance(mi)</th><th>Street</th><th>City</th><th>County</th><th>State</th><th>Zipcode</th><th>Country</th><th>Timezone</th><th>Airport_Code</th><th>Temperature(F)</th><th>Wind_Chill(F)</th><th>Humidity(%)</th><th>Pressure(in)</th><th>Visibility(mi)</th><th>Wind_Direction</th><th>Wind_Speed(mph)</th><th>Precipitation(in)</th><th>Weather_Condition</th><th>Amenity</th><th>Bump</th><th>Crossing</th><th>Give_Way</th><th>Junction</th><th>No_Exit</th><th>Railway</th><th>Roundabout</th><th>Station</th><th>Stop</th><th>Traffic_Calming</th><th>Traffic_Signal</th><th>Turning_Loop</th><th>Sunrise_Sunset</th><th>Civil_Twilight</th><th>Nautical_Twilight</th><th>Astronomical_Twilight</th></tr><tr><td>u32</td><td>u32</td><td>u32</td><td>u32</td><td>u32</td><td>u32</td><td>u32</td><td>u32</td><td>u32</td><td>u32</td><td>u32</td><td>u32</td><td>u32</td><td>u32</td><td>u32</td><td>u32</td><td>u32</td><td>u32</td><td>u32</td><td>u32</td><td>u32</td><td>u32</td><td>u32</td><td>u32</td><td>u32</td><td>u32</td><td>u32</td><td>u32</td><td>u32</td><td>u32</td><td>u32</td><td>u32</td><td>u32</td><td>u32</td><td>u32</td><td>u32</td><td>u32</td><td>u32</td><td>u32</td><td>u32</td><td>u32</td></tr></thead><tbody><tr><td>0</td><td>0</td><td>0</td><td>0</td><td>0</td><td>0</td><td>0</td><td>0</td><td>0</td><td>0</td><td>0</td><td>0</td><td>0</td><td>0</td><td>0</td><td>0</td><td>0</td><td>0</td><td>0</td><td>0</td><td>0</td><td>0</td><td>0</td><td>0</td><td>0</td><td>0</td><td>0</td><td>0</td><td>0</td><td>0</td><td>0</td><td>0</td><td>0</td><td>0</td><td>0</td><td>0</td><td>0</td><td>0</td><td>0</td><td>0</td><td>0</td></tr></tbody></table></div>"
            ]
          },
          "metadata": {},
          "execution_count": 14
        }
      ]
    },
    {
      "cell_type": "markdown",
      "source": [
        "All null values have been taken care of."
      ],
      "metadata": {
        "id": "eLpyTkcGlALW"
      }
    },
    {
      "cell_type": "code",
      "source": [
        "#Removing the target variable before scaling\n",
        "target_series = Df['Severity']\n",
        "Df = Df.drop(['Severity'])"
      ],
      "metadata": {
        "id": "Lx2xwA5FPOfX"
      },
      "execution_count": 15,
      "outputs": []
    },
    {
      "cell_type": "markdown",
      "source": [
        "# Scaling Numerical features:"
      ],
      "metadata": {
        "id": "Ub12vvNPBFUH"
      }
    },
    {
      "cell_type": "code",
      "source": [
        "import polars.selectors as cs\n",
        "from sklearn.preprocessing import StandardScaler"
      ],
      "metadata": {
        "id": "nEA7d22jCOJQ"
      },
      "execution_count": 16,
      "outputs": []
    },
    {
      "cell_type": "code",
      "source": [
        "Df = Df.with_columns([\n",
        "    ((pl.col(x) - pl.col(x).mean()) / pl.col(x).std()).alias(x)\n",
        "    for x in Df.select(cs.numeric()).columns\n",
        "])"
      ],
      "metadata": {
        "id": "h5N5oDXYGkM5"
      },
      "execution_count": 17,
      "outputs": []
    },
    {
      "cell_type": "code",
      "source": [
        "Df"
      ],
      "metadata": {
        "colab": {
          "base_uri": "https://localhost:8080/",
          "height": 671
        },
        "id": "FyoKDrZoG9lT",
        "outputId": "4f6169ab-91af-4063-ebaa-da81e0bf361a"
      },
      "execution_count": 18,
      "outputs": [
        {
          "output_type": "execute_result",
          "data": {
            "text/plain": [
              "shape: (995_832, 40)\n",
              "┌───────────┬─────────┬────────────┬───────────┬───┬───────────┬───────────┬───────────┬───────────┐\n",
              "│ ID        ┆ Source  ┆ Start_Time ┆ Start_Lat ┆ … ┆ Sunrise_S ┆ Civil_Twi ┆ Nautical_ ┆ Astronomi │\n",
              "│ ---       ┆ ---     ┆ ---        ┆ ---       ┆   ┆ unset     ┆ light     ┆ Twilight  ┆ cal_Twili │\n",
              "│ str       ┆ str     ┆ str        ┆ f64       ┆   ┆ ---       ┆ ---       ┆ ---       ┆ ght       │\n",
              "│           ┆         ┆            ┆           ┆   ┆ str       ┆ str       ┆ str       ┆ ---       │\n",
              "│           ┆         ┆            ┆           ┆   ┆           ┆           ┆           ┆ str       │\n",
              "╞═══════════╪═════════╪════════════╪═══════════╪═══╪═══════════╪═══════════╪═══════════╪═══════════╡\n",
              "│ A-3       ┆ Source2 ┆ 2016-02-08 ┆ 0.611725  ┆ … ┆ Night     ┆ Night     ┆ Day       ┆ Day       │\n",
              "│           ┆         ┆ 06:49:27   ┆           ┆   ┆           ┆           ┆           ┆           │\n",
              "│ A-4       ┆ Source2 ┆ 2016-02-08 ┆ 0.751197  ┆ … ┆ Night     ┆ Day       ┆ Day       ┆ Day       │\n",
              "│           ┆         ┆ 07:23:34   ┆           ┆   ┆           ┆           ┆           ┆           │\n",
              "│ A-5       ┆ Source2 ┆ 2016-02-08 ┆ 0.726755  ┆ … ┆ Day       ┆ Day       ┆ Day       ┆ Day       │\n",
              "│           ┆         ┆ 07:39:07   ┆           ┆   ┆           ┆           ┆           ┆           │\n",
              "│ A-6       ┆ Source2 ┆ 2016-02-08 ┆ 0.823079  ┆ … ┆ Day       ┆ Day       ┆ Day       ┆ Day       │\n",
              "│           ┆         ┆ 07:44:26   ┆           ┆   ┆           ┆           ┆           ┆           │\n",
              "│ A-7       ┆ Source2 ┆ 2016-02-08 ┆ 0.75334   ┆ … ┆ Day       ┆ Day       ┆ Day       ┆ Day       │\n",
              "│           ┆         ┆ 07:59:35   ┆           ┆   ┆           ┆           ┆           ┆           │\n",
              "│ …         ┆ …       ┆ …          ┆ …         ┆ … ┆ …         ┆ …         ┆ …         ┆ …         │\n",
              "│ A-1010261 ┆ Source2 ┆ 2021-06-10 ┆ -0.643856 ┆ … ┆ Day       ┆ Day       ┆ Day       ┆ Day       │\n",
              "│           ┆         ┆ 11:25:11   ┆           ┆   ┆           ┆           ┆           ┆           │\n",
              "│ A-1010262 ┆ Source2 ┆ 2021-06-10 ┆ -0.666035 ┆ … ┆ Day       ┆ Day       ┆ Day       ┆ Day       │\n",
              "│           ┆         ┆ 12:10:55   ┆           ┆   ┆           ┆           ┆           ┆           │\n",
              "│ A-1010263 ┆ Source2 ┆ 2021-06-10 ┆ -0.651048 ┆ … ┆ Day       ┆ Day       ┆ Day       ┆ Day       │\n",
              "│           ┆         ┆ 12:19:56   ┆           ┆   ┆           ┆           ┆           ┆           │\n",
              "│ A-1010264 ┆ Source2 ┆ 2021-06-10 ┆ -0.665739 ┆ … ┆ Day       ┆ Day       ┆ Day       ┆ Day       │\n",
              "│           ┆         ┆ 12:37:52   ┆           ┆   ┆           ┆           ┆           ┆           │\n",
              "│ A-1010265 ┆ Source2 ┆ 2021-06-10 ┆ -0.641983 ┆ … ┆ Day       ┆ Day       ┆ Day       ┆ Day       │\n",
              "│           ┆         ┆ 14:16:20   ┆           ┆   ┆           ┆           ┆           ┆           │\n",
              "└───────────┴─────────┴────────────┴───────────┴───┴───────────┴───────────┴───────────┴───────────┘"
            ],
            "text/html": [
              "<div><style>\n",
              ".dataframe > thead > tr,\n",
              ".dataframe > tbody > tr {\n",
              "  text-align: right;\n",
              "  white-space: pre-wrap;\n",
              "}\n",
              "</style>\n",
              "<small>shape: (995_832, 40)</small><table border=\"1\" class=\"dataframe\"><thead><tr><th>ID</th><th>Source</th><th>Start_Time</th><th>Start_Lat</th><th>Start_Lng</th><th>Distance(mi)</th><th>Street</th><th>City</th><th>County</th><th>State</th><th>Zipcode</th><th>Country</th><th>Timezone</th><th>Airport_Code</th><th>Temperature(F)</th><th>Wind_Chill(F)</th><th>Humidity(%)</th><th>Pressure(in)</th><th>Visibility(mi)</th><th>Wind_Direction</th><th>Wind_Speed(mph)</th><th>Precipitation(in)</th><th>Weather_Condition</th><th>Amenity</th><th>Bump</th><th>Crossing</th><th>Give_Way</th><th>Junction</th><th>No_Exit</th><th>Railway</th><th>Roundabout</th><th>Station</th><th>Stop</th><th>Traffic_Calming</th><th>Traffic_Signal</th><th>Turning_Loop</th><th>Sunrise_Sunset</th><th>Civil_Twilight</th><th>Nautical_Twilight</th><th>Astronomical_Twilight</th></tr><tr><td>str</td><td>str</td><td>str</td><td>f64</td><td>f64</td><td>f64</td><td>str</td><td>str</td><td>str</td><td>str</td><td>str</td><td>str</td><td>str</td><td>str</td><td>f64</td><td>f64</td><td>f64</td><td>f64</td><td>f64</td><td>str</td><td>f64</td><td>f64</td><td>str</td><td>bool</td><td>bool</td><td>bool</td><td>bool</td><td>bool</td><td>bool</td><td>bool</td><td>bool</td><td>bool</td><td>bool</td><td>bool</td><td>bool</td><td>bool</td><td>str</td><td>str</td><td>str</td><td>str</td></tr></thead><tbody><tr><td>&quot;A-3&quot;</td><td>&quot;Source2&quot;</td><td>&quot;2016-02-08 06:49:27&quot;</td><td>0.611725</td><td>0.618225</td><td>-0.110022</td><td>&quot;State Route 32&quot;</td><td>&quot;Williamsburg&quot;</td><td>&quot;Clermont&quot;</td><td>&quot;OH&quot;</td><td>&quot;45176&quot;</td><td>&quot;US&quot;</td><td>&quot;US/Eastern&quot;</td><td>&quot;KI69&quot;</td><td>-1.640993</td><td>-1.211852</td><td>1.550824</td><td>-0.030468</td><td>0.366151</td><td>&quot;SW&quot;</td><td>-0.761427</td><td>-0.083077</td><td>&quot;Overcast&quot;</td><td>false</td><td>false</td><td>false</td><td>false</td><td>false</td><td>false</td><td>false</td><td>false</td><td>false</td><td>false</td><td>false</td><td>true</td><td>false</td><td>&quot;Night&quot;</td><td>&quot;Night&quot;</td><td>&quot;Day&quot;</td><td>&quot;Day&quot;</td></tr><tr><td>&quot;A-4&quot;</td><td>&quot;Source2&quot;</td><td>&quot;2016-02-08 07:23:34&quot;</td><td>0.751197</td><td>0.608281</td><td>-0.110022</td><td>&quot;I-75 S&quot;</td><td>&quot;Dayton&quot;</td><td>&quot;Montgomery&quot;</td><td>&quot;OH&quot;</td><td>&quot;45417&quot;</td><td>&quot;US&quot;</td><td>&quot;US/Eastern&quot;</td><td>&quot;KDAY&quot;</td><td>-1.692592</td><td>-1.323379</td><td>1.368134</td><td>-0.068358</td><td>-0.076316</td><td>&quot;SW&quot;</td><td>-0.557635</td><td>-0.083077</td><td>&quot;Mostly Cloudy&quot;</td><td>false</td><td>false</td><td>false</td><td>false</td><td>false</td><td>false</td><td>false</td><td>false</td><td>false</td><td>false</td><td>false</td><td>false</td><td>false</td><td>&quot;Night&quot;</td><td>&quot;Day&quot;</td><td>&quot;Day&quot;</td><td>&quot;Day&quot;</td></tr><tr><td>&quot;A-5&quot;</td><td>&quot;Source2&quot;</td><td>&quot;2016-02-08 07:39:07&quot;</td><td>0.726755</td><td>0.609271</td><td>-0.110022</td><td>&quot;Miamisburg Centerville Rd&quot;</td><td>&quot;Dayton&quot;</td><td>&quot;Montgomery&quot;</td><td>&quot;OH&quot;</td><td>&quot;45459&quot;</td><td>&quot;US&quot;</td><td>&quot;US/Eastern&quot;</td><td>&quot;KMGY&quot;</td><td>-1.640993</td><td>-1.211852</td><td>1.048427</td><td>-0.055728</td><td>-1.403715</td><td>&quot;SW&quot;</td><td>-0.761427</td><td>-0.083077</td><td>&quot;Mostly Cloudy&quot;</td><td>false</td><td>false</td><td>false</td><td>false</td><td>false</td><td>false</td><td>false</td><td>false</td><td>false</td><td>false</td><td>false</td><td>true</td><td>false</td><td>&quot;Day&quot;</td><td>&quot;Day&quot;</td><td>&quot;Day&quot;</td><td>&quot;Day&quot;</td></tr><tr><td>&quot;A-6&quot;</td><td>&quot;Source2&quot;</td><td>&quot;2016-02-08 07:44:26&quot;</td><td>0.823079</td><td>0.681893</td><td>-0.110022</td><td>&quot;Westerville Rd&quot;</td><td>&quot;Westerville&quot;</td><td>&quot;Franklin&quot;</td><td>&quot;OH&quot;</td><td>&quot;43081&quot;</td><td>&quot;US&quot;</td><td>&quot;US/Eastern&quot;</td><td>&quot;KCMH&quot;</td><td>-1.532061</td><td>-1.105173</td><td>1.413806</td><td>-0.080988</td><td>-0.961249</td><td>&quot;SSW&quot;</td><td>-0.761427</td><td>-0.037278</td><td>&quot;Light Rain&quot;</td><td>false</td><td>false</td><td>false</td><td>false</td><td>false</td><td>false</td><td>false</td><td>false</td><td>false</td><td>false</td><td>false</td><td>false</td><td>false</td><td>&quot;Day&quot;</td><td>&quot;Day&quot;</td><td>&quot;Day&quot;</td><td>&quot;Day&quot;</td></tr><tr><td>&quot;A-7&quot;</td><td>&quot;Source2&quot;</td><td>&quot;2016-02-08 07:59:35&quot;</td><td>0.75334</td><td>0.606848</td><td>-0.117097</td><td>&quot;N Woodward Ave&quot;</td><td>&quot;Dayton&quot;</td><td>&quot;Montgomery&quot;</td><td>&quot;OH&quot;</td><td>&quot;45417-2476&quot;</td><td>&quot;US&quot;</td><td>&quot;US/Eastern&quot;</td><td>&quot;KDAY&quot;</td><td>-1.755658</td><td>-1.323379</td><td>1.550824</td><td>-0.043098</td><td>-0.961249</td><td>&quot;WSW&quot;</td><td>-0.761427</td><td>-0.037278</td><td>&quot;Overcast&quot;</td><td>false</td><td>false</td><td>false</td><td>false</td><td>false</td><td>false</td><td>false</td><td>false</td><td>false</td><td>false</td><td>false</td><td>false</td><td>false</td><td>&quot;Day&quot;</td><td>&quot;Day&quot;</td><td>&quot;Day&quot;</td><td>&quot;Day&quot;</td></tr><tr><td>&hellip;</td><td>&hellip;</td><td>&hellip;</td><td>&hellip;</td><td>&hellip;</td><td>&hellip;</td><td>&hellip;</td><td>&hellip;</td><td>&hellip;</td><td>&hellip;</td><td>&hellip;</td><td>&hellip;</td><td>&hellip;</td><td>&hellip;</td><td>&hellip;</td><td>&hellip;</td><td>&hellip;</td><td>&hellip;</td><td>&hellip;</td><td>&hellip;</td><td>&hellip;</td><td>&hellip;</td><td>&hellip;</td><td>&hellip;</td><td>&hellip;</td><td>&hellip;</td><td>&hellip;</td><td>&hellip;</td><td>&hellip;</td><td>&hellip;</td><td>&hellip;</td><td>&hellip;</td><td>&hellip;</td><td>&hellip;</td><td>&hellip;</td><td>&hellip;</td><td>&hellip;</td><td>&hellip;</td><td>&hellip;</td><td>&hellip;</td></tr><tr><td>&quot;A-1010261&quot;</td><td>&quot;Source2&quot;</td><td>&quot;2021-06-10 11:25:11&quot;</td><td>-0.643856</td><td>-0.111083</td><td>-0.117097</td><td>&quot;Skillman St&quot;</td><td>&quot;Dallas&quot;</td><td>&quot;Dallas&quot;</td><td>&quot;TX&quot;</td><td>&quot;75243&quot;</td><td>&quot;US&quot;</td><td>&quot;US/Central&quot;</td><td>&quot;KADS&quot;</td><td>1.110973</td><td>1.246596</td><td>0.180651</td><td>-0.5483</td><td>0.366151</td><td>&quot;S&quot;</td><td>0.257531</td><td>-0.083077</td><td>&quot;Mostly Cloudy&quot;</td><td>false</td><td>false</td><td>false</td><td>false</td><td>false</td><td>false</td><td>false</td><td>false</td><td>false</td><td>false</td><td>false</td><td>true</td><td>false</td><td>&quot;Day&quot;</td><td>&quot;Day&quot;</td><td>&quot;Day&quot;</td><td>&quot;Day&quot;</td></tr><tr><td>&quot;A-1010262&quot;</td><td>&quot;Source2&quot;</td><td>&quot;2021-06-10 12:10:55&quot;</td><td>-0.666035</td><td>-0.112231</td><td>-0.117097</td><td>&quot;I-30 E&quot;</td><td>&quot;Dallas&quot;</td><td>&quot;Dallas&quot;</td><td>&quot;TX&quot;</td><td>&quot;75223&quot;</td><td>&quot;US&quot;</td><td>&quot;US/Central&quot;</td><td>&quot;KDAL&quot;</td><td>1.05364</td><td>1.198106</td><td>0.134979</td><td>-0.346219</td><td>0.366151</td><td>&quot;SSE&quot;</td><td>1.183857</td><td>-0.083077</td><td>&quot;Cloudy&quot;</td><td>false</td><td>false</td><td>false</td><td>false</td><td>false</td><td>false</td><td>false</td><td>false</td><td>false</td><td>false</td><td>false</td><td>false</td><td>false</td><td>&quot;Day&quot;</td><td>&quot;Day&quot;</td><td>&quot;Day&quot;</td><td>&quot;Day&quot;</td></tr><tr><td>&quot;A-1010263&quot;</td><td>&quot;Source2&quot;</td><td>&quot;2021-06-10 12:19:56&quot;</td><td>-0.651048</td><td>-0.101044</td><td>-0.117097</td><td>&quot;E Interstate 30&quot;</td><td>&quot;Garland&quot;</td><td>&quot;Dallas&quot;</td><td>&quot;TX&quot;</td><td>&quot;75043-4453&quot;</td><td>&quot;US&quot;</td><td>&quot;US/Central&quot;</td><td>&quot;KHQZ&quot;</td><td>1.110973</td><td>1.246596</td><td>0.180651</td><td>-0.257809</td><td>0.366151</td><td>&quot;S&quot;</td><td>0.813327</td><td>-0.083077</td><td>&quot;Mostly Cloudy&quot;</td><td>false</td><td>false</td><td>false</td><td>false</td><td>false</td><td>false</td><td>false</td><td>false</td><td>false</td><td>false</td><td>false</td><td>false</td><td>false</td><td>&quot;Day&quot;</td><td>&quot;Day&quot;</td><td>&quot;Day&quot;</td><td>&quot;Day&quot;</td></tr><tr><td>&quot;A-1010264&quot;</td><td>&quot;Source2&quot;</td><td>&quot;2021-06-10 12:37:52&quot;</td><td>-0.665739</td><td>-0.105705</td><td>-0.117097</td><td>&quot;US-80 W&quot;</td><td>&quot;Mesquite&quot;</td><td>&quot;Dallas&quot;</td><td>&quot;TX&quot;</td><td>&quot;75150&quot;</td><td>&quot;US&quot;</td><td>&quot;US/Central&quot;</td><td>&quot;KHQZ&quot;</td><td>1.110973</td><td>1.246596</td><td>0.180651</td><td>-0.283069</td><td>0.366151</td><td>&quot;S&quot;</td><td>1.369122</td><td>-0.083077</td><td>&quot;Mostly Cloudy&quot;</td><td>false</td><td>false</td><td>false</td><td>false</td><td>false</td><td>false</td><td>false</td><td>false</td><td>false</td><td>false</td><td>false</td><td>false</td><td>false</td><td>&quot;Day&quot;</td><td>&quot;Day&quot;</td><td>&quot;Day&quot;</td><td>&quot;Day&quot;</td></tr><tr><td>&quot;A-1010265&quot;</td><td>&quot;Source2&quot;</td><td>&quot;2021-06-10 14:16:20&quot;</td><td>-0.641983</td><td>-0.114009</td><td>-0.117097</td><td>&quot;Forest Ln&quot;</td><td>&quot;Dallas&quot;</td><td>&quot;Dallas&quot;</td><td>&quot;TX&quot;</td><td>&quot;75243&quot;</td><td>&quot;US&quot;</td><td>&quot;US/Central&quot;</td><td>&quot;KADS&quot;</td><td>1.225638</td><td>1.246596</td><td>-0.184728</td><td>-0.57356</td><td>1.69355</td><td>&quot;S&quot;</td><td>1.369122</td><td>-0.083077</td><td>&quot;Cloudy&quot;</td><td>false</td><td>false</td><td>false</td><td>false</td><td>false</td><td>false</td><td>false</td><td>false</td><td>false</td><td>false</td><td>false</td><td>true</td><td>false</td><td>&quot;Day&quot;</td><td>&quot;Day&quot;</td><td>&quot;Day&quot;</td><td>&quot;Day&quot;</td></tr></tbody></table></div>"
            ]
          },
          "metadata": {},
          "execution_count": 18
        }
      ]
    },
    {
      "cell_type": "markdown",
      "source": [
        "# Encoding Boolean features:"
      ],
      "metadata": {
        "id": "_wUrTZ6ie5pp"
      }
    },
    {
      "cell_type": "code",
      "source": [
        "Df.head(2)"
      ],
      "metadata": {
        "id": "fWoIW46ce_fi",
        "outputId": "0800ef71-1749-4f8f-e5f3-25ffb4d3a7b9",
        "colab": {
          "base_uri": "https://localhost:8080/",
          "height": 233
        }
      },
      "execution_count": 19,
      "outputs": [
        {
          "output_type": "execute_result",
          "data": {
            "text/plain": [
              "shape: (2, 40)\n",
              "┌─────┬─────────┬─────────────┬───────────┬───┬─────────────┬────────────┬────────────┬────────────┐\n",
              "│ ID  ┆ Source  ┆ Start_Time  ┆ Start_Lat ┆ … ┆ Sunrise_Sun ┆ Civil_Twil ┆ Nautical_T ┆ Astronomic │\n",
              "│ --- ┆ ---     ┆ ---         ┆ ---       ┆   ┆ set         ┆ ight       ┆ wilight    ┆ al_Twiligh │\n",
              "│ str ┆ str     ┆ str         ┆ f64       ┆   ┆ ---         ┆ ---        ┆ ---        ┆ t          │\n",
              "│     ┆         ┆             ┆           ┆   ┆ str         ┆ str        ┆ str        ┆ ---        │\n",
              "│     ┆         ┆             ┆           ┆   ┆             ┆            ┆            ┆ str        │\n",
              "╞═════╪═════════╪═════════════╪═══════════╪═══╪═════════════╪════════════╪════════════╪════════════╡\n",
              "│ A-3 ┆ Source2 ┆ 2016-02-08  ┆ 0.611725  ┆ … ┆ Night       ┆ Night      ┆ Day        ┆ Day        │\n",
              "│     ┆         ┆ 06:49:27    ┆           ┆   ┆             ┆            ┆            ┆            │\n",
              "│ A-4 ┆ Source2 ┆ 2016-02-08  ┆ 0.751197  ┆ … ┆ Night       ┆ Day        ┆ Day        ┆ Day        │\n",
              "│     ┆         ┆ 07:23:34    ┆           ┆   ┆             ┆            ┆            ┆            │\n",
              "└─────┴─────────┴─────────────┴───────────┴───┴─────────────┴────────────┴────────────┴────────────┘"
            ],
            "text/html": [
              "<div><style>\n",
              ".dataframe > thead > tr,\n",
              ".dataframe > tbody > tr {\n",
              "  text-align: right;\n",
              "  white-space: pre-wrap;\n",
              "}\n",
              "</style>\n",
              "<small>shape: (2, 40)</small><table border=\"1\" class=\"dataframe\"><thead><tr><th>ID</th><th>Source</th><th>Start_Time</th><th>Start_Lat</th><th>Start_Lng</th><th>Distance(mi)</th><th>Street</th><th>City</th><th>County</th><th>State</th><th>Zipcode</th><th>Country</th><th>Timezone</th><th>Airport_Code</th><th>Temperature(F)</th><th>Wind_Chill(F)</th><th>Humidity(%)</th><th>Pressure(in)</th><th>Visibility(mi)</th><th>Wind_Direction</th><th>Wind_Speed(mph)</th><th>Precipitation(in)</th><th>Weather_Condition</th><th>Amenity</th><th>Bump</th><th>Crossing</th><th>Give_Way</th><th>Junction</th><th>No_Exit</th><th>Railway</th><th>Roundabout</th><th>Station</th><th>Stop</th><th>Traffic_Calming</th><th>Traffic_Signal</th><th>Turning_Loop</th><th>Sunrise_Sunset</th><th>Civil_Twilight</th><th>Nautical_Twilight</th><th>Astronomical_Twilight</th></tr><tr><td>str</td><td>str</td><td>str</td><td>f64</td><td>f64</td><td>f64</td><td>str</td><td>str</td><td>str</td><td>str</td><td>str</td><td>str</td><td>str</td><td>str</td><td>f64</td><td>f64</td><td>f64</td><td>f64</td><td>f64</td><td>str</td><td>f64</td><td>f64</td><td>str</td><td>bool</td><td>bool</td><td>bool</td><td>bool</td><td>bool</td><td>bool</td><td>bool</td><td>bool</td><td>bool</td><td>bool</td><td>bool</td><td>bool</td><td>bool</td><td>str</td><td>str</td><td>str</td><td>str</td></tr></thead><tbody><tr><td>&quot;A-3&quot;</td><td>&quot;Source2&quot;</td><td>&quot;2016-02-08 06:49:27&quot;</td><td>0.611725</td><td>0.618225</td><td>-0.110022</td><td>&quot;State Route 32&quot;</td><td>&quot;Williamsburg&quot;</td><td>&quot;Clermont&quot;</td><td>&quot;OH&quot;</td><td>&quot;45176&quot;</td><td>&quot;US&quot;</td><td>&quot;US/Eastern&quot;</td><td>&quot;KI69&quot;</td><td>-1.640993</td><td>-1.211852</td><td>1.550824</td><td>-0.030468</td><td>0.366151</td><td>&quot;SW&quot;</td><td>-0.761427</td><td>-0.083077</td><td>&quot;Overcast&quot;</td><td>false</td><td>false</td><td>false</td><td>false</td><td>false</td><td>false</td><td>false</td><td>false</td><td>false</td><td>false</td><td>false</td><td>true</td><td>false</td><td>&quot;Night&quot;</td><td>&quot;Night&quot;</td><td>&quot;Day&quot;</td><td>&quot;Day&quot;</td></tr><tr><td>&quot;A-4&quot;</td><td>&quot;Source2&quot;</td><td>&quot;2016-02-08 07:23:34&quot;</td><td>0.751197</td><td>0.608281</td><td>-0.110022</td><td>&quot;I-75 S&quot;</td><td>&quot;Dayton&quot;</td><td>&quot;Montgomery&quot;</td><td>&quot;OH&quot;</td><td>&quot;45417&quot;</td><td>&quot;US&quot;</td><td>&quot;US/Eastern&quot;</td><td>&quot;KDAY&quot;</td><td>-1.692592</td><td>-1.323379</td><td>1.368134</td><td>-0.068358</td><td>-0.076316</td><td>&quot;SW&quot;</td><td>-0.557635</td><td>-0.083077</td><td>&quot;Mostly Cloudy&quot;</td><td>false</td><td>false</td><td>false</td><td>false</td><td>false</td><td>false</td><td>false</td><td>false</td><td>false</td><td>false</td><td>false</td><td>false</td><td>false</td><td>&quot;Night&quot;</td><td>&quot;Day&quot;</td><td>&quot;Day&quot;</td><td>&quot;Day&quot;</td></tr></tbody></table></div>"
            ]
          },
          "metadata": {},
          "execution_count": 19
        }
      ]
    },
    {
      "cell_type": "code",
      "source": [
        "Df = Df.with_columns([\n",
        "    pl.col(\"Amenity\").cast(pl.Float32),\n",
        "    pl.col(\"Bump\").cast(pl.Float32),\n",
        "    pl.col(\"Crossing\").cast(pl.Float32),\n",
        "    pl.col(\"Give_Way\").cast(pl.Float32),\n",
        "    pl.col(\"Junction\").cast(pl.Float32),\n",
        "    pl.col(\"No_Exit\").cast(pl.Float32),\n",
        "    pl.col(\"Railway\").cast(pl.Float32),\n",
        "    pl.col(\"Roundabout\").cast(pl.Float32),\n",
        "    pl.col(\"Station\").cast(pl.Float32),\n",
        "    pl.col(\"Stop\").cast(pl.Float32),\n",
        "    pl.col(\"Traffic_Calming\").cast(pl.Float32),\n",
        "    pl.col(\"Traffic_Signal\").cast(pl.Float32),\n",
        "    pl.col(\"Turning_Loop\").cast(pl.Float32)\n",
        "])"
      ],
      "metadata": {
        "id": "DMRyOMb0zk-A"
      },
      "execution_count": 20,
      "outputs": []
    },
    {
      "cell_type": "code",
      "source": [
        "Df.head(2)"
      ],
      "metadata": {
        "colab": {
          "base_uri": "https://localhost:8080/",
          "height": 233
        },
        "id": "Ri14KdZ30eck",
        "outputId": "ee3a8435-b992-4f2b-f9b2-6b3454545b1b"
      },
      "execution_count": 21,
      "outputs": [
        {
          "output_type": "execute_result",
          "data": {
            "text/plain": [
              "shape: (2, 40)\n",
              "┌─────┬─────────┬─────────────┬───────────┬───┬─────────────┬────────────┬────────────┬────────────┐\n",
              "│ ID  ┆ Source  ┆ Start_Time  ┆ Start_Lat ┆ … ┆ Sunrise_Sun ┆ Civil_Twil ┆ Nautical_T ┆ Astronomic │\n",
              "│ --- ┆ ---     ┆ ---         ┆ ---       ┆   ┆ set         ┆ ight       ┆ wilight    ┆ al_Twiligh │\n",
              "│ str ┆ str     ┆ str         ┆ f64       ┆   ┆ ---         ┆ ---        ┆ ---        ┆ t          │\n",
              "│     ┆         ┆             ┆           ┆   ┆ str         ┆ str        ┆ str        ┆ ---        │\n",
              "│     ┆         ┆             ┆           ┆   ┆             ┆            ┆            ┆ str        │\n",
              "╞═════╪═════════╪═════════════╪═══════════╪═══╪═════════════╪════════════╪════════════╪════════════╡\n",
              "│ A-3 ┆ Source2 ┆ 2016-02-08  ┆ 0.611725  ┆ … ┆ Night       ┆ Night      ┆ Day        ┆ Day        │\n",
              "│     ┆         ┆ 06:49:27    ┆           ┆   ┆             ┆            ┆            ┆            │\n",
              "│ A-4 ┆ Source2 ┆ 2016-02-08  ┆ 0.751197  ┆ … ┆ Night       ┆ Day        ┆ Day        ┆ Day        │\n",
              "│     ┆         ┆ 07:23:34    ┆           ┆   ┆             ┆            ┆            ┆            │\n",
              "└─────┴─────────┴─────────────┴───────────┴───┴─────────────┴────────────┴────────────┴────────────┘"
            ],
            "text/html": [
              "<div><style>\n",
              ".dataframe > thead > tr,\n",
              ".dataframe > tbody > tr {\n",
              "  text-align: right;\n",
              "  white-space: pre-wrap;\n",
              "}\n",
              "</style>\n",
              "<small>shape: (2, 40)</small><table border=\"1\" class=\"dataframe\"><thead><tr><th>ID</th><th>Source</th><th>Start_Time</th><th>Start_Lat</th><th>Start_Lng</th><th>Distance(mi)</th><th>Street</th><th>City</th><th>County</th><th>State</th><th>Zipcode</th><th>Country</th><th>Timezone</th><th>Airport_Code</th><th>Temperature(F)</th><th>Wind_Chill(F)</th><th>Humidity(%)</th><th>Pressure(in)</th><th>Visibility(mi)</th><th>Wind_Direction</th><th>Wind_Speed(mph)</th><th>Precipitation(in)</th><th>Weather_Condition</th><th>Amenity</th><th>Bump</th><th>Crossing</th><th>Give_Way</th><th>Junction</th><th>No_Exit</th><th>Railway</th><th>Roundabout</th><th>Station</th><th>Stop</th><th>Traffic_Calming</th><th>Traffic_Signal</th><th>Turning_Loop</th><th>Sunrise_Sunset</th><th>Civil_Twilight</th><th>Nautical_Twilight</th><th>Astronomical_Twilight</th></tr><tr><td>str</td><td>str</td><td>str</td><td>f64</td><td>f64</td><td>f64</td><td>str</td><td>str</td><td>str</td><td>str</td><td>str</td><td>str</td><td>str</td><td>str</td><td>f64</td><td>f64</td><td>f64</td><td>f64</td><td>f64</td><td>str</td><td>f64</td><td>f64</td><td>str</td><td>f32</td><td>f32</td><td>f32</td><td>f32</td><td>f32</td><td>f32</td><td>f32</td><td>f32</td><td>f32</td><td>f32</td><td>f32</td><td>f32</td><td>f32</td><td>str</td><td>str</td><td>str</td><td>str</td></tr></thead><tbody><tr><td>&quot;A-3&quot;</td><td>&quot;Source2&quot;</td><td>&quot;2016-02-08 06:49:27&quot;</td><td>0.611725</td><td>0.618225</td><td>-0.110022</td><td>&quot;State Route 32&quot;</td><td>&quot;Williamsburg&quot;</td><td>&quot;Clermont&quot;</td><td>&quot;OH&quot;</td><td>&quot;45176&quot;</td><td>&quot;US&quot;</td><td>&quot;US/Eastern&quot;</td><td>&quot;KI69&quot;</td><td>-1.640993</td><td>-1.211852</td><td>1.550824</td><td>-0.030468</td><td>0.366151</td><td>&quot;SW&quot;</td><td>-0.761427</td><td>-0.083077</td><td>&quot;Overcast&quot;</td><td>0.0</td><td>0.0</td><td>0.0</td><td>0.0</td><td>0.0</td><td>0.0</td><td>0.0</td><td>0.0</td><td>0.0</td><td>0.0</td><td>0.0</td><td>1.0</td><td>0.0</td><td>&quot;Night&quot;</td><td>&quot;Night&quot;</td><td>&quot;Day&quot;</td><td>&quot;Day&quot;</td></tr><tr><td>&quot;A-4&quot;</td><td>&quot;Source2&quot;</td><td>&quot;2016-02-08 07:23:34&quot;</td><td>0.751197</td><td>0.608281</td><td>-0.110022</td><td>&quot;I-75 S&quot;</td><td>&quot;Dayton&quot;</td><td>&quot;Montgomery&quot;</td><td>&quot;OH&quot;</td><td>&quot;45417&quot;</td><td>&quot;US&quot;</td><td>&quot;US/Eastern&quot;</td><td>&quot;KDAY&quot;</td><td>-1.692592</td><td>-1.323379</td><td>1.368134</td><td>-0.068358</td><td>-0.076316</td><td>&quot;SW&quot;</td><td>-0.557635</td><td>-0.083077</td><td>&quot;Mostly Cloudy&quot;</td><td>0.0</td><td>0.0</td><td>0.0</td><td>0.0</td><td>0.0</td><td>0.0</td><td>0.0</td><td>0.0</td><td>0.0</td><td>0.0</td><td>0.0</td><td>0.0</td><td>0.0</td><td>&quot;Night&quot;</td><td>&quot;Day&quot;</td><td>&quot;Day&quot;</td><td>&quot;Day&quot;</td></tr></tbody></table></div>"
            ]
          },
          "metadata": {},
          "execution_count": 21
        }
      ]
    },
    {
      "cell_type": "markdown",
      "source": [
        "# Casting all non-categorical features to float32:"
      ],
      "metadata": {
        "id": "5koaxGdV0qyj"
      }
    },
    {
      "cell_type": "code",
      "source": [
        "Df.head(2)"
      ],
      "metadata": {
        "colab": {
          "base_uri": "https://localhost:8080/",
          "height": 233
        },
        "id": "9j9Ifw0Q0wAa",
        "outputId": "0eaf8325-0de1-4ab6-9439-bd7196014ae6"
      },
      "execution_count": 22,
      "outputs": [
        {
          "output_type": "execute_result",
          "data": {
            "text/plain": [
              "shape: (2, 40)\n",
              "┌─────┬─────────┬─────────────┬───────────┬───┬─────────────┬────────────┬────────────┬────────────┐\n",
              "│ ID  ┆ Source  ┆ Start_Time  ┆ Start_Lat ┆ … ┆ Sunrise_Sun ┆ Civil_Twil ┆ Nautical_T ┆ Astronomic │\n",
              "│ --- ┆ ---     ┆ ---         ┆ ---       ┆   ┆ set         ┆ ight       ┆ wilight    ┆ al_Twiligh │\n",
              "│ str ┆ str     ┆ str         ┆ f64       ┆   ┆ ---         ┆ ---        ┆ ---        ┆ t          │\n",
              "│     ┆         ┆             ┆           ┆   ┆ str         ┆ str        ┆ str        ┆ ---        │\n",
              "│     ┆         ┆             ┆           ┆   ┆             ┆            ┆            ┆ str        │\n",
              "╞═════╪═════════╪═════════════╪═══════════╪═══╪═════════════╪════════════╪════════════╪════════════╡\n",
              "│ A-3 ┆ Source2 ┆ 2016-02-08  ┆ 0.611725  ┆ … ┆ Night       ┆ Night      ┆ Day        ┆ Day        │\n",
              "│     ┆         ┆ 06:49:27    ┆           ┆   ┆             ┆            ┆            ┆            │\n",
              "│ A-4 ┆ Source2 ┆ 2016-02-08  ┆ 0.751197  ┆ … ┆ Night       ┆ Day        ┆ Day        ┆ Day        │\n",
              "│     ┆         ┆ 07:23:34    ┆           ┆   ┆             ┆            ┆            ┆            │\n",
              "└─────┴─────────┴─────────────┴───────────┴───┴─────────────┴────────────┴────────────┴────────────┘"
            ],
            "text/html": [
              "<div><style>\n",
              ".dataframe > thead > tr,\n",
              ".dataframe > tbody > tr {\n",
              "  text-align: right;\n",
              "  white-space: pre-wrap;\n",
              "}\n",
              "</style>\n",
              "<small>shape: (2, 40)</small><table border=\"1\" class=\"dataframe\"><thead><tr><th>ID</th><th>Source</th><th>Start_Time</th><th>Start_Lat</th><th>Start_Lng</th><th>Distance(mi)</th><th>Street</th><th>City</th><th>County</th><th>State</th><th>Zipcode</th><th>Country</th><th>Timezone</th><th>Airport_Code</th><th>Temperature(F)</th><th>Wind_Chill(F)</th><th>Humidity(%)</th><th>Pressure(in)</th><th>Visibility(mi)</th><th>Wind_Direction</th><th>Wind_Speed(mph)</th><th>Precipitation(in)</th><th>Weather_Condition</th><th>Amenity</th><th>Bump</th><th>Crossing</th><th>Give_Way</th><th>Junction</th><th>No_Exit</th><th>Railway</th><th>Roundabout</th><th>Station</th><th>Stop</th><th>Traffic_Calming</th><th>Traffic_Signal</th><th>Turning_Loop</th><th>Sunrise_Sunset</th><th>Civil_Twilight</th><th>Nautical_Twilight</th><th>Astronomical_Twilight</th></tr><tr><td>str</td><td>str</td><td>str</td><td>f64</td><td>f64</td><td>f64</td><td>str</td><td>str</td><td>str</td><td>str</td><td>str</td><td>str</td><td>str</td><td>str</td><td>f64</td><td>f64</td><td>f64</td><td>f64</td><td>f64</td><td>str</td><td>f64</td><td>f64</td><td>str</td><td>f32</td><td>f32</td><td>f32</td><td>f32</td><td>f32</td><td>f32</td><td>f32</td><td>f32</td><td>f32</td><td>f32</td><td>f32</td><td>f32</td><td>f32</td><td>str</td><td>str</td><td>str</td><td>str</td></tr></thead><tbody><tr><td>&quot;A-3&quot;</td><td>&quot;Source2&quot;</td><td>&quot;2016-02-08 06:49:27&quot;</td><td>0.611725</td><td>0.618225</td><td>-0.110022</td><td>&quot;State Route 32&quot;</td><td>&quot;Williamsburg&quot;</td><td>&quot;Clermont&quot;</td><td>&quot;OH&quot;</td><td>&quot;45176&quot;</td><td>&quot;US&quot;</td><td>&quot;US/Eastern&quot;</td><td>&quot;KI69&quot;</td><td>-1.640993</td><td>-1.211852</td><td>1.550824</td><td>-0.030468</td><td>0.366151</td><td>&quot;SW&quot;</td><td>-0.761427</td><td>-0.083077</td><td>&quot;Overcast&quot;</td><td>0.0</td><td>0.0</td><td>0.0</td><td>0.0</td><td>0.0</td><td>0.0</td><td>0.0</td><td>0.0</td><td>0.0</td><td>0.0</td><td>0.0</td><td>1.0</td><td>0.0</td><td>&quot;Night&quot;</td><td>&quot;Night&quot;</td><td>&quot;Day&quot;</td><td>&quot;Day&quot;</td></tr><tr><td>&quot;A-4&quot;</td><td>&quot;Source2&quot;</td><td>&quot;2016-02-08 07:23:34&quot;</td><td>0.751197</td><td>0.608281</td><td>-0.110022</td><td>&quot;I-75 S&quot;</td><td>&quot;Dayton&quot;</td><td>&quot;Montgomery&quot;</td><td>&quot;OH&quot;</td><td>&quot;45417&quot;</td><td>&quot;US&quot;</td><td>&quot;US/Eastern&quot;</td><td>&quot;KDAY&quot;</td><td>-1.692592</td><td>-1.323379</td><td>1.368134</td><td>-0.068358</td><td>-0.076316</td><td>&quot;SW&quot;</td><td>-0.557635</td><td>-0.083077</td><td>&quot;Mostly Cloudy&quot;</td><td>0.0</td><td>0.0</td><td>0.0</td><td>0.0</td><td>0.0</td><td>0.0</td><td>0.0</td><td>0.0</td><td>0.0</td><td>0.0</td><td>0.0</td><td>0.0</td><td>0.0</td><td>&quot;Night&quot;</td><td>&quot;Day&quot;</td><td>&quot;Day&quot;</td><td>&quot;Day&quot;</td></tr></tbody></table></div>"
            ]
          },
          "metadata": {},
          "execution_count": 22
        }
      ]
    },
    {
      "cell_type": "code",
      "source": [
        "Df = Df.with_columns([\n",
        "    (pl.col(\"Start_Lat\").cast(pl.Float32)),\n",
        "    (pl.col(\"Start_Lng\").cast(pl.Float32)),\n",
        "    (pl.col(\"Distance(mi)\").cast(pl.Float32)),\n",
        "    (pl.col(\"Temperature(F)\").cast(pl.Float32)),\n",
        "    (pl.col(\"Wind_Chill(F)\").cast(pl.Float32)),\n",
        "    (pl.col(\"Humidity(%)\").cast(pl.Float32)),\n",
        "    (pl.col(\"Pressure(in)\").cast(pl.Float32)),\n",
        "    (pl.col(\"Visibility(mi)\").cast(pl.Float32)),\n",
        "    (pl.col(\"Precipitation(in)\").cast(pl.Float32)),\n",
        "]\n",
        ")"
      ],
      "metadata": {
        "id": "nJFyh5jF_-Eq"
      },
      "execution_count": 29,
      "outputs": []
    },
    {
      "cell_type": "code",
      "source": [
        "Df.head(2)"
      ],
      "metadata": {
        "colab": {
          "base_uri": "https://localhost:8080/",
          "height": 233
        },
        "id": "OoaadAmMAZWQ",
        "outputId": "99cd7fb6-c1aa-4796-c8c3-5da3ac6d7321"
      },
      "execution_count": 30,
      "outputs": [
        {
          "output_type": "execute_result",
          "data": {
            "text/plain": [
              "shape: (2, 40)\n",
              "┌─────┬─────────┬─────────────┬───────────┬───┬─────────────┬────────────┬────────────┬────────────┐\n",
              "│ ID  ┆ Source  ┆ Start_Time  ┆ Start_Lat ┆ … ┆ Sunrise_Sun ┆ Civil_Twil ┆ Nautical_T ┆ Astronomic │\n",
              "│ --- ┆ ---     ┆ ---         ┆ ---       ┆   ┆ set         ┆ ight       ┆ wilight    ┆ al_Twiligh │\n",
              "│ str ┆ str     ┆ str         ┆ f32       ┆   ┆ ---         ┆ ---        ┆ ---        ┆ t          │\n",
              "│     ┆         ┆             ┆           ┆   ┆ str         ┆ str        ┆ str        ┆ ---        │\n",
              "│     ┆         ┆             ┆           ┆   ┆             ┆            ┆            ┆ str        │\n",
              "╞═════╪═════════╪═════════════╪═══════════╪═══╪═════════════╪════════════╪════════════╪════════════╡\n",
              "│ A-3 ┆ Source2 ┆ 2016-02-08  ┆ 0.611725  ┆ … ┆ Night       ┆ Night      ┆ Day        ┆ Day        │\n",
              "│     ┆         ┆ 06:49:27    ┆           ┆   ┆             ┆            ┆            ┆            │\n",
              "│ A-4 ┆ Source2 ┆ 2016-02-08  ┆ 0.751197  ┆ … ┆ Night       ┆ Day        ┆ Day        ┆ Day        │\n",
              "│     ┆         ┆ 07:23:34    ┆           ┆   ┆             ┆            ┆            ┆            │\n",
              "└─────┴─────────┴─────────────┴───────────┴───┴─────────────┴────────────┴────────────┴────────────┘"
            ],
            "text/html": [
              "<div><style>\n",
              ".dataframe > thead > tr,\n",
              ".dataframe > tbody > tr {\n",
              "  text-align: right;\n",
              "  white-space: pre-wrap;\n",
              "}\n",
              "</style>\n",
              "<small>shape: (2, 40)</small><table border=\"1\" class=\"dataframe\"><thead><tr><th>ID</th><th>Source</th><th>Start_Time</th><th>Start_Lat</th><th>Start_Lng</th><th>Distance(mi)</th><th>Street</th><th>City</th><th>County</th><th>State</th><th>Zipcode</th><th>Country</th><th>Timezone</th><th>Airport_Code</th><th>Temperature(F)</th><th>Wind_Chill(F)</th><th>Humidity(%)</th><th>Pressure(in)</th><th>Visibility(mi)</th><th>Wind_Direction</th><th>Wind_Speed(mph)</th><th>Precipitation(in)</th><th>Weather_Condition</th><th>Amenity</th><th>Bump</th><th>Crossing</th><th>Give_Way</th><th>Junction</th><th>No_Exit</th><th>Railway</th><th>Roundabout</th><th>Station</th><th>Stop</th><th>Traffic_Calming</th><th>Traffic_Signal</th><th>Turning_Loop</th><th>Sunrise_Sunset</th><th>Civil_Twilight</th><th>Nautical_Twilight</th><th>Astronomical_Twilight</th></tr><tr><td>str</td><td>str</td><td>str</td><td>f32</td><td>f32</td><td>f32</td><td>str</td><td>str</td><td>str</td><td>str</td><td>str</td><td>str</td><td>str</td><td>str</td><td>f32</td><td>f32</td><td>f32</td><td>f32</td><td>f32</td><td>str</td><td>f64</td><td>f32</td><td>str</td><td>f32</td><td>f32</td><td>f32</td><td>f32</td><td>f32</td><td>f32</td><td>f32</td><td>f32</td><td>f32</td><td>f32</td><td>f32</td><td>f32</td><td>f32</td><td>str</td><td>str</td><td>str</td><td>str</td></tr></thead><tbody><tr><td>&quot;A-3&quot;</td><td>&quot;Source2&quot;</td><td>&quot;2016-02-08 06:49:27&quot;</td><td>0.611725</td><td>0.618225</td><td>-0.110022</td><td>&quot;State Route 32&quot;</td><td>&quot;Williamsburg&quot;</td><td>&quot;Clermont&quot;</td><td>&quot;OH&quot;</td><td>&quot;45176&quot;</td><td>&quot;US&quot;</td><td>&quot;US/Eastern&quot;</td><td>&quot;KI69&quot;</td><td>-1.640993</td><td>-1.211852</td><td>1.550824</td><td>-0.030468</td><td>0.366151</td><td>&quot;SW&quot;</td><td>-0.761427</td><td>-0.083077</td><td>&quot;Overcast&quot;</td><td>0.0</td><td>0.0</td><td>0.0</td><td>0.0</td><td>0.0</td><td>0.0</td><td>0.0</td><td>0.0</td><td>0.0</td><td>0.0</td><td>0.0</td><td>1.0</td><td>0.0</td><td>&quot;Night&quot;</td><td>&quot;Night&quot;</td><td>&quot;Day&quot;</td><td>&quot;Day&quot;</td></tr><tr><td>&quot;A-4&quot;</td><td>&quot;Source2&quot;</td><td>&quot;2016-02-08 07:23:34&quot;</td><td>0.751197</td><td>0.608281</td><td>-0.110022</td><td>&quot;I-75 S&quot;</td><td>&quot;Dayton&quot;</td><td>&quot;Montgomery&quot;</td><td>&quot;OH&quot;</td><td>&quot;45417&quot;</td><td>&quot;US&quot;</td><td>&quot;US/Eastern&quot;</td><td>&quot;KDAY&quot;</td><td>-1.692592</td><td>-1.323379</td><td>1.368134</td><td>-0.068358</td><td>-0.076316</td><td>&quot;SW&quot;</td><td>-0.557635</td><td>-0.083077</td><td>&quot;Mostly Cloudy&quot;</td><td>0.0</td><td>0.0</td><td>0.0</td><td>0.0</td><td>0.0</td><td>0.0</td><td>0.0</td><td>0.0</td><td>0.0</td><td>0.0</td><td>0.0</td><td>0.0</td><td>0.0</td><td>&quot;Night&quot;</td><td>&quot;Day&quot;</td><td>&quot;Day&quot;</td><td>&quot;Day&quot;</td></tr></tbody></table></div>"
            ]
          },
          "metadata": {},
          "execution_count": 30
        }
      ]
    },
    {
      "cell_type": "code",
      "source": [
        "target_series"
      ],
      "metadata": {
        "colab": {
          "base_uri": "https://localhost:8080/",
          "height": 443
        },
        "id": "0CATfhjgA4Fz",
        "outputId": "2f8ef656-e40d-4b64-bb9a-85b3c9632959"
      },
      "execution_count": 31,
      "outputs": [
        {
          "output_type": "execute_result",
          "data": {
            "text/plain": [
              "shape: (995_832,)\n",
              "Series: 'Severity' [i64]\n",
              "[\n",
              "\t2\n",
              "\t3\n",
              "\t2\n",
              "\t3\n",
              "\t2\n",
              "\t…\n",
              "\t3\n",
              "\t3\n",
              "\t3\n",
              "\t2\n",
              "\t2\n",
              "]"
            ],
            "text/html": [
              "<div><style>\n",
              ".dataframe > thead > tr,\n",
              ".dataframe > tbody > tr {\n",
              "  text-align: right;\n",
              "  white-space: pre-wrap;\n",
              "}\n",
              "</style>\n",
              "<small>shape: (995_832,)</small><table border=\"1\" class=\"dataframe\"><thead><tr><th>Severity</th></tr><tr><td>i64</td></tr></thead><tbody><tr><td>2</td></tr><tr><td>3</td></tr><tr><td>2</td></tr><tr><td>3</td></tr><tr><td>2</td></tr><tr><td>&hellip;</td></tr><tr><td>3</td></tr><tr><td>3</td></tr><tr><td>3</td></tr><tr><td>2</td></tr><tr><td>2</td></tr></tbody></table></div>"
            ]
          },
          "metadata": {},
          "execution_count": 31
        }
      ]
    },
    {
      "cell_type": "markdown",
      "source": [
        "# Splitting training and testing data:"
      ],
      "metadata": {
        "id": "beFMwoMgA7cd"
      }
    },
    {
      "cell_type": "code",
      "source": [],
      "metadata": {
        "id": "QAocRhzcA_mT"
      },
      "execution_count": null,
      "outputs": []
    }
  ]
}