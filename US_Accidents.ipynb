{
  "nbformat": 4,
  "nbformat_minor": 0,
  "metadata": {
    "colab": {
      "provenance": []
    },
    "kernelspec": {
      "name": "python3",
      "display_name": "Python 3"
    },
    "language_info": {
      "name": "python"
    }
  },
  "cells": [
    {
      "cell_type": "code",
      "source": [
        "!pip install category_encoders"
      ],
      "metadata": {
        "colab": {
          "base_uri": "https://localhost:8080/"
        },
        "id": "ylVLkBa-ECJJ",
        "outputId": "d679c67b-8066-4cee-f64d-0d11b661982e"
      },
      "execution_count": 1,
      "outputs": [
        {
          "output_type": "stream",
          "name": "stdout",
          "text": [
            "Collecting category_encoders\n",
            "  Downloading category_encoders-2.8.1-py3-none-any.whl.metadata (7.9 kB)\n",
            "Requirement already satisfied: numpy>=1.14.0 in /usr/local/lib/python3.12/dist-packages (from category_encoders) (2.0.2)\n",
            "Requirement already satisfied: pandas>=1.0.5 in /usr/local/lib/python3.12/dist-packages (from category_encoders) (2.2.2)\n",
            "Requirement already satisfied: patsy>=0.5.1 in /usr/local/lib/python3.12/dist-packages (from category_encoders) (1.0.1)\n",
            "Requirement already satisfied: scikit-learn>=1.6.0 in /usr/local/lib/python3.12/dist-packages (from category_encoders) (1.6.1)\n",
            "Requirement already satisfied: scipy>=1.0.0 in /usr/local/lib/python3.12/dist-packages (from category_encoders) (1.16.1)\n",
            "Requirement already satisfied: statsmodels>=0.9.0 in /usr/local/lib/python3.12/dist-packages (from category_encoders) (0.14.5)\n",
            "Requirement already satisfied: python-dateutil>=2.8.2 in /usr/local/lib/python3.12/dist-packages (from pandas>=1.0.5->category_encoders) (2.9.0.post0)\n",
            "Requirement already satisfied: pytz>=2020.1 in /usr/local/lib/python3.12/dist-packages (from pandas>=1.0.5->category_encoders) (2025.2)\n",
            "Requirement already satisfied: tzdata>=2022.7 in /usr/local/lib/python3.12/dist-packages (from pandas>=1.0.5->category_encoders) (2025.2)\n",
            "Requirement already satisfied: joblib>=1.2.0 in /usr/local/lib/python3.12/dist-packages (from scikit-learn>=1.6.0->category_encoders) (1.5.2)\n",
            "Requirement already satisfied: threadpoolctl>=3.1.0 in /usr/local/lib/python3.12/dist-packages (from scikit-learn>=1.6.0->category_encoders) (3.6.0)\n",
            "Requirement already satisfied: packaging>=21.3 in /usr/local/lib/python3.12/dist-packages (from statsmodels>=0.9.0->category_encoders) (25.0)\n",
            "Requirement already satisfied: six>=1.5 in /usr/local/lib/python3.12/dist-packages (from python-dateutil>=2.8.2->pandas>=1.0.5->category_encoders) (1.17.0)\n",
            "Downloading category_encoders-2.8.1-py3-none-any.whl (85 kB)\n",
            "\u001b[2K   \u001b[90m━━━━━━━━━━━━━━━━━━━━━━━━━━━━━━━━━━━━━━━━\u001b[0m \u001b[32m85.7/85.7 kB\u001b[0m \u001b[31m5.9 MB/s\u001b[0m eta \u001b[36m0:00:00\u001b[0m\n",
            "\u001b[?25hInstalling collected packages: category_encoders\n",
            "Successfully installed category_encoders-2.8.1\n"
          ]
        }
      ]
    },
    {
      "cell_type": "code",
      "execution_count": 2,
      "metadata": {
        "id": "U-z6EE1rIA8f",
        "colab": {
          "base_uri": "https://localhost:8080/"
        },
        "outputId": "6b2b5fdc-595c-4cae-a1ae-2d63d8da312b"
      },
      "outputs": [
        {
          "output_type": "stream",
          "name": "stdout",
          "text": [
            "Mounted at /content/drive\n"
          ]
        }
      ],
      "source": [
        "import numpy as np\n",
        "import polars as pl\n",
        "import time\n",
        "from sklearn import tree\n",
        "from sklearn.model_selection import train_test_split\n",
        "from matplotlib import pyplot as plt\n",
        "%matplotlib inline\n",
        "import seaborn as sns\n",
        "from google.colab import drive                       #This is to import the datasets which are uploaded to Google drive\n",
        "drive.mount('/content/drive')\n",
        "from sklearn.model_selection import GridSearchCV\n",
        "#from category_encoders import TargetEncoder\n",
        "from sklearn.tree import DecisionTreeClassifier\n",
        "from sklearn import metrics\n",
        "from sklearn.model_selection import learning_curve\n",
        "from sklearn.model_selection import validation_curve"
      ]
    },
    {
      "cell_type": "code",
      "source": [
        "Df = pl.read_csv('/content/drive/MyDrive/Datasets/US Accidents/US_Accidents_March23.csv',n_rows = 1000500)"
      ],
      "metadata": {
        "id": "N1BqweulKOpr"
      },
      "execution_count": 3,
      "outputs": []
    },
    {
      "cell_type": "code",
      "source": [
        "Df.head(5)"
      ],
      "metadata": {
        "id": "WZuUhwYbPbsq",
        "colab": {
          "base_uri": "https://localhost:8080/",
          "height": 466
        },
        "outputId": "c8cf5270-a2d1-45d5-e58d-e798f8bbe965"
      },
      "execution_count": 4,
      "outputs": [
        {
          "output_type": "execute_result",
          "data": {
            "text/plain": [
              "shape: (5, 46)\n",
              "┌─────┬─────────┬──────────┬─────────────┬───┬─────────────┬─────────────┬────────────┬────────────┐\n",
              "│ ID  ┆ Source  ┆ Severity ┆ Start_Time  ┆ … ┆ Sunrise_Sun ┆ Civil_Twili ┆ Nautical_T ┆ Astronomic │\n",
              "│ --- ┆ ---     ┆ ---      ┆ ---         ┆   ┆ set         ┆ ght         ┆ wilight    ┆ al_Twiligh │\n",
              "│ str ┆ str     ┆ i64      ┆ str         ┆   ┆ ---         ┆ ---         ┆ ---        ┆ t          │\n",
              "│     ┆         ┆          ┆             ┆   ┆ str         ┆ str         ┆ str        ┆ ---        │\n",
              "│     ┆         ┆          ┆             ┆   ┆             ┆             ┆            ┆ str        │\n",
              "╞═════╪═════════╪══════════╪═════════════╪═══╪═════════════╪═════════════╪════════════╪════════════╡\n",
              "│ A-1 ┆ Source2 ┆ 3        ┆ 2016-02-08  ┆ … ┆ Night       ┆ Night       ┆ Night      ┆ Night      │\n",
              "│     ┆         ┆          ┆ 05:46:00    ┆   ┆             ┆             ┆            ┆            │\n",
              "│ A-2 ┆ Source2 ┆ 2        ┆ 2016-02-08  ┆ … ┆ Night       ┆ Night       ┆ Night      ┆ Day        │\n",
              "│     ┆         ┆          ┆ 06:07:59    ┆   ┆             ┆             ┆            ┆            │\n",
              "│ A-3 ┆ Source2 ┆ 2        ┆ 2016-02-08  ┆ … ┆ Night       ┆ Night       ┆ Day        ┆ Day        │\n",
              "│     ┆         ┆          ┆ 06:49:27    ┆   ┆             ┆             ┆            ┆            │\n",
              "│ A-4 ┆ Source2 ┆ 3        ┆ 2016-02-08  ┆ … ┆ Night       ┆ Day         ┆ Day        ┆ Day        │\n",
              "│     ┆         ┆          ┆ 07:23:34    ┆   ┆             ┆             ┆            ┆            │\n",
              "│ A-5 ┆ Source2 ┆ 2        ┆ 2016-02-08  ┆ … ┆ Day         ┆ Day         ┆ Day        ┆ Day        │\n",
              "│     ┆         ┆          ┆ 07:39:07    ┆   ┆             ┆             ┆            ┆            │\n",
              "└─────┴─────────┴──────────┴─────────────┴───┴─────────────┴─────────────┴────────────┴────────────┘"
            ],
            "text/html": [
              "<div><style>\n",
              ".dataframe > thead > tr,\n",
              ".dataframe > tbody > tr {\n",
              "  text-align: right;\n",
              "  white-space: pre-wrap;\n",
              "}\n",
              "</style>\n",
              "<small>shape: (5, 46)</small><table border=\"1\" class=\"dataframe\"><thead><tr><th>ID</th><th>Source</th><th>Severity</th><th>Start_Time</th><th>End_Time</th><th>Start_Lat</th><th>Start_Lng</th><th>End_Lat</th><th>End_Lng</th><th>Distance(mi)</th><th>Description</th><th>Street</th><th>City</th><th>County</th><th>State</th><th>Zipcode</th><th>Country</th><th>Timezone</th><th>Airport_Code</th><th>Weather_Timestamp</th><th>Temperature(F)</th><th>Wind_Chill(F)</th><th>Humidity(%)</th><th>Pressure(in)</th><th>Visibility(mi)</th><th>Wind_Direction</th><th>Wind_Speed(mph)</th><th>Precipitation(in)</th><th>Weather_Condition</th><th>Amenity</th><th>Bump</th><th>Crossing</th><th>Give_Way</th><th>Junction</th><th>No_Exit</th><th>Railway</th><th>Roundabout</th><th>Station</th><th>Stop</th><th>Traffic_Calming</th><th>Traffic_Signal</th><th>Turning_Loop</th><th>Sunrise_Sunset</th><th>Civil_Twilight</th><th>Nautical_Twilight</th><th>Astronomical_Twilight</th></tr><tr><td>str</td><td>str</td><td>i64</td><td>str</td><td>str</td><td>f64</td><td>f64</td><td>str</td><td>str</td><td>f64</td><td>str</td><td>str</td><td>str</td><td>str</td><td>str</td><td>str</td><td>str</td><td>str</td><td>str</td><td>str</td><td>f64</td><td>f64</td><td>f64</td><td>f64</td><td>f64</td><td>str</td><td>f64</td><td>f64</td><td>str</td><td>bool</td><td>bool</td><td>bool</td><td>bool</td><td>bool</td><td>bool</td><td>bool</td><td>bool</td><td>bool</td><td>bool</td><td>bool</td><td>bool</td><td>bool</td><td>str</td><td>str</td><td>str</td><td>str</td></tr></thead><tbody><tr><td>&quot;A-1&quot;</td><td>&quot;Source2&quot;</td><td>3</td><td>&quot;2016-02-08 05:46:00&quot;</td><td>&quot;2016-02-08 11:00:00&quot;</td><td>39.865147</td><td>-84.058723</td><td>null</td><td>null</td><td>0.01</td><td>&quot;Right lane blocked due to acci…</td><td>&quot;I-70 E&quot;</td><td>&quot;Dayton&quot;</td><td>&quot;Montgomery&quot;</td><td>&quot;OH&quot;</td><td>&quot;45424&quot;</td><td>&quot;US&quot;</td><td>&quot;US/Eastern&quot;</td><td>&quot;KFFO&quot;</td><td>&quot;2016-02-08 05:58:00&quot;</td><td>36.9</td><td>null</td><td>91.0</td><td>29.68</td><td>10.0</td><td>&quot;Calm&quot;</td><td>null</td><td>0.02</td><td>&quot;Light Rain&quot;</td><td>false</td><td>false</td><td>false</td><td>false</td><td>false</td><td>false</td><td>false</td><td>false</td><td>false</td><td>false</td><td>false</td><td>false</td><td>false</td><td>&quot;Night&quot;</td><td>&quot;Night&quot;</td><td>&quot;Night&quot;</td><td>&quot;Night&quot;</td></tr><tr><td>&quot;A-2&quot;</td><td>&quot;Source2&quot;</td><td>2</td><td>&quot;2016-02-08 06:07:59&quot;</td><td>&quot;2016-02-08 06:37:59&quot;</td><td>39.928059</td><td>-82.831184</td><td>null</td><td>null</td><td>0.01</td><td>&quot;Accident on Brice Rd at Tussin…</td><td>&quot;Brice Rd&quot;</td><td>&quot;Reynoldsburg&quot;</td><td>&quot;Franklin&quot;</td><td>&quot;OH&quot;</td><td>&quot;43068-3402&quot;</td><td>&quot;US&quot;</td><td>&quot;US/Eastern&quot;</td><td>&quot;KCMH&quot;</td><td>&quot;2016-02-08 05:51:00&quot;</td><td>37.9</td><td>null</td><td>100.0</td><td>29.65</td><td>10.0</td><td>&quot;Calm&quot;</td><td>null</td><td>0.0</td><td>&quot;Light Rain&quot;</td><td>false</td><td>false</td><td>false</td><td>false</td><td>false</td><td>false</td><td>false</td><td>false</td><td>false</td><td>false</td><td>false</td><td>false</td><td>false</td><td>&quot;Night&quot;</td><td>&quot;Night&quot;</td><td>&quot;Night&quot;</td><td>&quot;Day&quot;</td></tr><tr><td>&quot;A-3&quot;</td><td>&quot;Source2&quot;</td><td>2</td><td>&quot;2016-02-08 06:49:27&quot;</td><td>&quot;2016-02-08 07:19:27&quot;</td><td>39.063148</td><td>-84.032608</td><td>null</td><td>null</td><td>0.01</td><td>&quot;Accident on OH-32 State Route …</td><td>&quot;State Route 32&quot;</td><td>&quot;Williamsburg&quot;</td><td>&quot;Clermont&quot;</td><td>&quot;OH&quot;</td><td>&quot;45176&quot;</td><td>&quot;US&quot;</td><td>&quot;US/Eastern&quot;</td><td>&quot;KI69&quot;</td><td>&quot;2016-02-08 06:56:00&quot;</td><td>36.0</td><td>33.3</td><td>100.0</td><td>29.67</td><td>10.0</td><td>&quot;SW&quot;</td><td>3.5</td><td>null</td><td>&quot;Overcast&quot;</td><td>false</td><td>false</td><td>false</td><td>false</td><td>false</td><td>false</td><td>false</td><td>false</td><td>false</td><td>false</td><td>false</td><td>true</td><td>false</td><td>&quot;Night&quot;</td><td>&quot;Night&quot;</td><td>&quot;Day&quot;</td><td>&quot;Day&quot;</td></tr><tr><td>&quot;A-4&quot;</td><td>&quot;Source2&quot;</td><td>3</td><td>&quot;2016-02-08 07:23:34&quot;</td><td>&quot;2016-02-08 07:53:34&quot;</td><td>39.747753</td><td>-84.205582</td><td>null</td><td>null</td><td>0.01</td><td>&quot;Accident on I-75 Southbound at…</td><td>&quot;I-75 S&quot;</td><td>&quot;Dayton&quot;</td><td>&quot;Montgomery&quot;</td><td>&quot;OH&quot;</td><td>&quot;45417&quot;</td><td>&quot;US&quot;</td><td>&quot;US/Eastern&quot;</td><td>&quot;KDAY&quot;</td><td>&quot;2016-02-08 07:38:00&quot;</td><td>35.1</td><td>31.0</td><td>96.0</td><td>29.64</td><td>9.0</td><td>&quot;SW&quot;</td><td>4.6</td><td>null</td><td>&quot;Mostly Cloudy&quot;</td><td>false</td><td>false</td><td>false</td><td>false</td><td>false</td><td>false</td><td>false</td><td>false</td><td>false</td><td>false</td><td>false</td><td>false</td><td>false</td><td>&quot;Night&quot;</td><td>&quot;Day&quot;</td><td>&quot;Day&quot;</td><td>&quot;Day&quot;</td></tr><tr><td>&quot;A-5&quot;</td><td>&quot;Source2&quot;</td><td>2</td><td>&quot;2016-02-08 07:39:07&quot;</td><td>&quot;2016-02-08 08:09:07&quot;</td><td>39.627781</td><td>-84.188354</td><td>null</td><td>null</td><td>0.01</td><td>&quot;Accident on McEwen Rd at OH-72…</td><td>&quot;Miamisburg Centerville Rd&quot;</td><td>&quot;Dayton&quot;</td><td>&quot;Montgomery&quot;</td><td>&quot;OH&quot;</td><td>&quot;45459&quot;</td><td>&quot;US&quot;</td><td>&quot;US/Eastern&quot;</td><td>&quot;KMGY&quot;</td><td>&quot;2016-02-08 07:53:00&quot;</td><td>36.0</td><td>33.3</td><td>89.0</td><td>29.65</td><td>6.0</td><td>&quot;SW&quot;</td><td>3.5</td><td>null</td><td>&quot;Mostly Cloudy&quot;</td><td>false</td><td>false</td><td>false</td><td>false</td><td>false</td><td>false</td><td>false</td><td>false</td><td>false</td><td>false</td><td>false</td><td>true</td><td>false</td><td>&quot;Day&quot;</td><td>&quot;Day&quot;</td><td>&quot;Day&quot;</td><td>&quot;Day&quot;</td></tr></tbody></table></div>"
            ]
          },
          "metadata": {},
          "execution_count": 4
        }
      ]
    },
    {
      "cell_type": "code",
      "source": [
        "Df.describe()"
      ],
      "metadata": {
        "id": "N5HIhnVVRq9x",
        "colab": {
          "base_uri": "https://localhost:8080/",
          "height": 487
        },
        "outputId": "3463eb1b-5b75-4dd4-d4ba-7f3ddb3e19e5"
      },
      "execution_count": 5,
      "outputs": [
        {
          "output_type": "execute_result",
          "data": {
            "text/plain": [
              "shape: (9, 47)\n",
              "┌────────────┬──────────┬─────────┬──────────┬───┬────────────┬────────────┬───────────┬───────────┐\n",
              "│ statistic  ┆ ID       ┆ Source  ┆ Severity ┆ … ┆ Sunrise_Su ┆ Civil_Twil ┆ Nautical_ ┆ Astronomi │\n",
              "│ ---        ┆ ---      ┆ ---     ┆ ---      ┆   ┆ nset       ┆ ight       ┆ Twilight  ┆ cal_Twili │\n",
              "│ str        ┆ str      ┆ str     ┆ f64      ┆   ┆ ---        ┆ ---        ┆ ---       ┆ ght       │\n",
              "│            ┆          ┆         ┆          ┆   ┆ str        ┆ str        ┆ str       ┆ ---       │\n",
              "│            ┆          ┆         ┆          ┆   ┆            ┆            ┆           ┆ str       │\n",
              "╞════════════╪══════════╪═════════╪══════════╪═══╪════════════╪════════════╪═══════════╪═══════════╡\n",
              "│ count      ┆ 1000500  ┆ 1000500 ┆ 1.0005e6 ┆ … ┆ 998864     ┆ 998864     ┆ 998864    ┆ 998864    │\n",
              "│ null_count ┆ 0        ┆ 0       ┆ 0.0      ┆ … ┆ 1636       ┆ 1636       ┆ 1636      ┆ 1636      │\n",
              "│ mean       ┆ null     ┆ null    ┆ 2.320224 ┆ … ┆ null       ┆ null       ┆ null      ┆ null      │\n",
              "│ std        ┆ null     ┆ null    ┆ 0.548461 ┆ … ┆ null       ┆ null       ┆ null      ┆ null      │\n",
              "│ min        ┆ A-1      ┆ Source2 ┆ 1.0      ┆ … ┆ Day        ┆ Day        ┆ Day       ┆ Day       │\n",
              "│ 25%        ┆ null     ┆ null    ┆ 2.0      ┆ … ┆ null       ┆ null       ┆ null      ┆ null      │\n",
              "│ 50%        ┆ null     ┆ null    ┆ 2.0      ┆ … ┆ null       ┆ null       ┆ null      ┆ null      │\n",
              "│ 75%        ┆ null     ┆ null    ┆ 3.0      ┆ … ┆ null       ┆ null       ┆ null      ┆ null      │\n",
              "│ max        ┆ A-999999 ┆ Source3 ┆ 4.0      ┆ … ┆ Night      ┆ Night      ┆ Night     ┆ Night     │\n",
              "└────────────┴──────────┴─────────┴──────────┴───┴────────────┴────────────┴───────────┴───────────┘"
            ],
            "text/html": [
              "<div><style>\n",
              ".dataframe > thead > tr,\n",
              ".dataframe > tbody > tr {\n",
              "  text-align: right;\n",
              "  white-space: pre-wrap;\n",
              "}\n",
              "</style>\n",
              "<small>shape: (9, 47)</small><table border=\"1\" class=\"dataframe\"><thead><tr><th>statistic</th><th>ID</th><th>Source</th><th>Severity</th><th>Start_Time</th><th>End_Time</th><th>Start_Lat</th><th>Start_Lng</th><th>End_Lat</th><th>End_Lng</th><th>Distance(mi)</th><th>Description</th><th>Street</th><th>City</th><th>County</th><th>State</th><th>Zipcode</th><th>Country</th><th>Timezone</th><th>Airport_Code</th><th>Weather_Timestamp</th><th>Temperature(F)</th><th>Wind_Chill(F)</th><th>Humidity(%)</th><th>Pressure(in)</th><th>Visibility(mi)</th><th>Wind_Direction</th><th>Wind_Speed(mph)</th><th>Precipitation(in)</th><th>Weather_Condition</th><th>Amenity</th><th>Bump</th><th>Crossing</th><th>Give_Way</th><th>Junction</th><th>No_Exit</th><th>Railway</th><th>Roundabout</th><th>Station</th><th>Stop</th><th>Traffic_Calming</th><th>Traffic_Signal</th><th>Turning_Loop</th><th>Sunrise_Sunset</th><th>Civil_Twilight</th><th>Nautical_Twilight</th><th>Astronomical_Twilight</th></tr><tr><td>str</td><td>str</td><td>str</td><td>f64</td><td>str</td><td>str</td><td>f64</td><td>f64</td><td>str</td><td>str</td><td>f64</td><td>str</td><td>str</td><td>str</td><td>str</td><td>str</td><td>str</td><td>str</td><td>str</td><td>str</td><td>str</td><td>f64</td><td>f64</td><td>f64</td><td>f64</td><td>f64</td><td>str</td><td>f64</td><td>f64</td><td>str</td><td>f64</td><td>f64</td><td>f64</td><td>f64</td><td>f64</td><td>f64</td><td>f64</td><td>f64</td><td>f64</td><td>f64</td><td>f64</td><td>f64</td><td>f64</td><td>str</td><td>str</td><td>str</td><td>str</td></tr></thead><tbody><tr><td>&quot;count&quot;</td><td>&quot;1000500&quot;</td><td>&quot;1000500&quot;</td><td>1.0005e6</td><td>&quot;1000500&quot;</td><td>&quot;1000500&quot;</td><td>1.0005e6</td><td>1.0005e6</td><td>&quot;0&quot;</td><td>&quot;0&quot;</td><td>1.0005e6</td><td>&quot;1000499&quot;</td><td>&quot;998788&quot;</td><td>&quot;1000472&quot;</td><td>&quot;1000500&quot;</td><td>&quot;1000500&quot;</td><td>&quot;1000364&quot;</td><td>&quot;1000500&quot;</td><td>&quot;1000047&quot;</td><td>&quot;999066&quot;</td><td>&quot;990569&quot;</td><td>985192.0</td><td>539898.0</td><td>983937.0</td><td>988118.0</td><td>981562.0</td><td>&quot;986920&quot;</td><td>900092.0</td><td>525177.0</td><td>&quot;982282&quot;</td><td>1.0005e6</td><td>1.0005e6</td><td>1.0005e6</td><td>1.0005e6</td><td>1.0005e6</td><td>1.0005e6</td><td>1.0005e6</td><td>1.0005e6</td><td>1.0005e6</td><td>1.0005e6</td><td>1.0005e6</td><td>1.0005e6</td><td>1.0005e6</td><td>&quot;998864&quot;</td><td>&quot;998864&quot;</td><td>&quot;998864&quot;</td><td>&quot;998864&quot;</td></tr><tr><td>&quot;null_count&quot;</td><td>&quot;0&quot;</td><td>&quot;0&quot;</td><td>0.0</td><td>&quot;0&quot;</td><td>&quot;0&quot;</td><td>0.0</td><td>0.0</td><td>&quot;1000500&quot;</td><td>&quot;1000500&quot;</td><td>0.0</td><td>&quot;1&quot;</td><td>&quot;1712&quot;</td><td>&quot;28&quot;</td><td>&quot;0&quot;</td><td>&quot;0&quot;</td><td>&quot;136&quot;</td><td>&quot;0&quot;</td><td>&quot;453&quot;</td><td>&quot;1434&quot;</td><td>&quot;9931&quot;</td><td>15308.0</td><td>460602.0</td><td>16563.0</td><td>12382.0</td><td>18938.0</td><td>&quot;13580&quot;</td><td>100408.0</td><td>475323.0</td><td>&quot;18218&quot;</td><td>0.0</td><td>0.0</td><td>0.0</td><td>0.0</td><td>0.0</td><td>0.0</td><td>0.0</td><td>0.0</td><td>0.0</td><td>0.0</td><td>0.0</td><td>0.0</td><td>0.0</td><td>&quot;1636&quot;</td><td>&quot;1636&quot;</td><td>&quot;1636&quot;</td><td>&quot;1636&quot;</td></tr><tr><td>&quot;mean&quot;</td><td>null</td><td>null</td><td>2.320224</td><td>null</td><td>null</td><td>36.058837</td><td>-94.750544</td><td>null</td><td>null</td><td>0.167532</td><td>null</td><td>null</td><td>null</td><td>null</td><td>null</td><td>null</td><td>null</td><td>null</td><td>null</td><td>null</td><td>64.626661</td><td>59.457691</td><td>66.029973</td><td>29.693456</td><td>9.173896</td><td>null</td><td>7.767402</td><td>0.013247</td><td>null</td><td>0.013918</td><td>0.000321</td><td>0.129516</td><td>0.006232</td><td>0.056812</td><td>0.002171</td><td>0.00933</td><td>0.000027</td><td>0.027968</td><td>0.029207</td><td>0.000887</td><td>0.209889</td><td>0.0</td><td>null</td><td>null</td><td>null</td><td>null</td></tr><tr><td>&quot;std&quot;</td><td>null</td><td>null</td><td>0.548461</td><td>null</td><td>null</td><td>4.906894</td><td>17.388672</td><td>null</td><td>null</td><td>1.427759</td><td>null</td><td>null</td><td>null</td><td>null</td><td>null</td><td>null</td><td>null</td><td>null</td><td>null</td><td>null</td><td>17.450303</td><td>21.930264</td><td>21.888529</td><td>0.792037</td><td>2.259134</td><td>null</td><td>5.407576</td><td>0.203059</td><td>null</td><td>null</td><td>null</td><td>null</td><td>null</td><td>null</td><td>null</td><td>null</td><td>null</td><td>null</td><td>null</td><td>null</td><td>null</td><td>null</td><td>null</td><td>null</td><td>null</td><td>null</td></tr><tr><td>&quot;min&quot;</td><td>&quot;A-1&quot;</td><td>&quot;Source2&quot;</td><td>1.0</td><td>&quot;2016-02-08 05:46:00&quot;</td><td>&quot;2016-02-08 06:37:59&quot;</td><td>24.5548</td><td>-124.497414</td><td>null</td><td>null</td><td>0.0</td><td>&quot; middle lane blocked due to ac…</td><td>&quot;00-199 Fair Lawn Pkwy&quot;</td><td>&quot;Aaronsburg&quot;</td><td>&quot;Abbeville&quot;</td><td>&quot;AL&quot;</td><td>&quot;01001&quot;</td><td>&quot;US&quot;</td><td>&quot;US/Central&quot;</td><td>&quot;K01M&quot;</td><td>&quot;2016-02-08 05:51:00&quot;</td><td>-77.8</td><td>-50.0</td><td>1.0</td><td>0.12</td><td>0.0</td><td>&quot;CALM&quot;</td><td>0.0</td><td>0.0</td><td>&quot;Blowing Dust&quot;</td><td>0.0</td><td>0.0</td><td>0.0</td><td>0.0</td><td>0.0</td><td>0.0</td><td>0.0</td><td>0.0</td><td>0.0</td><td>0.0</td><td>0.0</td><td>0.0</td><td>0.0</td><td>&quot;Day&quot;</td><td>&quot;Day&quot;</td><td>&quot;Day&quot;</td><td>&quot;Day&quot;</td></tr><tr><td>&quot;25%&quot;</td><td>null</td><td>null</td><td>2.0</td><td>null</td><td>null</td><td>32.925362</td><td>-117.36837</td><td>null</td><td>null</td><td>0.0</td><td>null</td><td>null</td><td>null</td><td>null</td><td>null</td><td>null</td><td>null</td><td>null</td><td>null</td><td>null</td><td>54.0</td><td>43.0</td><td>50.0</td><td>29.56</td><td>10.0</td><td>null</td><td>4.6</td><td>0.0</td><td>null</td><td>null</td><td>null</td><td>null</td><td>null</td><td>null</td><td>null</td><td>null</td><td>null</td><td>null</td><td>null</td><td>null</td><td>null</td><td>null</td><td>null</td><td>null</td><td>null</td><td>null</td></tr><tr><td>&quot;50%&quot;</td><td>null</td><td>null</td><td>2.0</td><td>null</td><td>null</td><td>35.257641</td><td>-87.957573</td><td>null</td><td>null</td><td>0.0</td><td>null</td><td>null</td><td>null</td><td>null</td><td>null</td><td>null</td><td>null</td><td>null</td><td>null</td><td>null</td><td>66.9</td><td>64.0</td><td>68.0</td><td>29.91</td><td>10.0</td><td>null</td><td>7.0</td><td>0.0</td><td>null</td><td>null</td><td>null</td><td>null</td><td>null</td><td>null</td><td>null</td><td>null</td><td>null</td><td>null</td><td>null</td><td>null</td><td>null</td><td>null</td><td>null</td><td>null</td><td>null</td><td>null</td></tr><tr><td>&quot;75%&quot;</td><td>null</td><td>null</td><td>3.0</td><td>null</td><td>null</td><td>40.11311</td><td>-80.920403</td><td>null</td><td>null</td><td>0.01</td><td>null</td><td>null</td><td>null</td><td>null</td><td>null</td><td>null</td><td>null</td><td>null</td><td>null</td><td>null</td><td>77.0</td><td>76.0</td><td>84.0</td><td>30.05</td><td>10.0</td><td>null</td><td>10.4</td><td>0.0</td><td>null</td><td>null</td><td>null</td><td>null</td><td>null</td><td>null</td><td>null</td><td>null</td><td>null</td><td>null</td><td>null</td><td>null</td><td>null</td><td>null</td><td>null</td><td>null</td><td>null</td><td>null</td></tr><tr><td>&quot;max&quot;</td><td>&quot;A-999999&quot;</td><td>&quot;Source3&quot;</td><td>4.0</td><td>&quot;2022-09-08 17:56:22&quot;</td><td>&quot;2022-09-08 18:34:31&quot;</td><td>48.998085</td><td>-68.160789</td><td>null</td><td>null</td><td>336.570007</td><td>&quot;~Left lane blocked due to cras…</td><td>&quot;william Carey Dr&quot;</td><td>&quot;Zumbrota&quot;</td><td>&quot;Yuma&quot;</td><td>&quot;WY&quot;</td><td>&quot;99362-1879&quot;</td><td>&quot;US&quot;</td><td>&quot;US/Pacific&quot;</td><td>&quot;KZZV&quot;</td><td>&quot;2022-09-08 17:55:00&quot;</td><td>196.0</td><td>196.0</td><td>100.0</td><td>58.1</td><td>111.0</td><td>&quot;West&quot;</td><td>822.8</td><td>36.47</td><td>&quot;Wintry Mix / Windy&quot;</td><td>1.0</td><td>1.0</td><td>1.0</td><td>1.0</td><td>1.0</td><td>1.0</td><td>1.0</td><td>1.0</td><td>1.0</td><td>1.0</td><td>1.0</td><td>1.0</td><td>0.0</td><td>&quot;Night&quot;</td><td>&quot;Night&quot;</td><td>&quot;Night&quot;</td><td>&quot;Night&quot;</td></tr></tbody></table></div>"
            ]
          },
          "metadata": {},
          "execution_count": 5
        }
      ]
    },
    {
      "cell_type": "markdown",
      "source": [
        "## Steps to control leakage:"
      ],
      "metadata": {
        "id": "jV_GyUSVlS6i"
      }
    },
    {
      "cell_type": "code",
      "source": [
        "#Dropping columns to reduce leakage\n",
        "Df = Df.drop(['End_Time','End_Lat','End_Lng','Description','Weather_Timestamp'])"
      ],
      "metadata": {
        "id": "uAXc6kkRVwIK"
      },
      "execution_count": 6,
      "outputs": []
    },
    {
      "cell_type": "code",
      "source": [
        "Df.head(5)"
      ],
      "metadata": {
        "colab": {
          "base_uri": "https://localhost:8080/",
          "height": 0
        },
        "id": "R23VvNidZxPM",
        "outputId": "32c9cc9f-43d5-43ef-c1f9-c8930c1df50c"
      },
      "execution_count": 7,
      "outputs": [
        {
          "output_type": "execute_result",
          "data": {
            "text/plain": [
              "shape: (5, 41)\n",
              "┌─────┬─────────┬──────────┬─────────────┬───┬─────────────┬─────────────┬────────────┬────────────┐\n",
              "│ ID  ┆ Source  ┆ Severity ┆ Start_Time  ┆ … ┆ Sunrise_Sun ┆ Civil_Twili ┆ Nautical_T ┆ Astronomic │\n",
              "│ --- ┆ ---     ┆ ---      ┆ ---         ┆   ┆ set         ┆ ght         ┆ wilight    ┆ al_Twiligh │\n",
              "│ str ┆ str     ┆ i64      ┆ str         ┆   ┆ ---         ┆ ---         ┆ ---        ┆ t          │\n",
              "│     ┆         ┆          ┆             ┆   ┆ str         ┆ str         ┆ str        ┆ ---        │\n",
              "│     ┆         ┆          ┆             ┆   ┆             ┆             ┆            ┆ str        │\n",
              "╞═════╪═════════╪══════════╪═════════════╪═══╪═════════════╪═════════════╪════════════╪════════════╡\n",
              "│ A-1 ┆ Source2 ┆ 3        ┆ 2016-02-08  ┆ … ┆ Night       ┆ Night       ┆ Night      ┆ Night      │\n",
              "│     ┆         ┆          ┆ 05:46:00    ┆   ┆             ┆             ┆            ┆            │\n",
              "│ A-2 ┆ Source2 ┆ 2        ┆ 2016-02-08  ┆ … ┆ Night       ┆ Night       ┆ Night      ┆ Day        │\n",
              "│     ┆         ┆          ┆ 06:07:59    ┆   ┆             ┆             ┆            ┆            │\n",
              "│ A-3 ┆ Source2 ┆ 2        ┆ 2016-02-08  ┆ … ┆ Night       ┆ Night       ┆ Day        ┆ Day        │\n",
              "│     ┆         ┆          ┆ 06:49:27    ┆   ┆             ┆             ┆            ┆            │\n",
              "│ A-4 ┆ Source2 ┆ 3        ┆ 2016-02-08  ┆ … ┆ Night       ┆ Day         ┆ Day        ┆ Day        │\n",
              "│     ┆         ┆          ┆ 07:23:34    ┆   ┆             ┆             ┆            ┆            │\n",
              "│ A-5 ┆ Source2 ┆ 2        ┆ 2016-02-08  ┆ … ┆ Day         ┆ Day         ┆ Day        ┆ Day        │\n",
              "│     ┆         ┆          ┆ 07:39:07    ┆   ┆             ┆             ┆            ┆            │\n",
              "└─────┴─────────┴──────────┴─────────────┴───┴─────────────┴─────────────┴────────────┴────────────┘"
            ],
            "text/html": [
              "<div><style>\n",
              ".dataframe > thead > tr,\n",
              ".dataframe > tbody > tr {\n",
              "  text-align: right;\n",
              "  white-space: pre-wrap;\n",
              "}\n",
              "</style>\n",
              "<small>shape: (5, 41)</small><table border=\"1\" class=\"dataframe\"><thead><tr><th>ID</th><th>Source</th><th>Severity</th><th>Start_Time</th><th>Start_Lat</th><th>Start_Lng</th><th>Distance(mi)</th><th>Street</th><th>City</th><th>County</th><th>State</th><th>Zipcode</th><th>Country</th><th>Timezone</th><th>Airport_Code</th><th>Temperature(F)</th><th>Wind_Chill(F)</th><th>Humidity(%)</th><th>Pressure(in)</th><th>Visibility(mi)</th><th>Wind_Direction</th><th>Wind_Speed(mph)</th><th>Precipitation(in)</th><th>Weather_Condition</th><th>Amenity</th><th>Bump</th><th>Crossing</th><th>Give_Way</th><th>Junction</th><th>No_Exit</th><th>Railway</th><th>Roundabout</th><th>Station</th><th>Stop</th><th>Traffic_Calming</th><th>Traffic_Signal</th><th>Turning_Loop</th><th>Sunrise_Sunset</th><th>Civil_Twilight</th><th>Nautical_Twilight</th><th>Astronomical_Twilight</th></tr><tr><td>str</td><td>str</td><td>i64</td><td>str</td><td>f64</td><td>f64</td><td>f64</td><td>str</td><td>str</td><td>str</td><td>str</td><td>str</td><td>str</td><td>str</td><td>str</td><td>f64</td><td>f64</td><td>f64</td><td>f64</td><td>f64</td><td>str</td><td>f64</td><td>f64</td><td>str</td><td>bool</td><td>bool</td><td>bool</td><td>bool</td><td>bool</td><td>bool</td><td>bool</td><td>bool</td><td>bool</td><td>bool</td><td>bool</td><td>bool</td><td>bool</td><td>str</td><td>str</td><td>str</td><td>str</td></tr></thead><tbody><tr><td>&quot;A-1&quot;</td><td>&quot;Source2&quot;</td><td>3</td><td>&quot;2016-02-08 05:46:00&quot;</td><td>39.865147</td><td>-84.058723</td><td>0.01</td><td>&quot;I-70 E&quot;</td><td>&quot;Dayton&quot;</td><td>&quot;Montgomery&quot;</td><td>&quot;OH&quot;</td><td>&quot;45424&quot;</td><td>&quot;US&quot;</td><td>&quot;US/Eastern&quot;</td><td>&quot;KFFO&quot;</td><td>36.9</td><td>null</td><td>91.0</td><td>29.68</td><td>10.0</td><td>&quot;Calm&quot;</td><td>null</td><td>0.02</td><td>&quot;Light Rain&quot;</td><td>false</td><td>false</td><td>false</td><td>false</td><td>false</td><td>false</td><td>false</td><td>false</td><td>false</td><td>false</td><td>false</td><td>false</td><td>false</td><td>&quot;Night&quot;</td><td>&quot;Night&quot;</td><td>&quot;Night&quot;</td><td>&quot;Night&quot;</td></tr><tr><td>&quot;A-2&quot;</td><td>&quot;Source2&quot;</td><td>2</td><td>&quot;2016-02-08 06:07:59&quot;</td><td>39.928059</td><td>-82.831184</td><td>0.01</td><td>&quot;Brice Rd&quot;</td><td>&quot;Reynoldsburg&quot;</td><td>&quot;Franklin&quot;</td><td>&quot;OH&quot;</td><td>&quot;43068-3402&quot;</td><td>&quot;US&quot;</td><td>&quot;US/Eastern&quot;</td><td>&quot;KCMH&quot;</td><td>37.9</td><td>null</td><td>100.0</td><td>29.65</td><td>10.0</td><td>&quot;Calm&quot;</td><td>null</td><td>0.0</td><td>&quot;Light Rain&quot;</td><td>false</td><td>false</td><td>false</td><td>false</td><td>false</td><td>false</td><td>false</td><td>false</td><td>false</td><td>false</td><td>false</td><td>false</td><td>false</td><td>&quot;Night&quot;</td><td>&quot;Night&quot;</td><td>&quot;Night&quot;</td><td>&quot;Day&quot;</td></tr><tr><td>&quot;A-3&quot;</td><td>&quot;Source2&quot;</td><td>2</td><td>&quot;2016-02-08 06:49:27&quot;</td><td>39.063148</td><td>-84.032608</td><td>0.01</td><td>&quot;State Route 32&quot;</td><td>&quot;Williamsburg&quot;</td><td>&quot;Clermont&quot;</td><td>&quot;OH&quot;</td><td>&quot;45176&quot;</td><td>&quot;US&quot;</td><td>&quot;US/Eastern&quot;</td><td>&quot;KI69&quot;</td><td>36.0</td><td>33.3</td><td>100.0</td><td>29.67</td><td>10.0</td><td>&quot;SW&quot;</td><td>3.5</td><td>null</td><td>&quot;Overcast&quot;</td><td>false</td><td>false</td><td>false</td><td>false</td><td>false</td><td>false</td><td>false</td><td>false</td><td>false</td><td>false</td><td>false</td><td>true</td><td>false</td><td>&quot;Night&quot;</td><td>&quot;Night&quot;</td><td>&quot;Day&quot;</td><td>&quot;Day&quot;</td></tr><tr><td>&quot;A-4&quot;</td><td>&quot;Source2&quot;</td><td>3</td><td>&quot;2016-02-08 07:23:34&quot;</td><td>39.747753</td><td>-84.205582</td><td>0.01</td><td>&quot;I-75 S&quot;</td><td>&quot;Dayton&quot;</td><td>&quot;Montgomery&quot;</td><td>&quot;OH&quot;</td><td>&quot;45417&quot;</td><td>&quot;US&quot;</td><td>&quot;US/Eastern&quot;</td><td>&quot;KDAY&quot;</td><td>35.1</td><td>31.0</td><td>96.0</td><td>29.64</td><td>9.0</td><td>&quot;SW&quot;</td><td>4.6</td><td>null</td><td>&quot;Mostly Cloudy&quot;</td><td>false</td><td>false</td><td>false</td><td>false</td><td>false</td><td>false</td><td>false</td><td>false</td><td>false</td><td>false</td><td>false</td><td>false</td><td>false</td><td>&quot;Night&quot;</td><td>&quot;Day&quot;</td><td>&quot;Day&quot;</td><td>&quot;Day&quot;</td></tr><tr><td>&quot;A-5&quot;</td><td>&quot;Source2&quot;</td><td>2</td><td>&quot;2016-02-08 07:39:07&quot;</td><td>39.627781</td><td>-84.188354</td><td>0.01</td><td>&quot;Miamisburg Centerville Rd&quot;</td><td>&quot;Dayton&quot;</td><td>&quot;Montgomery&quot;</td><td>&quot;OH&quot;</td><td>&quot;45459&quot;</td><td>&quot;US&quot;</td><td>&quot;US/Eastern&quot;</td><td>&quot;KMGY&quot;</td><td>36.0</td><td>33.3</td><td>89.0</td><td>29.65</td><td>6.0</td><td>&quot;SW&quot;</td><td>3.5</td><td>null</td><td>&quot;Mostly Cloudy&quot;</td><td>false</td><td>false</td><td>false</td><td>false</td><td>false</td><td>false</td><td>false</td><td>false</td><td>false</td><td>false</td><td>false</td><td>true</td><td>false</td><td>&quot;Day&quot;</td><td>&quot;Day&quot;</td><td>&quot;Day&quot;</td><td>&quot;Day&quot;</td></tr></tbody></table></div>"
            ]
          },
          "metadata": {},
          "execution_count": 7
        }
      ]
    },
    {
      "cell_type": "markdown",
      "source": [
        "# Handling NULL values and EDA:"
      ],
      "metadata": {
        "id": "bR66kfQXRzjp"
      }
    },
    {
      "cell_type": "code",
      "source": [
        "Df.is_duplicated()[True]"
      ],
      "metadata": {
        "colab": {
          "base_uri": "https://localhost:8080/"
        },
        "id": "LXyX9MS9R1TU",
        "outputId": "8ee460c8-3c14-425a-effc-81c3e799ab93"
      },
      "execution_count": 8,
      "outputs": [
        {
          "output_type": "execute_result",
          "data": {
            "text/plain": [
              "False"
            ]
          },
          "metadata": {},
          "execution_count": 8
        }
      ]
    },
    {
      "cell_type": "markdown",
      "source": [
        "There are no duplicate rows."
      ],
      "metadata": {
        "id": "qmp3s2SgR-k3"
      }
    },
    {
      "cell_type": "code",
      "source": [
        "Df.select(pl.all().is_null().sum())"
      ],
      "metadata": {
        "colab": {
          "base_uri": "https://localhost:8080/",
          "height": 0
        },
        "id": "1X9kezUFR9WD",
        "outputId": "5ee5f2bb-0efd-40e3-86bf-63e1340f6ce7"
      },
      "execution_count": 9,
      "outputs": [
        {
          "output_type": "execute_result",
          "data": {
            "text/plain": [
              "shape: (1, 41)\n",
              "┌─────┬────────┬──────────┬────────────┬───┬─────────────┬─────────────┬─────────────┬─────────────┐\n",
              "│ ID  ┆ Source ┆ Severity ┆ Start_Time ┆ … ┆ Sunrise_Sun ┆ Civil_Twili ┆ Nautical_Tw ┆ Astronomica │\n",
              "│ --- ┆ ---    ┆ ---      ┆ ---        ┆   ┆ set         ┆ ght         ┆ ilight      ┆ l_Twilight  │\n",
              "│ u32 ┆ u32    ┆ u32      ┆ u32        ┆   ┆ ---         ┆ ---         ┆ ---         ┆ ---         │\n",
              "│     ┆        ┆          ┆            ┆   ┆ u32         ┆ u32         ┆ u32         ┆ u32         │\n",
              "╞═════╪════════╪══════════╪════════════╪═══╪═════════════╪═════════════╪═════════════╪═════════════╡\n",
              "│ 0   ┆ 0      ┆ 0        ┆ 0          ┆ … ┆ 1636        ┆ 1636        ┆ 1636        ┆ 1636        │\n",
              "└─────┴────────┴──────────┴────────────┴───┴─────────────┴─────────────┴─────────────┴─────────────┘"
            ],
            "text/html": [
              "<div><style>\n",
              ".dataframe > thead > tr,\n",
              ".dataframe > tbody > tr {\n",
              "  text-align: right;\n",
              "  white-space: pre-wrap;\n",
              "}\n",
              "</style>\n",
              "<small>shape: (1, 41)</small><table border=\"1\" class=\"dataframe\"><thead><tr><th>ID</th><th>Source</th><th>Severity</th><th>Start_Time</th><th>Start_Lat</th><th>Start_Lng</th><th>Distance(mi)</th><th>Street</th><th>City</th><th>County</th><th>State</th><th>Zipcode</th><th>Country</th><th>Timezone</th><th>Airport_Code</th><th>Temperature(F)</th><th>Wind_Chill(F)</th><th>Humidity(%)</th><th>Pressure(in)</th><th>Visibility(mi)</th><th>Wind_Direction</th><th>Wind_Speed(mph)</th><th>Precipitation(in)</th><th>Weather_Condition</th><th>Amenity</th><th>Bump</th><th>Crossing</th><th>Give_Way</th><th>Junction</th><th>No_Exit</th><th>Railway</th><th>Roundabout</th><th>Station</th><th>Stop</th><th>Traffic_Calming</th><th>Traffic_Signal</th><th>Turning_Loop</th><th>Sunrise_Sunset</th><th>Civil_Twilight</th><th>Nautical_Twilight</th><th>Astronomical_Twilight</th></tr><tr><td>u32</td><td>u32</td><td>u32</td><td>u32</td><td>u32</td><td>u32</td><td>u32</td><td>u32</td><td>u32</td><td>u32</td><td>u32</td><td>u32</td><td>u32</td><td>u32</td><td>u32</td><td>u32</td><td>u32</td><td>u32</td><td>u32</td><td>u32</td><td>u32</td><td>u32</td><td>u32</td><td>u32</td><td>u32</td><td>u32</td><td>u32</td><td>u32</td><td>u32</td><td>u32</td><td>u32</td><td>u32</td><td>u32</td><td>u32</td><td>u32</td><td>u32</td><td>u32</td><td>u32</td><td>u32</td><td>u32</td><td>u32</td></tr></thead><tbody><tr><td>0</td><td>0</td><td>0</td><td>0</td><td>0</td><td>0</td><td>0</td><td>1712</td><td>28</td><td>0</td><td>0</td><td>136</td><td>0</td><td>453</td><td>1434</td><td>15308</td><td>460602</td><td>16563</td><td>12382</td><td>18938</td><td>13580</td><td>100408</td><td>475323</td><td>18218</td><td>0</td><td>0</td><td>0</td><td>0</td><td>0</td><td>0</td><td>0</td><td>0</td><td>0</td><td>0</td><td>0</td><td>0</td><td>0</td><td>1636</td><td>1636</td><td>1636</td><td>1636</td></tr></tbody></table></div>"
            ]
          },
          "metadata": {},
          "execution_count": 9
        }
      ]
    },
    {
      "cell_type": "code",
      "source": [
        "#Imputing null values in numerical features with last valid value in the particular column\n",
        "Df = Df.with_columns(pl.col(\"Temperature(F)\").fill_null(strategy=\"forward\"))\n",
        "Df = Df.with_columns(pl.col(\"Wind_Chill(F)\").fill_null(strategy=\"forward\"))\n",
        "Df = Df.with_columns(pl.col(\"Humidity(%)\").fill_null(strategy=\"forward\"))\n",
        "Df = Df.with_columns(pl.col(\"Pressure(in)\").fill_null(strategy=\"forward\"))\n",
        "Df = Df.with_columns(pl.col(\"Visibility(mi)\").fill_null(strategy=\"forward\"))\n",
        "Df = Df.with_columns(pl.col(\"Wind_Speed(mph)\").fill_null(strategy=\"forward\"))\n",
        "Df = Df.with_columns(pl.col(\"Precipitation(in)\").fill_null(strategy=\"forward\"))"
      ],
      "metadata": {
        "id": "5vgbCsR6V7eA"
      },
      "execution_count": 10,
      "outputs": []
    },
    {
      "cell_type": "code",
      "source": [
        "Df.select(pl.all().is_null().sum())"
      ],
      "metadata": {
        "colab": {
          "base_uri": "https://localhost:8080/",
          "height": 0
        },
        "id": "UhgT8-YsWx12",
        "outputId": "b3c34877-7b7e-4a55-8496-6bf075bbe09c"
      },
      "execution_count": 11,
      "outputs": [
        {
          "output_type": "execute_result",
          "data": {
            "text/plain": [
              "shape: (1, 41)\n",
              "┌─────┬────────┬──────────┬────────────┬───┬─────────────┬─────────────┬─────────────┬─────────────┐\n",
              "│ ID  ┆ Source ┆ Severity ┆ Start_Time ┆ … ┆ Sunrise_Sun ┆ Civil_Twili ┆ Nautical_Tw ┆ Astronomica │\n",
              "│ --- ┆ ---    ┆ ---      ┆ ---        ┆   ┆ set         ┆ ght         ┆ ilight      ┆ l_Twilight  │\n",
              "│ u32 ┆ u32    ┆ u32      ┆ u32        ┆   ┆ ---         ┆ ---         ┆ ---         ┆ ---         │\n",
              "│     ┆        ┆          ┆            ┆   ┆ u32         ┆ u32         ┆ u32         ┆ u32         │\n",
              "╞═════╪════════╪══════════╪════════════╪═══╪═════════════╪═════════════╪═════════════╪═════════════╡\n",
              "│ 0   ┆ 0      ┆ 0        ┆ 0          ┆ … ┆ 1636        ┆ 1636        ┆ 1636        ┆ 1636        │\n",
              "└─────┴────────┴──────────┴────────────┴───┴─────────────┴─────────────┴─────────────┴─────────────┘"
            ],
            "text/html": [
              "<div><style>\n",
              ".dataframe > thead > tr,\n",
              ".dataframe > tbody > tr {\n",
              "  text-align: right;\n",
              "  white-space: pre-wrap;\n",
              "}\n",
              "</style>\n",
              "<small>shape: (1, 41)</small><table border=\"1\" class=\"dataframe\"><thead><tr><th>ID</th><th>Source</th><th>Severity</th><th>Start_Time</th><th>Start_Lat</th><th>Start_Lng</th><th>Distance(mi)</th><th>Street</th><th>City</th><th>County</th><th>State</th><th>Zipcode</th><th>Country</th><th>Timezone</th><th>Airport_Code</th><th>Temperature(F)</th><th>Wind_Chill(F)</th><th>Humidity(%)</th><th>Pressure(in)</th><th>Visibility(mi)</th><th>Wind_Direction</th><th>Wind_Speed(mph)</th><th>Precipitation(in)</th><th>Weather_Condition</th><th>Amenity</th><th>Bump</th><th>Crossing</th><th>Give_Way</th><th>Junction</th><th>No_Exit</th><th>Railway</th><th>Roundabout</th><th>Station</th><th>Stop</th><th>Traffic_Calming</th><th>Traffic_Signal</th><th>Turning_Loop</th><th>Sunrise_Sunset</th><th>Civil_Twilight</th><th>Nautical_Twilight</th><th>Astronomical_Twilight</th></tr><tr><td>u32</td><td>u32</td><td>u32</td><td>u32</td><td>u32</td><td>u32</td><td>u32</td><td>u32</td><td>u32</td><td>u32</td><td>u32</td><td>u32</td><td>u32</td><td>u32</td><td>u32</td><td>u32</td><td>u32</td><td>u32</td><td>u32</td><td>u32</td><td>u32</td><td>u32</td><td>u32</td><td>u32</td><td>u32</td><td>u32</td><td>u32</td><td>u32</td><td>u32</td><td>u32</td><td>u32</td><td>u32</td><td>u32</td><td>u32</td><td>u32</td><td>u32</td><td>u32</td><td>u32</td><td>u32</td><td>u32</td><td>u32</td></tr></thead><tbody><tr><td>0</td><td>0</td><td>0</td><td>0</td><td>0</td><td>0</td><td>0</td><td>1712</td><td>28</td><td>0</td><td>0</td><td>136</td><td>0</td><td>453</td><td>1434</td><td>0</td><td>2</td><td>0</td><td>0</td><td>0</td><td>13580</td><td>2</td><td>0</td><td>18218</td><td>0</td><td>0</td><td>0</td><td>0</td><td>0</td><td>0</td><td>0</td><td>0</td><td>0</td><td>0</td><td>0</td><td>0</td><td>0</td><td>1636</td><td>1636</td><td>1636</td><td>1636</td></tr></tbody></table></div>"
            ]
          },
          "metadata": {},
          "execution_count": 11
        }
      ]
    },
    {
      "cell_type": "code",
      "source": [
        "Df.head(2)"
      ],
      "metadata": {
        "colab": {
          "base_uri": "https://localhost:8080/",
          "height": 0
        },
        "id": "0xWckM5GW0Ft",
        "outputId": "8e77ad93-c81b-4402-dd2a-228ddc3f17a0"
      },
      "execution_count": 12,
      "outputs": [
        {
          "output_type": "execute_result",
          "data": {
            "text/plain": [
              "shape: (2, 41)\n",
              "┌─────┬─────────┬──────────┬─────────────┬───┬─────────────┬─────────────┬────────────┬────────────┐\n",
              "│ ID  ┆ Source  ┆ Severity ┆ Start_Time  ┆ … ┆ Sunrise_Sun ┆ Civil_Twili ┆ Nautical_T ┆ Astronomic │\n",
              "│ --- ┆ ---     ┆ ---      ┆ ---         ┆   ┆ set         ┆ ght         ┆ wilight    ┆ al_Twiligh │\n",
              "│ str ┆ str     ┆ i64      ┆ str         ┆   ┆ ---         ┆ ---         ┆ ---        ┆ t          │\n",
              "│     ┆         ┆          ┆             ┆   ┆ str         ┆ str         ┆ str        ┆ ---        │\n",
              "│     ┆         ┆          ┆             ┆   ┆             ┆             ┆            ┆ str        │\n",
              "╞═════╪═════════╪══════════╪═════════════╪═══╪═════════════╪═════════════╪════════════╪════════════╡\n",
              "│ A-1 ┆ Source2 ┆ 3        ┆ 2016-02-08  ┆ … ┆ Night       ┆ Night       ┆ Night      ┆ Night      │\n",
              "│     ┆         ┆          ┆ 05:46:00    ┆   ┆             ┆             ┆            ┆            │\n",
              "│ A-2 ┆ Source2 ┆ 2        ┆ 2016-02-08  ┆ … ┆ Night       ┆ Night       ┆ Night      ┆ Day        │\n",
              "│     ┆         ┆          ┆ 06:07:59    ┆   ┆             ┆             ┆            ┆            │\n",
              "└─────┴─────────┴──────────┴─────────────┴───┴─────────────┴─────────────┴────────────┴────────────┘"
            ],
            "text/html": [
              "<div><style>\n",
              ".dataframe > thead > tr,\n",
              ".dataframe > tbody > tr {\n",
              "  text-align: right;\n",
              "  white-space: pre-wrap;\n",
              "}\n",
              "</style>\n",
              "<small>shape: (2, 41)</small><table border=\"1\" class=\"dataframe\"><thead><tr><th>ID</th><th>Source</th><th>Severity</th><th>Start_Time</th><th>Start_Lat</th><th>Start_Lng</th><th>Distance(mi)</th><th>Street</th><th>City</th><th>County</th><th>State</th><th>Zipcode</th><th>Country</th><th>Timezone</th><th>Airport_Code</th><th>Temperature(F)</th><th>Wind_Chill(F)</th><th>Humidity(%)</th><th>Pressure(in)</th><th>Visibility(mi)</th><th>Wind_Direction</th><th>Wind_Speed(mph)</th><th>Precipitation(in)</th><th>Weather_Condition</th><th>Amenity</th><th>Bump</th><th>Crossing</th><th>Give_Way</th><th>Junction</th><th>No_Exit</th><th>Railway</th><th>Roundabout</th><th>Station</th><th>Stop</th><th>Traffic_Calming</th><th>Traffic_Signal</th><th>Turning_Loop</th><th>Sunrise_Sunset</th><th>Civil_Twilight</th><th>Nautical_Twilight</th><th>Astronomical_Twilight</th></tr><tr><td>str</td><td>str</td><td>i64</td><td>str</td><td>f64</td><td>f64</td><td>f64</td><td>str</td><td>str</td><td>str</td><td>str</td><td>str</td><td>str</td><td>str</td><td>str</td><td>f64</td><td>f64</td><td>f64</td><td>f64</td><td>f64</td><td>str</td><td>f64</td><td>f64</td><td>str</td><td>bool</td><td>bool</td><td>bool</td><td>bool</td><td>bool</td><td>bool</td><td>bool</td><td>bool</td><td>bool</td><td>bool</td><td>bool</td><td>bool</td><td>bool</td><td>str</td><td>str</td><td>str</td><td>str</td></tr></thead><tbody><tr><td>&quot;A-1&quot;</td><td>&quot;Source2&quot;</td><td>3</td><td>&quot;2016-02-08 05:46:00&quot;</td><td>39.865147</td><td>-84.058723</td><td>0.01</td><td>&quot;I-70 E&quot;</td><td>&quot;Dayton&quot;</td><td>&quot;Montgomery&quot;</td><td>&quot;OH&quot;</td><td>&quot;45424&quot;</td><td>&quot;US&quot;</td><td>&quot;US/Eastern&quot;</td><td>&quot;KFFO&quot;</td><td>36.9</td><td>null</td><td>91.0</td><td>29.68</td><td>10.0</td><td>&quot;Calm&quot;</td><td>null</td><td>0.02</td><td>&quot;Light Rain&quot;</td><td>false</td><td>false</td><td>false</td><td>false</td><td>false</td><td>false</td><td>false</td><td>false</td><td>false</td><td>false</td><td>false</td><td>false</td><td>false</td><td>&quot;Night&quot;</td><td>&quot;Night&quot;</td><td>&quot;Night&quot;</td><td>&quot;Night&quot;</td></tr><tr><td>&quot;A-2&quot;</td><td>&quot;Source2&quot;</td><td>2</td><td>&quot;2016-02-08 06:07:59&quot;</td><td>39.928059</td><td>-82.831184</td><td>0.01</td><td>&quot;Brice Rd&quot;</td><td>&quot;Reynoldsburg&quot;</td><td>&quot;Franklin&quot;</td><td>&quot;OH&quot;</td><td>&quot;43068-3402&quot;</td><td>&quot;US&quot;</td><td>&quot;US/Eastern&quot;</td><td>&quot;KCMH&quot;</td><td>37.9</td><td>null</td><td>100.0</td><td>29.65</td><td>10.0</td><td>&quot;Calm&quot;</td><td>null</td><td>0.0</td><td>&quot;Light Rain&quot;</td><td>false</td><td>false</td><td>false</td><td>false</td><td>false</td><td>false</td><td>false</td><td>false</td><td>false</td><td>false</td><td>false</td><td>false</td><td>false</td><td>&quot;Night&quot;</td><td>&quot;Night&quot;</td><td>&quot;Night&quot;</td><td>&quot;Day&quot;</td></tr></tbody></table></div>"
            ]
          },
          "metadata": {},
          "execution_count": 12
        }
      ]
    },
    {
      "cell_type": "code",
      "source": [
        "#Imputing string features with high null value count with forward strategy imputation:\n",
        "Df = Df.with_columns(pl.col(\"Wind_Direction\").fill_null(strategy=\"forward\"))\n",
        "Df = Df.with_columns(pl.col(\"Weather_Condition\").fill_null(strategy=\"forward\"))"
      ],
      "metadata": {
        "id": "lSKbG20kjZEb"
      },
      "execution_count": 13,
      "outputs": []
    },
    {
      "cell_type": "code",
      "source": [
        "#Dropping all remaining rows containing null values as they are lesser in number w.r.t. the size of the total dataset:\n",
        "Df = Df.drop_nulls(subset = [\"Street\",\"City\",\"Zipcode\",\"Timezone\",\"Airport_Code\",\"Wind_Chill(F)\",\"Wind_Speed(mph)\",\"Sunrise_Sunset\",\"Civil_Twilight\",\"Nautical_Twilight\",\"Astronomical_Twilight\"])"
      ],
      "metadata": {
        "id": "7oxQgjX6jzbf"
      },
      "execution_count": 14,
      "outputs": []
    },
    {
      "cell_type": "code",
      "source": [
        "Df.select(pl.all().is_null().sum())"
      ],
      "metadata": {
        "colab": {
          "base_uri": "https://localhost:8080/",
          "height": 0
        },
        "id": "wF4Glbxoj_6d",
        "outputId": "53413ab2-06b3-422c-e9de-d97a20168a66"
      },
      "execution_count": 15,
      "outputs": [
        {
          "output_type": "execute_result",
          "data": {
            "text/plain": [
              "shape: (1, 41)\n",
              "┌─────┬────────┬──────────┬────────────┬───┬─────────────┬─────────────┬─────────────┬─────────────┐\n",
              "│ ID  ┆ Source ┆ Severity ┆ Start_Time ┆ … ┆ Sunrise_Sun ┆ Civil_Twili ┆ Nautical_Tw ┆ Astronomica │\n",
              "│ --- ┆ ---    ┆ ---      ┆ ---        ┆   ┆ set         ┆ ght         ┆ ilight      ┆ l_Twilight  │\n",
              "│ u32 ┆ u32    ┆ u32      ┆ u32        ┆   ┆ ---         ┆ ---         ┆ ---         ┆ ---         │\n",
              "│     ┆        ┆          ┆            ┆   ┆ u32         ┆ u32         ┆ u32         ┆ u32         │\n",
              "╞═════╪════════╪══════════╪════════════╪═══╪═════════════╪═════════════╪═════════════╪═════════════╡\n",
              "│ 0   ┆ 0      ┆ 0        ┆ 0          ┆ … ┆ 0           ┆ 0           ┆ 0           ┆ 0           │\n",
              "└─────┴────────┴──────────┴────────────┴───┴─────────────┴─────────────┴─────────────┴─────────────┘"
            ],
            "text/html": [
              "<div><style>\n",
              ".dataframe > thead > tr,\n",
              ".dataframe > tbody > tr {\n",
              "  text-align: right;\n",
              "  white-space: pre-wrap;\n",
              "}\n",
              "</style>\n",
              "<small>shape: (1, 41)</small><table border=\"1\" class=\"dataframe\"><thead><tr><th>ID</th><th>Source</th><th>Severity</th><th>Start_Time</th><th>Start_Lat</th><th>Start_Lng</th><th>Distance(mi)</th><th>Street</th><th>City</th><th>County</th><th>State</th><th>Zipcode</th><th>Country</th><th>Timezone</th><th>Airport_Code</th><th>Temperature(F)</th><th>Wind_Chill(F)</th><th>Humidity(%)</th><th>Pressure(in)</th><th>Visibility(mi)</th><th>Wind_Direction</th><th>Wind_Speed(mph)</th><th>Precipitation(in)</th><th>Weather_Condition</th><th>Amenity</th><th>Bump</th><th>Crossing</th><th>Give_Way</th><th>Junction</th><th>No_Exit</th><th>Railway</th><th>Roundabout</th><th>Station</th><th>Stop</th><th>Traffic_Calming</th><th>Traffic_Signal</th><th>Turning_Loop</th><th>Sunrise_Sunset</th><th>Civil_Twilight</th><th>Nautical_Twilight</th><th>Astronomical_Twilight</th></tr><tr><td>u32</td><td>u32</td><td>u32</td><td>u32</td><td>u32</td><td>u32</td><td>u32</td><td>u32</td><td>u32</td><td>u32</td><td>u32</td><td>u32</td><td>u32</td><td>u32</td><td>u32</td><td>u32</td><td>u32</td><td>u32</td><td>u32</td><td>u32</td><td>u32</td><td>u32</td><td>u32</td><td>u32</td><td>u32</td><td>u32</td><td>u32</td><td>u32</td><td>u32</td><td>u32</td><td>u32</td><td>u32</td><td>u32</td><td>u32</td><td>u32</td><td>u32</td><td>u32</td><td>u32</td><td>u32</td><td>u32</td><td>u32</td></tr></thead><tbody><tr><td>0</td><td>0</td><td>0</td><td>0</td><td>0</td><td>0</td><td>0</td><td>0</td><td>0</td><td>0</td><td>0</td><td>0</td><td>0</td><td>0</td><td>0</td><td>0</td><td>0</td><td>0</td><td>0</td><td>0</td><td>0</td><td>0</td><td>0</td><td>0</td><td>0</td><td>0</td><td>0</td><td>0</td><td>0</td><td>0</td><td>0</td><td>0</td><td>0</td><td>0</td><td>0</td><td>0</td><td>0</td><td>0</td><td>0</td><td>0</td><td>0</td></tr></tbody></table></div>"
            ]
          },
          "metadata": {},
          "execution_count": 15
        }
      ]
    },
    {
      "cell_type": "markdown",
      "source": [
        "All null values have been taken care of."
      ],
      "metadata": {
        "id": "eLpyTkcGlALW"
      }
    },
    {
      "cell_type": "code",
      "source": [
        "#Removing the target variable before scaling\n",
        "target_series = Df['Severity']\n",
        "Df = Df.drop(['Severity'])"
      ],
      "metadata": {
        "id": "Lx2xwA5FPOfX"
      },
      "execution_count": 16,
      "outputs": []
    },
    {
      "cell_type": "markdown",
      "source": [
        "# Scaling Numerical features:"
      ],
      "metadata": {
        "id": "Ub12vvNPBFUH"
      }
    },
    {
      "cell_type": "code",
      "source": [
        "import polars.selectors as cs\n",
        "from sklearn.preprocessing import StandardScaler"
      ],
      "metadata": {
        "id": "nEA7d22jCOJQ"
      },
      "execution_count": 17,
      "outputs": []
    },
    {
      "cell_type": "code",
      "source": [
        "Df = Df.with_columns([\n",
        "    ((pl.col(x) - pl.col(x).mean()) / pl.col(x).std()).alias(x)\n",
        "    for x in Df.select(cs.numeric()).columns\n",
        "])"
      ],
      "metadata": {
        "id": "h5N5oDXYGkM5"
      },
      "execution_count": 18,
      "outputs": []
    },
    {
      "cell_type": "code",
      "source": [
        "Df"
      ],
      "metadata": {
        "colab": {
          "base_uri": "https://localhost:8080/",
          "height": 0
        },
        "id": "FyoKDrZoG9lT",
        "outputId": "52e9ed15-ba1f-409f-fc34-620c95a2a332"
      },
      "execution_count": 19,
      "outputs": [
        {
          "output_type": "execute_result",
          "data": {
            "text/plain": [
              "shape: (995_832, 40)\n",
              "┌───────────┬─────────┬────────────┬───────────┬───┬───────────┬───────────┬───────────┬───────────┐\n",
              "│ ID        ┆ Source  ┆ Start_Time ┆ Start_Lat ┆ … ┆ Sunrise_S ┆ Civil_Twi ┆ Nautical_ ┆ Astronomi │\n",
              "│ ---       ┆ ---     ┆ ---        ┆ ---       ┆   ┆ unset     ┆ light     ┆ Twilight  ┆ cal_Twili │\n",
              "│ str       ┆ str     ┆ str        ┆ f64       ┆   ┆ ---       ┆ ---       ┆ ---       ┆ ght       │\n",
              "│           ┆         ┆            ┆           ┆   ┆ str       ┆ str       ┆ str       ┆ ---       │\n",
              "│           ┆         ┆            ┆           ┆   ┆           ┆           ┆           ┆ str       │\n",
              "╞═══════════╪═════════╪════════════╪═══════════╪═══╪═══════════╪═══════════╪═══════════╪═══════════╡\n",
              "│ A-3       ┆ Source2 ┆ 2016-02-08 ┆ 0.611725  ┆ … ┆ Night     ┆ Night     ┆ Day       ┆ Day       │\n",
              "│           ┆         ┆ 06:49:27   ┆           ┆   ┆           ┆           ┆           ┆           │\n",
              "│ A-4       ┆ Source2 ┆ 2016-02-08 ┆ 0.751197  ┆ … ┆ Night     ┆ Day       ┆ Day       ┆ Day       │\n",
              "│           ┆         ┆ 07:23:34   ┆           ┆   ┆           ┆           ┆           ┆           │\n",
              "│ A-5       ┆ Source2 ┆ 2016-02-08 ┆ 0.726755  ┆ … ┆ Day       ┆ Day       ┆ Day       ┆ Day       │\n",
              "│           ┆         ┆ 07:39:07   ┆           ┆   ┆           ┆           ┆           ┆           │\n",
              "│ A-6       ┆ Source2 ┆ 2016-02-08 ┆ 0.823079  ┆ … ┆ Day       ┆ Day       ┆ Day       ┆ Day       │\n",
              "│           ┆         ┆ 07:44:26   ┆           ┆   ┆           ┆           ┆           ┆           │\n",
              "│ A-7       ┆ Source2 ┆ 2016-02-08 ┆ 0.75334   ┆ … ┆ Day       ┆ Day       ┆ Day       ┆ Day       │\n",
              "│           ┆         ┆ 07:59:35   ┆           ┆   ┆           ┆           ┆           ┆           │\n",
              "│ …         ┆ …       ┆ …          ┆ …         ┆ … ┆ …         ┆ …         ┆ …         ┆ …         │\n",
              "│ A-1010261 ┆ Source2 ┆ 2021-06-10 ┆ -0.643856 ┆ … ┆ Day       ┆ Day       ┆ Day       ┆ Day       │\n",
              "│           ┆         ┆ 11:25:11   ┆           ┆   ┆           ┆           ┆           ┆           │\n",
              "│ A-1010262 ┆ Source2 ┆ 2021-06-10 ┆ -0.666035 ┆ … ┆ Day       ┆ Day       ┆ Day       ┆ Day       │\n",
              "│           ┆         ┆ 12:10:55   ┆           ┆   ┆           ┆           ┆           ┆           │\n",
              "│ A-1010263 ┆ Source2 ┆ 2021-06-10 ┆ -0.651048 ┆ … ┆ Day       ┆ Day       ┆ Day       ┆ Day       │\n",
              "│           ┆         ┆ 12:19:56   ┆           ┆   ┆           ┆           ┆           ┆           │\n",
              "│ A-1010264 ┆ Source2 ┆ 2021-06-10 ┆ -0.665739 ┆ … ┆ Day       ┆ Day       ┆ Day       ┆ Day       │\n",
              "│           ┆         ┆ 12:37:52   ┆           ┆   ┆           ┆           ┆           ┆           │\n",
              "│ A-1010265 ┆ Source2 ┆ 2021-06-10 ┆ -0.641983 ┆ … ┆ Day       ┆ Day       ┆ Day       ┆ Day       │\n",
              "│           ┆         ┆ 14:16:20   ┆           ┆   ┆           ┆           ┆           ┆           │\n",
              "└───────────┴─────────┴────────────┴───────────┴───┴───────────┴───────────┴───────────┴───────────┘"
            ],
            "text/html": [
              "<div><style>\n",
              ".dataframe > thead > tr,\n",
              ".dataframe > tbody > tr {\n",
              "  text-align: right;\n",
              "  white-space: pre-wrap;\n",
              "}\n",
              "</style>\n",
              "<small>shape: (995_832, 40)</small><table border=\"1\" class=\"dataframe\"><thead><tr><th>ID</th><th>Source</th><th>Start_Time</th><th>Start_Lat</th><th>Start_Lng</th><th>Distance(mi)</th><th>Street</th><th>City</th><th>County</th><th>State</th><th>Zipcode</th><th>Country</th><th>Timezone</th><th>Airport_Code</th><th>Temperature(F)</th><th>Wind_Chill(F)</th><th>Humidity(%)</th><th>Pressure(in)</th><th>Visibility(mi)</th><th>Wind_Direction</th><th>Wind_Speed(mph)</th><th>Precipitation(in)</th><th>Weather_Condition</th><th>Amenity</th><th>Bump</th><th>Crossing</th><th>Give_Way</th><th>Junction</th><th>No_Exit</th><th>Railway</th><th>Roundabout</th><th>Station</th><th>Stop</th><th>Traffic_Calming</th><th>Traffic_Signal</th><th>Turning_Loop</th><th>Sunrise_Sunset</th><th>Civil_Twilight</th><th>Nautical_Twilight</th><th>Astronomical_Twilight</th></tr><tr><td>str</td><td>str</td><td>str</td><td>f64</td><td>f64</td><td>f64</td><td>str</td><td>str</td><td>str</td><td>str</td><td>str</td><td>str</td><td>str</td><td>str</td><td>f64</td><td>f64</td><td>f64</td><td>f64</td><td>f64</td><td>str</td><td>f64</td><td>f64</td><td>str</td><td>bool</td><td>bool</td><td>bool</td><td>bool</td><td>bool</td><td>bool</td><td>bool</td><td>bool</td><td>bool</td><td>bool</td><td>bool</td><td>bool</td><td>bool</td><td>str</td><td>str</td><td>str</td><td>str</td></tr></thead><tbody><tr><td>&quot;A-3&quot;</td><td>&quot;Source2&quot;</td><td>&quot;2016-02-08 06:49:27&quot;</td><td>0.611725</td><td>0.618225</td><td>-0.110022</td><td>&quot;State Route 32&quot;</td><td>&quot;Williamsburg&quot;</td><td>&quot;Clermont&quot;</td><td>&quot;OH&quot;</td><td>&quot;45176&quot;</td><td>&quot;US&quot;</td><td>&quot;US/Eastern&quot;</td><td>&quot;KI69&quot;</td><td>-1.640993</td><td>-1.211852</td><td>1.550824</td><td>-0.030468</td><td>0.366151</td><td>&quot;SW&quot;</td><td>-0.761427</td><td>-0.083077</td><td>&quot;Overcast&quot;</td><td>false</td><td>false</td><td>false</td><td>false</td><td>false</td><td>false</td><td>false</td><td>false</td><td>false</td><td>false</td><td>false</td><td>true</td><td>false</td><td>&quot;Night&quot;</td><td>&quot;Night&quot;</td><td>&quot;Day&quot;</td><td>&quot;Day&quot;</td></tr><tr><td>&quot;A-4&quot;</td><td>&quot;Source2&quot;</td><td>&quot;2016-02-08 07:23:34&quot;</td><td>0.751197</td><td>0.608281</td><td>-0.110022</td><td>&quot;I-75 S&quot;</td><td>&quot;Dayton&quot;</td><td>&quot;Montgomery&quot;</td><td>&quot;OH&quot;</td><td>&quot;45417&quot;</td><td>&quot;US&quot;</td><td>&quot;US/Eastern&quot;</td><td>&quot;KDAY&quot;</td><td>-1.692592</td><td>-1.323379</td><td>1.368134</td><td>-0.068358</td><td>-0.076316</td><td>&quot;SW&quot;</td><td>-0.557635</td><td>-0.083077</td><td>&quot;Mostly Cloudy&quot;</td><td>false</td><td>false</td><td>false</td><td>false</td><td>false</td><td>false</td><td>false</td><td>false</td><td>false</td><td>false</td><td>false</td><td>false</td><td>false</td><td>&quot;Night&quot;</td><td>&quot;Day&quot;</td><td>&quot;Day&quot;</td><td>&quot;Day&quot;</td></tr><tr><td>&quot;A-5&quot;</td><td>&quot;Source2&quot;</td><td>&quot;2016-02-08 07:39:07&quot;</td><td>0.726755</td><td>0.609271</td><td>-0.110022</td><td>&quot;Miamisburg Centerville Rd&quot;</td><td>&quot;Dayton&quot;</td><td>&quot;Montgomery&quot;</td><td>&quot;OH&quot;</td><td>&quot;45459&quot;</td><td>&quot;US&quot;</td><td>&quot;US/Eastern&quot;</td><td>&quot;KMGY&quot;</td><td>-1.640993</td><td>-1.211852</td><td>1.048427</td><td>-0.055728</td><td>-1.403715</td><td>&quot;SW&quot;</td><td>-0.761427</td><td>-0.083077</td><td>&quot;Mostly Cloudy&quot;</td><td>false</td><td>false</td><td>false</td><td>false</td><td>false</td><td>false</td><td>false</td><td>false</td><td>false</td><td>false</td><td>false</td><td>true</td><td>false</td><td>&quot;Day&quot;</td><td>&quot;Day&quot;</td><td>&quot;Day&quot;</td><td>&quot;Day&quot;</td></tr><tr><td>&quot;A-6&quot;</td><td>&quot;Source2&quot;</td><td>&quot;2016-02-08 07:44:26&quot;</td><td>0.823079</td><td>0.681893</td><td>-0.110022</td><td>&quot;Westerville Rd&quot;</td><td>&quot;Westerville&quot;</td><td>&quot;Franklin&quot;</td><td>&quot;OH&quot;</td><td>&quot;43081&quot;</td><td>&quot;US&quot;</td><td>&quot;US/Eastern&quot;</td><td>&quot;KCMH&quot;</td><td>-1.532061</td><td>-1.105173</td><td>1.413806</td><td>-0.080988</td><td>-0.961249</td><td>&quot;SSW&quot;</td><td>-0.761427</td><td>-0.037278</td><td>&quot;Light Rain&quot;</td><td>false</td><td>false</td><td>false</td><td>false</td><td>false</td><td>false</td><td>false</td><td>false</td><td>false</td><td>false</td><td>false</td><td>false</td><td>false</td><td>&quot;Day&quot;</td><td>&quot;Day&quot;</td><td>&quot;Day&quot;</td><td>&quot;Day&quot;</td></tr><tr><td>&quot;A-7&quot;</td><td>&quot;Source2&quot;</td><td>&quot;2016-02-08 07:59:35&quot;</td><td>0.75334</td><td>0.606848</td><td>-0.117097</td><td>&quot;N Woodward Ave&quot;</td><td>&quot;Dayton&quot;</td><td>&quot;Montgomery&quot;</td><td>&quot;OH&quot;</td><td>&quot;45417-2476&quot;</td><td>&quot;US&quot;</td><td>&quot;US/Eastern&quot;</td><td>&quot;KDAY&quot;</td><td>-1.755658</td><td>-1.323379</td><td>1.550824</td><td>-0.043098</td><td>-0.961249</td><td>&quot;WSW&quot;</td><td>-0.761427</td><td>-0.037278</td><td>&quot;Overcast&quot;</td><td>false</td><td>false</td><td>false</td><td>false</td><td>false</td><td>false</td><td>false</td><td>false</td><td>false</td><td>false</td><td>false</td><td>false</td><td>false</td><td>&quot;Day&quot;</td><td>&quot;Day&quot;</td><td>&quot;Day&quot;</td><td>&quot;Day&quot;</td></tr><tr><td>&hellip;</td><td>&hellip;</td><td>&hellip;</td><td>&hellip;</td><td>&hellip;</td><td>&hellip;</td><td>&hellip;</td><td>&hellip;</td><td>&hellip;</td><td>&hellip;</td><td>&hellip;</td><td>&hellip;</td><td>&hellip;</td><td>&hellip;</td><td>&hellip;</td><td>&hellip;</td><td>&hellip;</td><td>&hellip;</td><td>&hellip;</td><td>&hellip;</td><td>&hellip;</td><td>&hellip;</td><td>&hellip;</td><td>&hellip;</td><td>&hellip;</td><td>&hellip;</td><td>&hellip;</td><td>&hellip;</td><td>&hellip;</td><td>&hellip;</td><td>&hellip;</td><td>&hellip;</td><td>&hellip;</td><td>&hellip;</td><td>&hellip;</td><td>&hellip;</td><td>&hellip;</td><td>&hellip;</td><td>&hellip;</td><td>&hellip;</td></tr><tr><td>&quot;A-1010261&quot;</td><td>&quot;Source2&quot;</td><td>&quot;2021-06-10 11:25:11&quot;</td><td>-0.643856</td><td>-0.111083</td><td>-0.117097</td><td>&quot;Skillman St&quot;</td><td>&quot;Dallas&quot;</td><td>&quot;Dallas&quot;</td><td>&quot;TX&quot;</td><td>&quot;75243&quot;</td><td>&quot;US&quot;</td><td>&quot;US/Central&quot;</td><td>&quot;KADS&quot;</td><td>1.110973</td><td>1.246596</td><td>0.180651</td><td>-0.5483</td><td>0.366151</td><td>&quot;S&quot;</td><td>0.257531</td><td>-0.083077</td><td>&quot;Mostly Cloudy&quot;</td><td>false</td><td>false</td><td>false</td><td>false</td><td>false</td><td>false</td><td>false</td><td>false</td><td>false</td><td>false</td><td>false</td><td>true</td><td>false</td><td>&quot;Day&quot;</td><td>&quot;Day&quot;</td><td>&quot;Day&quot;</td><td>&quot;Day&quot;</td></tr><tr><td>&quot;A-1010262&quot;</td><td>&quot;Source2&quot;</td><td>&quot;2021-06-10 12:10:55&quot;</td><td>-0.666035</td><td>-0.112231</td><td>-0.117097</td><td>&quot;I-30 E&quot;</td><td>&quot;Dallas&quot;</td><td>&quot;Dallas&quot;</td><td>&quot;TX&quot;</td><td>&quot;75223&quot;</td><td>&quot;US&quot;</td><td>&quot;US/Central&quot;</td><td>&quot;KDAL&quot;</td><td>1.05364</td><td>1.198106</td><td>0.134979</td><td>-0.346219</td><td>0.366151</td><td>&quot;SSE&quot;</td><td>1.183857</td><td>-0.083077</td><td>&quot;Cloudy&quot;</td><td>false</td><td>false</td><td>false</td><td>false</td><td>false</td><td>false</td><td>false</td><td>false</td><td>false</td><td>false</td><td>false</td><td>false</td><td>false</td><td>&quot;Day&quot;</td><td>&quot;Day&quot;</td><td>&quot;Day&quot;</td><td>&quot;Day&quot;</td></tr><tr><td>&quot;A-1010263&quot;</td><td>&quot;Source2&quot;</td><td>&quot;2021-06-10 12:19:56&quot;</td><td>-0.651048</td><td>-0.101044</td><td>-0.117097</td><td>&quot;E Interstate 30&quot;</td><td>&quot;Garland&quot;</td><td>&quot;Dallas&quot;</td><td>&quot;TX&quot;</td><td>&quot;75043-4453&quot;</td><td>&quot;US&quot;</td><td>&quot;US/Central&quot;</td><td>&quot;KHQZ&quot;</td><td>1.110973</td><td>1.246596</td><td>0.180651</td><td>-0.257809</td><td>0.366151</td><td>&quot;S&quot;</td><td>0.813327</td><td>-0.083077</td><td>&quot;Mostly Cloudy&quot;</td><td>false</td><td>false</td><td>false</td><td>false</td><td>false</td><td>false</td><td>false</td><td>false</td><td>false</td><td>false</td><td>false</td><td>false</td><td>false</td><td>&quot;Day&quot;</td><td>&quot;Day&quot;</td><td>&quot;Day&quot;</td><td>&quot;Day&quot;</td></tr><tr><td>&quot;A-1010264&quot;</td><td>&quot;Source2&quot;</td><td>&quot;2021-06-10 12:37:52&quot;</td><td>-0.665739</td><td>-0.105705</td><td>-0.117097</td><td>&quot;US-80 W&quot;</td><td>&quot;Mesquite&quot;</td><td>&quot;Dallas&quot;</td><td>&quot;TX&quot;</td><td>&quot;75150&quot;</td><td>&quot;US&quot;</td><td>&quot;US/Central&quot;</td><td>&quot;KHQZ&quot;</td><td>1.110973</td><td>1.246596</td><td>0.180651</td><td>-0.283069</td><td>0.366151</td><td>&quot;S&quot;</td><td>1.369122</td><td>-0.083077</td><td>&quot;Mostly Cloudy&quot;</td><td>false</td><td>false</td><td>false</td><td>false</td><td>false</td><td>false</td><td>false</td><td>false</td><td>false</td><td>false</td><td>false</td><td>false</td><td>false</td><td>&quot;Day&quot;</td><td>&quot;Day&quot;</td><td>&quot;Day&quot;</td><td>&quot;Day&quot;</td></tr><tr><td>&quot;A-1010265&quot;</td><td>&quot;Source2&quot;</td><td>&quot;2021-06-10 14:16:20&quot;</td><td>-0.641983</td><td>-0.114009</td><td>-0.117097</td><td>&quot;Forest Ln&quot;</td><td>&quot;Dallas&quot;</td><td>&quot;Dallas&quot;</td><td>&quot;TX&quot;</td><td>&quot;75243&quot;</td><td>&quot;US&quot;</td><td>&quot;US/Central&quot;</td><td>&quot;KADS&quot;</td><td>1.225638</td><td>1.246596</td><td>-0.184728</td><td>-0.57356</td><td>1.69355</td><td>&quot;S&quot;</td><td>1.369122</td><td>-0.083077</td><td>&quot;Cloudy&quot;</td><td>false</td><td>false</td><td>false</td><td>false</td><td>false</td><td>false</td><td>false</td><td>false</td><td>false</td><td>false</td><td>false</td><td>true</td><td>false</td><td>&quot;Day&quot;</td><td>&quot;Day&quot;</td><td>&quot;Day&quot;</td><td>&quot;Day&quot;</td></tr></tbody></table></div>"
            ]
          },
          "metadata": {},
          "execution_count": 19
        }
      ]
    },
    {
      "cell_type": "markdown",
      "source": [
        "# Encoding Boolean features:"
      ],
      "metadata": {
        "id": "_wUrTZ6ie5pp"
      }
    },
    {
      "cell_type": "code",
      "source": [
        "Df.head(2)"
      ],
      "metadata": {
        "id": "fWoIW46ce_fi",
        "outputId": "fcdff448-4e1c-417e-c2cf-f4eaff58c273",
        "colab": {
          "base_uri": "https://localhost:8080/",
          "height": 0
        }
      },
      "execution_count": 20,
      "outputs": [
        {
          "output_type": "execute_result",
          "data": {
            "text/plain": [
              "shape: (2, 40)\n",
              "┌─────┬─────────┬─────────────┬───────────┬───┬─────────────┬────────────┬────────────┬────────────┐\n",
              "│ ID  ┆ Source  ┆ Start_Time  ┆ Start_Lat ┆ … ┆ Sunrise_Sun ┆ Civil_Twil ┆ Nautical_T ┆ Astronomic │\n",
              "│ --- ┆ ---     ┆ ---         ┆ ---       ┆   ┆ set         ┆ ight       ┆ wilight    ┆ al_Twiligh │\n",
              "│ str ┆ str     ┆ str         ┆ f64       ┆   ┆ ---         ┆ ---        ┆ ---        ┆ t          │\n",
              "│     ┆         ┆             ┆           ┆   ┆ str         ┆ str        ┆ str        ┆ ---        │\n",
              "│     ┆         ┆             ┆           ┆   ┆             ┆            ┆            ┆ str        │\n",
              "╞═════╪═════════╪═════════════╪═══════════╪═══╪═════════════╪════════════╪════════════╪════════════╡\n",
              "│ A-3 ┆ Source2 ┆ 2016-02-08  ┆ 0.611725  ┆ … ┆ Night       ┆ Night      ┆ Day        ┆ Day        │\n",
              "│     ┆         ┆ 06:49:27    ┆           ┆   ┆             ┆            ┆            ┆            │\n",
              "│ A-4 ┆ Source2 ┆ 2016-02-08  ┆ 0.751197  ┆ … ┆ Night       ┆ Day        ┆ Day        ┆ Day        │\n",
              "│     ┆         ┆ 07:23:34    ┆           ┆   ┆             ┆            ┆            ┆            │\n",
              "└─────┴─────────┴─────────────┴───────────┴───┴─────────────┴────────────┴────────────┴────────────┘"
            ],
            "text/html": [
              "<div><style>\n",
              ".dataframe > thead > tr,\n",
              ".dataframe > tbody > tr {\n",
              "  text-align: right;\n",
              "  white-space: pre-wrap;\n",
              "}\n",
              "</style>\n",
              "<small>shape: (2, 40)</small><table border=\"1\" class=\"dataframe\"><thead><tr><th>ID</th><th>Source</th><th>Start_Time</th><th>Start_Lat</th><th>Start_Lng</th><th>Distance(mi)</th><th>Street</th><th>City</th><th>County</th><th>State</th><th>Zipcode</th><th>Country</th><th>Timezone</th><th>Airport_Code</th><th>Temperature(F)</th><th>Wind_Chill(F)</th><th>Humidity(%)</th><th>Pressure(in)</th><th>Visibility(mi)</th><th>Wind_Direction</th><th>Wind_Speed(mph)</th><th>Precipitation(in)</th><th>Weather_Condition</th><th>Amenity</th><th>Bump</th><th>Crossing</th><th>Give_Way</th><th>Junction</th><th>No_Exit</th><th>Railway</th><th>Roundabout</th><th>Station</th><th>Stop</th><th>Traffic_Calming</th><th>Traffic_Signal</th><th>Turning_Loop</th><th>Sunrise_Sunset</th><th>Civil_Twilight</th><th>Nautical_Twilight</th><th>Astronomical_Twilight</th></tr><tr><td>str</td><td>str</td><td>str</td><td>f64</td><td>f64</td><td>f64</td><td>str</td><td>str</td><td>str</td><td>str</td><td>str</td><td>str</td><td>str</td><td>str</td><td>f64</td><td>f64</td><td>f64</td><td>f64</td><td>f64</td><td>str</td><td>f64</td><td>f64</td><td>str</td><td>bool</td><td>bool</td><td>bool</td><td>bool</td><td>bool</td><td>bool</td><td>bool</td><td>bool</td><td>bool</td><td>bool</td><td>bool</td><td>bool</td><td>bool</td><td>str</td><td>str</td><td>str</td><td>str</td></tr></thead><tbody><tr><td>&quot;A-3&quot;</td><td>&quot;Source2&quot;</td><td>&quot;2016-02-08 06:49:27&quot;</td><td>0.611725</td><td>0.618225</td><td>-0.110022</td><td>&quot;State Route 32&quot;</td><td>&quot;Williamsburg&quot;</td><td>&quot;Clermont&quot;</td><td>&quot;OH&quot;</td><td>&quot;45176&quot;</td><td>&quot;US&quot;</td><td>&quot;US/Eastern&quot;</td><td>&quot;KI69&quot;</td><td>-1.640993</td><td>-1.211852</td><td>1.550824</td><td>-0.030468</td><td>0.366151</td><td>&quot;SW&quot;</td><td>-0.761427</td><td>-0.083077</td><td>&quot;Overcast&quot;</td><td>false</td><td>false</td><td>false</td><td>false</td><td>false</td><td>false</td><td>false</td><td>false</td><td>false</td><td>false</td><td>false</td><td>true</td><td>false</td><td>&quot;Night&quot;</td><td>&quot;Night&quot;</td><td>&quot;Day&quot;</td><td>&quot;Day&quot;</td></tr><tr><td>&quot;A-4&quot;</td><td>&quot;Source2&quot;</td><td>&quot;2016-02-08 07:23:34&quot;</td><td>0.751197</td><td>0.608281</td><td>-0.110022</td><td>&quot;I-75 S&quot;</td><td>&quot;Dayton&quot;</td><td>&quot;Montgomery&quot;</td><td>&quot;OH&quot;</td><td>&quot;45417&quot;</td><td>&quot;US&quot;</td><td>&quot;US/Eastern&quot;</td><td>&quot;KDAY&quot;</td><td>-1.692592</td><td>-1.323379</td><td>1.368134</td><td>-0.068358</td><td>-0.076316</td><td>&quot;SW&quot;</td><td>-0.557635</td><td>-0.083077</td><td>&quot;Mostly Cloudy&quot;</td><td>false</td><td>false</td><td>false</td><td>false</td><td>false</td><td>false</td><td>false</td><td>false</td><td>false</td><td>false</td><td>false</td><td>false</td><td>false</td><td>&quot;Night&quot;</td><td>&quot;Day&quot;</td><td>&quot;Day&quot;</td><td>&quot;Day&quot;</td></tr></tbody></table></div>"
            ]
          },
          "metadata": {},
          "execution_count": 20
        }
      ]
    },
    {
      "cell_type": "code",
      "source": [
        "Df = Df.with_columns([\n",
        "    pl.col(\"Amenity\").cast(pl.Float32),\n",
        "    pl.col(\"Bump\").cast(pl.Float32),\n",
        "    pl.col(\"Crossing\").cast(pl.Float32),\n",
        "    pl.col(\"Give_Way\").cast(pl.Float32),\n",
        "    pl.col(\"Junction\").cast(pl.Float32),\n",
        "    pl.col(\"No_Exit\").cast(pl.Float32),\n",
        "    pl.col(\"Railway\").cast(pl.Float32),\n",
        "    pl.col(\"Roundabout\").cast(pl.Float32),\n",
        "    pl.col(\"Station\").cast(pl.Float32),\n",
        "    pl.col(\"Stop\").cast(pl.Float32),\n",
        "    pl.col(\"Traffic_Calming\").cast(pl.Float32),\n",
        "    pl.col(\"Traffic_Signal\").cast(pl.Float32),\n",
        "    pl.col(\"Turning_Loop\").cast(pl.Float32)\n",
        "])"
      ],
      "metadata": {
        "id": "DMRyOMb0zk-A"
      },
      "execution_count": 21,
      "outputs": []
    },
    {
      "cell_type": "code",
      "source": [
        "Df.head(2)"
      ],
      "metadata": {
        "colab": {
          "base_uri": "https://localhost:8080/",
          "height": 0
        },
        "id": "Ri14KdZ30eck",
        "outputId": "fcaa6b37-b677-4e06-e4f9-a75fc4335c38"
      },
      "execution_count": 22,
      "outputs": [
        {
          "output_type": "execute_result",
          "data": {
            "text/plain": [
              "shape: (2, 40)\n",
              "┌─────┬─────────┬─────────────┬───────────┬───┬─────────────┬────────────┬────────────┬────────────┐\n",
              "│ ID  ┆ Source  ┆ Start_Time  ┆ Start_Lat ┆ … ┆ Sunrise_Sun ┆ Civil_Twil ┆ Nautical_T ┆ Astronomic │\n",
              "│ --- ┆ ---     ┆ ---         ┆ ---       ┆   ┆ set         ┆ ight       ┆ wilight    ┆ al_Twiligh │\n",
              "│ str ┆ str     ┆ str         ┆ f64       ┆   ┆ ---         ┆ ---        ┆ ---        ┆ t          │\n",
              "│     ┆         ┆             ┆           ┆   ┆ str         ┆ str        ┆ str        ┆ ---        │\n",
              "│     ┆         ┆             ┆           ┆   ┆             ┆            ┆            ┆ str        │\n",
              "╞═════╪═════════╪═════════════╪═══════════╪═══╪═════════════╪════════════╪════════════╪════════════╡\n",
              "│ A-3 ┆ Source2 ┆ 2016-02-08  ┆ 0.611725  ┆ … ┆ Night       ┆ Night      ┆ Day        ┆ Day        │\n",
              "│     ┆         ┆ 06:49:27    ┆           ┆   ┆             ┆            ┆            ┆            │\n",
              "│ A-4 ┆ Source2 ┆ 2016-02-08  ┆ 0.751197  ┆ … ┆ Night       ┆ Day        ┆ Day        ┆ Day        │\n",
              "│     ┆         ┆ 07:23:34    ┆           ┆   ┆             ┆            ┆            ┆            │\n",
              "└─────┴─────────┴─────────────┴───────────┴───┴─────────────┴────────────┴────────────┴────────────┘"
            ],
            "text/html": [
              "<div><style>\n",
              ".dataframe > thead > tr,\n",
              ".dataframe > tbody > tr {\n",
              "  text-align: right;\n",
              "  white-space: pre-wrap;\n",
              "}\n",
              "</style>\n",
              "<small>shape: (2, 40)</small><table border=\"1\" class=\"dataframe\"><thead><tr><th>ID</th><th>Source</th><th>Start_Time</th><th>Start_Lat</th><th>Start_Lng</th><th>Distance(mi)</th><th>Street</th><th>City</th><th>County</th><th>State</th><th>Zipcode</th><th>Country</th><th>Timezone</th><th>Airport_Code</th><th>Temperature(F)</th><th>Wind_Chill(F)</th><th>Humidity(%)</th><th>Pressure(in)</th><th>Visibility(mi)</th><th>Wind_Direction</th><th>Wind_Speed(mph)</th><th>Precipitation(in)</th><th>Weather_Condition</th><th>Amenity</th><th>Bump</th><th>Crossing</th><th>Give_Way</th><th>Junction</th><th>No_Exit</th><th>Railway</th><th>Roundabout</th><th>Station</th><th>Stop</th><th>Traffic_Calming</th><th>Traffic_Signal</th><th>Turning_Loop</th><th>Sunrise_Sunset</th><th>Civil_Twilight</th><th>Nautical_Twilight</th><th>Astronomical_Twilight</th></tr><tr><td>str</td><td>str</td><td>str</td><td>f64</td><td>f64</td><td>f64</td><td>str</td><td>str</td><td>str</td><td>str</td><td>str</td><td>str</td><td>str</td><td>str</td><td>f64</td><td>f64</td><td>f64</td><td>f64</td><td>f64</td><td>str</td><td>f64</td><td>f64</td><td>str</td><td>f32</td><td>f32</td><td>f32</td><td>f32</td><td>f32</td><td>f32</td><td>f32</td><td>f32</td><td>f32</td><td>f32</td><td>f32</td><td>f32</td><td>f32</td><td>str</td><td>str</td><td>str</td><td>str</td></tr></thead><tbody><tr><td>&quot;A-3&quot;</td><td>&quot;Source2&quot;</td><td>&quot;2016-02-08 06:49:27&quot;</td><td>0.611725</td><td>0.618225</td><td>-0.110022</td><td>&quot;State Route 32&quot;</td><td>&quot;Williamsburg&quot;</td><td>&quot;Clermont&quot;</td><td>&quot;OH&quot;</td><td>&quot;45176&quot;</td><td>&quot;US&quot;</td><td>&quot;US/Eastern&quot;</td><td>&quot;KI69&quot;</td><td>-1.640993</td><td>-1.211852</td><td>1.550824</td><td>-0.030468</td><td>0.366151</td><td>&quot;SW&quot;</td><td>-0.761427</td><td>-0.083077</td><td>&quot;Overcast&quot;</td><td>0.0</td><td>0.0</td><td>0.0</td><td>0.0</td><td>0.0</td><td>0.0</td><td>0.0</td><td>0.0</td><td>0.0</td><td>0.0</td><td>0.0</td><td>1.0</td><td>0.0</td><td>&quot;Night&quot;</td><td>&quot;Night&quot;</td><td>&quot;Day&quot;</td><td>&quot;Day&quot;</td></tr><tr><td>&quot;A-4&quot;</td><td>&quot;Source2&quot;</td><td>&quot;2016-02-08 07:23:34&quot;</td><td>0.751197</td><td>0.608281</td><td>-0.110022</td><td>&quot;I-75 S&quot;</td><td>&quot;Dayton&quot;</td><td>&quot;Montgomery&quot;</td><td>&quot;OH&quot;</td><td>&quot;45417&quot;</td><td>&quot;US&quot;</td><td>&quot;US/Eastern&quot;</td><td>&quot;KDAY&quot;</td><td>-1.692592</td><td>-1.323379</td><td>1.368134</td><td>-0.068358</td><td>-0.076316</td><td>&quot;SW&quot;</td><td>-0.557635</td><td>-0.083077</td><td>&quot;Mostly Cloudy&quot;</td><td>0.0</td><td>0.0</td><td>0.0</td><td>0.0</td><td>0.0</td><td>0.0</td><td>0.0</td><td>0.0</td><td>0.0</td><td>0.0</td><td>0.0</td><td>0.0</td><td>0.0</td><td>&quot;Night&quot;</td><td>&quot;Day&quot;</td><td>&quot;Day&quot;</td><td>&quot;Day&quot;</td></tr></tbody></table></div>"
            ]
          },
          "metadata": {},
          "execution_count": 22
        }
      ]
    },
    {
      "cell_type": "markdown",
      "source": [
        "# Casting all non-categorical features to float32:"
      ],
      "metadata": {
        "id": "5koaxGdV0qyj"
      }
    },
    {
      "cell_type": "code",
      "source": [
        "Df.head(2)"
      ],
      "metadata": {
        "colab": {
          "base_uri": "https://localhost:8080/",
          "height": 0
        },
        "id": "9j9Ifw0Q0wAa",
        "outputId": "0f38b20b-dc9f-49a2-bb4b-484215c3b445"
      },
      "execution_count": 23,
      "outputs": [
        {
          "output_type": "execute_result",
          "data": {
            "text/plain": [
              "shape: (2, 40)\n",
              "┌─────┬─────────┬─────────────┬───────────┬───┬─────────────┬────────────┬────────────┬────────────┐\n",
              "│ ID  ┆ Source  ┆ Start_Time  ┆ Start_Lat ┆ … ┆ Sunrise_Sun ┆ Civil_Twil ┆ Nautical_T ┆ Astronomic │\n",
              "│ --- ┆ ---     ┆ ---         ┆ ---       ┆   ┆ set         ┆ ight       ┆ wilight    ┆ al_Twiligh │\n",
              "│ str ┆ str     ┆ str         ┆ f64       ┆   ┆ ---         ┆ ---        ┆ ---        ┆ t          │\n",
              "│     ┆         ┆             ┆           ┆   ┆ str         ┆ str        ┆ str        ┆ ---        │\n",
              "│     ┆         ┆             ┆           ┆   ┆             ┆            ┆            ┆ str        │\n",
              "╞═════╪═════════╪═════════════╪═══════════╪═══╪═════════════╪════════════╪════════════╪════════════╡\n",
              "│ A-3 ┆ Source2 ┆ 2016-02-08  ┆ 0.611725  ┆ … ┆ Night       ┆ Night      ┆ Day        ┆ Day        │\n",
              "│     ┆         ┆ 06:49:27    ┆           ┆   ┆             ┆            ┆            ┆            │\n",
              "│ A-4 ┆ Source2 ┆ 2016-02-08  ┆ 0.751197  ┆ … ┆ Night       ┆ Day        ┆ Day        ┆ Day        │\n",
              "│     ┆         ┆ 07:23:34    ┆           ┆   ┆             ┆            ┆            ┆            │\n",
              "└─────┴─────────┴─────────────┴───────────┴───┴─────────────┴────────────┴────────────┴────────────┘"
            ],
            "text/html": [
              "<div><style>\n",
              ".dataframe > thead > tr,\n",
              ".dataframe > tbody > tr {\n",
              "  text-align: right;\n",
              "  white-space: pre-wrap;\n",
              "}\n",
              "</style>\n",
              "<small>shape: (2, 40)</small><table border=\"1\" class=\"dataframe\"><thead><tr><th>ID</th><th>Source</th><th>Start_Time</th><th>Start_Lat</th><th>Start_Lng</th><th>Distance(mi)</th><th>Street</th><th>City</th><th>County</th><th>State</th><th>Zipcode</th><th>Country</th><th>Timezone</th><th>Airport_Code</th><th>Temperature(F)</th><th>Wind_Chill(F)</th><th>Humidity(%)</th><th>Pressure(in)</th><th>Visibility(mi)</th><th>Wind_Direction</th><th>Wind_Speed(mph)</th><th>Precipitation(in)</th><th>Weather_Condition</th><th>Amenity</th><th>Bump</th><th>Crossing</th><th>Give_Way</th><th>Junction</th><th>No_Exit</th><th>Railway</th><th>Roundabout</th><th>Station</th><th>Stop</th><th>Traffic_Calming</th><th>Traffic_Signal</th><th>Turning_Loop</th><th>Sunrise_Sunset</th><th>Civil_Twilight</th><th>Nautical_Twilight</th><th>Astronomical_Twilight</th></tr><tr><td>str</td><td>str</td><td>str</td><td>f64</td><td>f64</td><td>f64</td><td>str</td><td>str</td><td>str</td><td>str</td><td>str</td><td>str</td><td>str</td><td>str</td><td>f64</td><td>f64</td><td>f64</td><td>f64</td><td>f64</td><td>str</td><td>f64</td><td>f64</td><td>str</td><td>f32</td><td>f32</td><td>f32</td><td>f32</td><td>f32</td><td>f32</td><td>f32</td><td>f32</td><td>f32</td><td>f32</td><td>f32</td><td>f32</td><td>f32</td><td>str</td><td>str</td><td>str</td><td>str</td></tr></thead><tbody><tr><td>&quot;A-3&quot;</td><td>&quot;Source2&quot;</td><td>&quot;2016-02-08 06:49:27&quot;</td><td>0.611725</td><td>0.618225</td><td>-0.110022</td><td>&quot;State Route 32&quot;</td><td>&quot;Williamsburg&quot;</td><td>&quot;Clermont&quot;</td><td>&quot;OH&quot;</td><td>&quot;45176&quot;</td><td>&quot;US&quot;</td><td>&quot;US/Eastern&quot;</td><td>&quot;KI69&quot;</td><td>-1.640993</td><td>-1.211852</td><td>1.550824</td><td>-0.030468</td><td>0.366151</td><td>&quot;SW&quot;</td><td>-0.761427</td><td>-0.083077</td><td>&quot;Overcast&quot;</td><td>0.0</td><td>0.0</td><td>0.0</td><td>0.0</td><td>0.0</td><td>0.0</td><td>0.0</td><td>0.0</td><td>0.0</td><td>0.0</td><td>0.0</td><td>1.0</td><td>0.0</td><td>&quot;Night&quot;</td><td>&quot;Night&quot;</td><td>&quot;Day&quot;</td><td>&quot;Day&quot;</td></tr><tr><td>&quot;A-4&quot;</td><td>&quot;Source2&quot;</td><td>&quot;2016-02-08 07:23:34&quot;</td><td>0.751197</td><td>0.608281</td><td>-0.110022</td><td>&quot;I-75 S&quot;</td><td>&quot;Dayton&quot;</td><td>&quot;Montgomery&quot;</td><td>&quot;OH&quot;</td><td>&quot;45417&quot;</td><td>&quot;US&quot;</td><td>&quot;US/Eastern&quot;</td><td>&quot;KDAY&quot;</td><td>-1.692592</td><td>-1.323379</td><td>1.368134</td><td>-0.068358</td><td>-0.076316</td><td>&quot;SW&quot;</td><td>-0.557635</td><td>-0.083077</td><td>&quot;Mostly Cloudy&quot;</td><td>0.0</td><td>0.0</td><td>0.0</td><td>0.0</td><td>0.0</td><td>0.0</td><td>0.0</td><td>0.0</td><td>0.0</td><td>0.0</td><td>0.0</td><td>0.0</td><td>0.0</td><td>&quot;Night&quot;</td><td>&quot;Day&quot;</td><td>&quot;Day&quot;</td><td>&quot;Day&quot;</td></tr></tbody></table></div>"
            ]
          },
          "metadata": {},
          "execution_count": 23
        }
      ]
    },
    {
      "cell_type": "code",
      "source": [
        "Df = Df.with_columns([\n",
        "    (pl.col(\"Start_Lat\").cast(pl.Float32)),\n",
        "    (pl.col(\"Start_Lng\").cast(pl.Float32)),\n",
        "    (pl.col(\"Distance(mi)\").cast(pl.Float32)),\n",
        "    (pl.col(\"Temperature(F)\").cast(pl.Float32)),\n",
        "    (pl.col(\"Wind_Chill(F)\").cast(pl.Float32)),\n",
        "    (pl.col(\"Humidity(%)\").cast(pl.Float32)),\n",
        "    (pl.col(\"Pressure(in)\").cast(pl.Float32)),\n",
        "    (pl.col(\"Visibility(mi)\").cast(pl.Float32)),\n",
        "    (pl.col(\"Precipitation(in)\").cast(pl.Float32)),\n",
        "]\n",
        ")"
      ],
      "metadata": {
        "id": "nJFyh5jF_-Eq"
      },
      "execution_count": 24,
      "outputs": []
    },
    {
      "cell_type": "code",
      "source": [
        "Df.head(2)"
      ],
      "metadata": {
        "colab": {
          "base_uri": "https://localhost:8080/",
          "height": 0
        },
        "id": "OoaadAmMAZWQ",
        "outputId": "09ace808-e238-4dc5-f691-d077b66388ee"
      },
      "execution_count": 25,
      "outputs": [
        {
          "output_type": "execute_result",
          "data": {
            "text/plain": [
              "shape: (2, 40)\n",
              "┌─────┬─────────┬─────────────┬───────────┬───┬─────────────┬────────────┬────────────┬────────────┐\n",
              "│ ID  ┆ Source  ┆ Start_Time  ┆ Start_Lat ┆ … ┆ Sunrise_Sun ┆ Civil_Twil ┆ Nautical_T ┆ Astronomic │\n",
              "│ --- ┆ ---     ┆ ---         ┆ ---       ┆   ┆ set         ┆ ight       ┆ wilight    ┆ al_Twiligh │\n",
              "│ str ┆ str     ┆ str         ┆ f32       ┆   ┆ ---         ┆ ---        ┆ ---        ┆ t          │\n",
              "│     ┆         ┆             ┆           ┆   ┆ str         ┆ str        ┆ str        ┆ ---        │\n",
              "│     ┆         ┆             ┆           ┆   ┆             ┆            ┆            ┆ str        │\n",
              "╞═════╪═════════╪═════════════╪═══════════╪═══╪═════════════╪════════════╪════════════╪════════════╡\n",
              "│ A-3 ┆ Source2 ┆ 2016-02-08  ┆ 0.611725  ┆ … ┆ Night       ┆ Night      ┆ Day        ┆ Day        │\n",
              "│     ┆         ┆ 06:49:27    ┆           ┆   ┆             ┆            ┆            ┆            │\n",
              "│ A-4 ┆ Source2 ┆ 2016-02-08  ┆ 0.751197  ┆ … ┆ Night       ┆ Day        ┆ Day        ┆ Day        │\n",
              "│     ┆         ┆ 07:23:34    ┆           ┆   ┆             ┆            ┆            ┆            │\n",
              "└─────┴─────────┴─────────────┴───────────┴───┴─────────────┴────────────┴────────────┴────────────┘"
            ],
            "text/html": [
              "<div><style>\n",
              ".dataframe > thead > tr,\n",
              ".dataframe > tbody > tr {\n",
              "  text-align: right;\n",
              "  white-space: pre-wrap;\n",
              "}\n",
              "</style>\n",
              "<small>shape: (2, 40)</small><table border=\"1\" class=\"dataframe\"><thead><tr><th>ID</th><th>Source</th><th>Start_Time</th><th>Start_Lat</th><th>Start_Lng</th><th>Distance(mi)</th><th>Street</th><th>City</th><th>County</th><th>State</th><th>Zipcode</th><th>Country</th><th>Timezone</th><th>Airport_Code</th><th>Temperature(F)</th><th>Wind_Chill(F)</th><th>Humidity(%)</th><th>Pressure(in)</th><th>Visibility(mi)</th><th>Wind_Direction</th><th>Wind_Speed(mph)</th><th>Precipitation(in)</th><th>Weather_Condition</th><th>Amenity</th><th>Bump</th><th>Crossing</th><th>Give_Way</th><th>Junction</th><th>No_Exit</th><th>Railway</th><th>Roundabout</th><th>Station</th><th>Stop</th><th>Traffic_Calming</th><th>Traffic_Signal</th><th>Turning_Loop</th><th>Sunrise_Sunset</th><th>Civil_Twilight</th><th>Nautical_Twilight</th><th>Astronomical_Twilight</th></tr><tr><td>str</td><td>str</td><td>str</td><td>f32</td><td>f32</td><td>f32</td><td>str</td><td>str</td><td>str</td><td>str</td><td>str</td><td>str</td><td>str</td><td>str</td><td>f32</td><td>f32</td><td>f32</td><td>f32</td><td>f32</td><td>str</td><td>f64</td><td>f32</td><td>str</td><td>f32</td><td>f32</td><td>f32</td><td>f32</td><td>f32</td><td>f32</td><td>f32</td><td>f32</td><td>f32</td><td>f32</td><td>f32</td><td>f32</td><td>f32</td><td>str</td><td>str</td><td>str</td><td>str</td></tr></thead><tbody><tr><td>&quot;A-3&quot;</td><td>&quot;Source2&quot;</td><td>&quot;2016-02-08 06:49:27&quot;</td><td>0.611725</td><td>0.618225</td><td>-0.110022</td><td>&quot;State Route 32&quot;</td><td>&quot;Williamsburg&quot;</td><td>&quot;Clermont&quot;</td><td>&quot;OH&quot;</td><td>&quot;45176&quot;</td><td>&quot;US&quot;</td><td>&quot;US/Eastern&quot;</td><td>&quot;KI69&quot;</td><td>-1.640993</td><td>-1.211852</td><td>1.550824</td><td>-0.030468</td><td>0.366151</td><td>&quot;SW&quot;</td><td>-0.761427</td><td>-0.083077</td><td>&quot;Overcast&quot;</td><td>0.0</td><td>0.0</td><td>0.0</td><td>0.0</td><td>0.0</td><td>0.0</td><td>0.0</td><td>0.0</td><td>0.0</td><td>0.0</td><td>0.0</td><td>1.0</td><td>0.0</td><td>&quot;Night&quot;</td><td>&quot;Night&quot;</td><td>&quot;Day&quot;</td><td>&quot;Day&quot;</td></tr><tr><td>&quot;A-4&quot;</td><td>&quot;Source2&quot;</td><td>&quot;2016-02-08 07:23:34&quot;</td><td>0.751197</td><td>0.608281</td><td>-0.110022</td><td>&quot;I-75 S&quot;</td><td>&quot;Dayton&quot;</td><td>&quot;Montgomery&quot;</td><td>&quot;OH&quot;</td><td>&quot;45417&quot;</td><td>&quot;US&quot;</td><td>&quot;US/Eastern&quot;</td><td>&quot;KDAY&quot;</td><td>-1.692592</td><td>-1.323379</td><td>1.368134</td><td>-0.068358</td><td>-0.076316</td><td>&quot;SW&quot;</td><td>-0.557635</td><td>-0.083077</td><td>&quot;Mostly Cloudy&quot;</td><td>0.0</td><td>0.0</td><td>0.0</td><td>0.0</td><td>0.0</td><td>0.0</td><td>0.0</td><td>0.0</td><td>0.0</td><td>0.0</td><td>0.0</td><td>0.0</td><td>0.0</td><td>&quot;Night&quot;</td><td>&quot;Day&quot;</td><td>&quot;Day&quot;</td><td>&quot;Day&quot;</td></tr></tbody></table></div>"
            ]
          },
          "metadata": {},
          "execution_count": 25
        }
      ]
    },
    {
      "cell_type": "code",
      "source": [
        "target_series"
      ],
      "metadata": {
        "colab": {
          "base_uri": "https://localhost:8080/",
          "height": 0
        },
        "id": "0CATfhjgA4Fz",
        "outputId": "0d22e3ca-dac9-4ad5-c01d-67799d95e148"
      },
      "execution_count": 26,
      "outputs": [
        {
          "output_type": "execute_result",
          "data": {
            "text/plain": [
              "shape: (995_832,)\n",
              "Series: 'Severity' [i64]\n",
              "[\n",
              "\t2\n",
              "\t3\n",
              "\t2\n",
              "\t3\n",
              "\t2\n",
              "\t…\n",
              "\t3\n",
              "\t3\n",
              "\t3\n",
              "\t2\n",
              "\t2\n",
              "]"
            ],
            "text/html": [
              "<div><style>\n",
              ".dataframe > thead > tr,\n",
              ".dataframe > tbody > tr {\n",
              "  text-align: right;\n",
              "  white-space: pre-wrap;\n",
              "}\n",
              "</style>\n",
              "<small>shape: (995_832,)</small><table border=\"1\" class=\"dataframe\"><thead><tr><th>Severity</th></tr><tr><td>i64</td></tr></thead><tbody><tr><td>2</td></tr><tr><td>3</td></tr><tr><td>2</td></tr><tr><td>3</td></tr><tr><td>2</td></tr><tr><td>&hellip;</td></tr><tr><td>3</td></tr><tr><td>3</td></tr><tr><td>3</td></tr><tr><td>2</td></tr><tr><td>2</td></tr></tbody></table></div>"
            ]
          },
          "metadata": {},
          "execution_count": 26
        }
      ]
    },
    {
      "cell_type": "markdown",
      "source": [
        "# Splitting training and testing data:"
      ],
      "metadata": {
        "id": "beFMwoMgA7cd"
      }
    },
    {
      "cell_type": "code",
      "source": [
        "#Using x and y variable naming for training and test data for easier interpretation\n",
        "\n",
        "x_train,x_test,y_train,y_test = train_test_split(Df,target_series,random_state=1,test_size=0.2)"
      ],
      "metadata": {
        "id": "QAocRhzcA_mT"
      },
      "execution_count": 27,
      "outputs": []
    },
    {
      "cell_type": "code",
      "source": [
        "x_train"
      ],
      "metadata": {
        "colab": {
          "base_uri": "https://localhost:8080/",
          "height": 637
        },
        "id": "YVVfKfxTCNRp",
        "outputId": "fe02d418-3620-4651-f802-23a3b522527f"
      },
      "execution_count": 28,
      "outputs": [
        {
          "output_type": "execute_result",
          "data": {
            "text/plain": [
              "shape: (796_665, 40)\n",
              "┌──────────┬─────────┬────────────┬───────────┬───┬────────────┬───────────┬───────────┬───────────┐\n",
              "│ ID       ┆ Source  ┆ Start_Time ┆ Start_Lat ┆ … ┆ Sunrise_Su ┆ Civil_Twi ┆ Nautical_ ┆ Astronomi │\n",
              "│ ---      ┆ ---     ┆ ---        ┆ ---       ┆   ┆ nset       ┆ light     ┆ Twilight  ┆ cal_Twili │\n",
              "│ str      ┆ str     ┆ str        ┆ f32       ┆   ┆ ---        ┆ ---       ┆ ---       ┆ ght       │\n",
              "│          ┆         ┆            ┆           ┆   ┆ str        ┆ str       ┆ str       ┆ ---       │\n",
              "│          ┆         ┆            ┆           ┆   ┆            ┆           ┆           ┆ str       │\n",
              "╞══════════╪═════════╪════════════╪═══════════╪═══╪════════════╪═══════════╪═══════════╪═══════════╡\n",
              "│ A-581479 ┆ Source2 ┆ 2022-06-28 ┆ -1.169119 ┆ … ┆ Day        ┆ Day       ┆ Day       ┆ Day       │\n",
              "│          ┆         ┆ 08:09:59   ┆           ┆   ┆            ┆           ┆           ┆           │\n",
              "│ A-803144 ┆ Source2 ┆ 2021-11-26 ┆ 1.025616  ┆ … ┆ Day        ┆ Day       ┆ Day       ┆ Day       │\n",
              "│          ┆         ┆ 10:50:00   ┆           ┆   ┆            ┆           ┆           ┆           │\n",
              "│ A-613908 ┆ Source2 ┆ 2022-05-23 ┆ 1.16801   ┆ … ┆ Day        ┆ Day       ┆ Day       ┆ Day       │\n",
              "│          ┆         ┆ 08:52:56   ┆           ┆   ┆            ┆           ┆           ┆           │\n",
              "│ A-143380 ┆ Source2 ┆ 2016-07-08 ┆ -1.984744 ┆ … ┆ Day        ┆ Day       ┆ Day       ┆ Day       │\n",
              "│          ┆         ┆ 13:38:13   ┆           ┆   ┆            ┆           ┆           ┆           │\n",
              "│ A-638741 ┆ Source2 ┆ 2022-04-25 ┆ -0.103684 ┆ … ┆ Day        ┆ Day       ┆ Day       ┆ Day       │\n",
              "│          ┆         ┆ 11:00:43   ┆           ┆   ┆            ┆           ┆           ┆           │\n",
              "│ …        ┆ …       ┆ …          ┆ …         ┆ … ┆ …          ┆ …         ┆ …         ┆ …         │\n",
              "│ A-491358 ┆ Source2 ┆ 2017-07-08 ┆ 0.370317  ┆ … ┆ Night      ┆ Night     ┆ Night     ┆ Night     │\n",
              "│          ┆         ┆ 01:20:10   ┆           ┆   ┆            ┆           ┆           ┆           │\n",
              "│ A-805453 ┆ Source2 ┆ 2021-11-24 ┆ 0.59264   ┆ … ┆ Day        ┆ Day       ┆ Day       ┆ Day       │\n",
              "│          ┆         ┆ 15:27:38   ┆           ┆   ┆            ┆           ┆           ┆           │\n",
              "│ A-471019 ┆ Source2 ┆ 2017-06-06 ┆ 1.112154  ┆ … ┆ Day        ┆ Day       ┆ Day       ┆ Day       │\n",
              "│          ┆         ┆ 06:47:58   ┆           ┆   ┆            ┆           ┆           ┆           │\n",
              "│ A-491850 ┆ Source2 ┆ 2017-07-13 ┆ 0.356406  ┆ … ┆ Day        ┆ Day       ┆ Day       ┆ Day       │\n",
              "│          ┆         ┆ 18:28:37   ┆           ┆   ┆            ┆           ┆           ┆           │\n",
              "│ A-128069 ┆ Source2 ┆ 2016-11-16 ┆ -2.007384 ┆ … ┆ Night      ┆ Night     ┆ Day       ┆ Day       │\n",
              "│          ┆         ┆ 18:05:38   ┆           ┆   ┆            ┆           ┆           ┆           │\n",
              "└──────────┴─────────┴────────────┴───────────┴───┴────────────┴───────────┴───────────┴───────────┘"
            ],
            "text/html": [
              "<div><style>\n",
              ".dataframe > thead > tr,\n",
              ".dataframe > tbody > tr {\n",
              "  text-align: right;\n",
              "  white-space: pre-wrap;\n",
              "}\n",
              "</style>\n",
              "<small>shape: (796_665, 40)</small><table border=\"1\" class=\"dataframe\"><thead><tr><th>ID</th><th>Source</th><th>Start_Time</th><th>Start_Lat</th><th>Start_Lng</th><th>Distance(mi)</th><th>Street</th><th>City</th><th>County</th><th>State</th><th>Zipcode</th><th>Country</th><th>Timezone</th><th>Airport_Code</th><th>Temperature(F)</th><th>Wind_Chill(F)</th><th>Humidity(%)</th><th>Pressure(in)</th><th>Visibility(mi)</th><th>Wind_Direction</th><th>Wind_Speed(mph)</th><th>Precipitation(in)</th><th>Weather_Condition</th><th>Amenity</th><th>Bump</th><th>Crossing</th><th>Give_Way</th><th>Junction</th><th>No_Exit</th><th>Railway</th><th>Roundabout</th><th>Station</th><th>Stop</th><th>Traffic_Calming</th><th>Traffic_Signal</th><th>Turning_Loop</th><th>Sunrise_Sunset</th><th>Civil_Twilight</th><th>Nautical_Twilight</th><th>Astronomical_Twilight</th></tr><tr><td>str</td><td>str</td><td>str</td><td>f32</td><td>f32</td><td>f32</td><td>str</td><td>str</td><td>str</td><td>str</td><td>str</td><td>str</td><td>str</td><td>str</td><td>f32</td><td>f32</td><td>f32</td><td>f32</td><td>f32</td><td>str</td><td>f64</td><td>f32</td><td>str</td><td>f32</td><td>f32</td><td>f32</td><td>f32</td><td>f32</td><td>f32</td><td>f32</td><td>f32</td><td>f32</td><td>f32</td><td>f32</td><td>f32</td><td>f32</td><td>str</td><td>str</td><td>str</td><td>str</td></tr></thead><tbody><tr><td>&quot;A-581479&quot;</td><td>&quot;Source2&quot;</td><td>&quot;2022-06-28 08:09:59&quot;</td><td>-1.169119</td><td>0.752435</td><td>0.229579</td><td>&quot;FL-228 W&quot;</td><td>&quot;Jacksonville&quot;</td><td>&quot;Duval&quot;</td><td>&quot;FL&quot;</td><td>&quot;32254&quot;</td><td>&quot;US&quot;</td><td>&quot;US/Eastern&quot;</td><td>&quot;KNIP&quot;</td><td>0.938975</td><td>1.101125</td><td>1.002755</td><td>0.474734</td><td>0.366151</td><td>&quot;SSE&quot;</td><td>-0.483529</td><td>-0.083077</td><td>&quot;Mostly Cloudy&quot;</td><td>0.0</td><td>0.0</td><td>0.0</td><td>0.0</td><td>0.0</td><td>0.0</td><td>0.0</td><td>0.0</td><td>0.0</td><td>0.0</td><td>0.0</td><td>0.0</td><td>0.0</td><td>&quot;Day&quot;</td><td>&quot;Day&quot;</td><td>&quot;Day&quot;</td><td>&quot;Day&quot;</td></tr><tr><td>&quot;A-803144&quot;</td><td>&quot;Source2&quot;</td><td>&quot;2021-11-26 10:50:00&quot;</td><td>1.025616</td><td>-0.08435</td><td>-0.117097</td><td>&quot;I-80 E&quot;</td><td>&quot;Gretna&quot;</td><td>&quot;Sarpy&quot;</td><td>&quot;NE&quot;</td><td>&quot;68028&quot;</td><td>&quot;US&quot;</td><td>&quot;US/Central&quot;</td><td>&quot;KMLE&quot;</td><td>-1.411662</td><td>-1.080928</td><td>-0.687124</td><td>-1.015611</td><td>0.366151</td><td>&quot;S&quot;</td><td>-0.112999</td><td>-0.083077</td><td>&quot;Fair&quot;</td><td>0.0</td><td>0.0</td><td>0.0</td><td>0.0</td><td>0.0</td><td>0.0</td><td>0.0</td><td>0.0</td><td>0.0</td><td>0.0</td><td>0.0</td><td>0.0</td><td>0.0</td><td>&quot;Day&quot;</td><td>&quot;Day&quot;</td><td>&quot;Day&quot;</td><td>&quot;Day&quot;</td></tr><tr><td>&quot;A-613908&quot;</td><td>&quot;Source2&quot;</td><td>&quot;2022-05-23 08:52:56&quot;</td><td>1.16801</td><td>0.38954</td><td>-0.117097</td><td>&quot;Curtiss St&quot;</td><td>&quot;Downers Grove&quot;</td><td>&quot;DuPage&quot;</td><td>&quot;IL&quot;</td><td>&quot;60515-4711&quot;</td><td>&quot;US&quot;</td><td>&quot;US/Central&quot;</td><td>&quot;KMDW&quot;</td><td>-0.437008</td><td>-0.062637</td><td>-0.869814</td><td>0.007422</td><td>0.366151</td><td>&quot;E&quot;</td><td>1.554387</td><td>-0.083077</td><td>&quot;Fair&quot;</td><td>1.0</td><td>0.0</td><td>0.0</td><td>0.0</td><td>0.0</td><td>0.0</td><td>0.0</td><td>0.0</td><td>0.0</td><td>0.0</td><td>0.0</td><td>1.0</td><td>0.0</td><td>&quot;Day&quot;</td><td>&quot;Day&quot;</td><td>&quot;Day&quot;</td><td>&quot;Day&quot;</td></tr><tr><td>&quot;A-143380&quot;</td><td>&quot;Source2&quot;</td><td>&quot;2016-07-08 13:38:13&quot;</td><td>-1.984744</td><td>0.843377</td><td>-0.117097</td><td>&quot;W Hillsboro Blvd&quot;</td><td>&quot;Deerfield Beach&quot;</td><td>&quot;Broward&quot;</td><td>&quot;FL&quot;</td><td>&quot;33442&quot;</td><td>&quot;US&quot;</td><td>&quot;US/Eastern&quot;</td><td>&quot;KPMP&quot;</td><td>1.454969</td><td>1.779987</td><td>-0.139055</td><td>0.537884</td><td>0.366151</td><td>&quot;East&quot;</td><td>0.720694</td><td>0.054319</td><td>&quot;Clear&quot;</td><td>0.0</td><td>0.0</td><td>0.0</td><td>0.0</td><td>1.0</td><td>0.0</td><td>0.0</td><td>0.0</td><td>0.0</td><td>0.0</td><td>0.0</td><td>0.0</td><td>0.0</td><td>&quot;Day&quot;</td><td>&quot;Day&quot;</td><td>&quot;Day&quot;</td><td>&quot;Day&quot;</td></tr><tr><td>&quot;A-638741&quot;</td><td>&quot;Source2&quot;</td><td>&quot;2022-04-25 11:00:43&quot;</td><td>-0.103684</td><td>-0.163153</td><td>-0.117097</td><td>&quot;NW Expressway&quot;</td><td>&quot;Oklahoma City&quot;</td><td>&quot;Oklahoma&quot;</td><td>&quot;OK&quot;</td><td>&quot;73132-5102&quot;</td><td>&quot;US&quot;</td><td>&quot;US/Central&quot;</td><td>&quot;KPWA&quot;</td><td>-0.49434</td><td>-0.111127</td><td>-1.006831</td><td>-0.977721</td><td>0.366151</td><td>&quot;NNW&quot;</td><td>1.554387</td><td>-0.083077</td><td>&quot;Fair&quot;</td><td>0.0</td><td>0.0</td><td>1.0</td><td>0.0</td><td>0.0</td><td>0.0</td><td>0.0</td><td>0.0</td><td>0.0</td><td>0.0</td><td>0.0</td><td>1.0</td><td>0.0</td><td>&quot;Day&quot;</td><td>&quot;Day&quot;</td><td>&quot;Day&quot;</td><td>&quot;Day&quot;</td></tr><tr><td>&hellip;</td><td>&hellip;</td><td>&hellip;</td><td>&hellip;</td><td>&hellip;</td><td>&hellip;</td><td>&hellip;</td><td>&hellip;</td><td>&hellip;</td><td>&hellip;</td><td>&hellip;</td><td>&hellip;</td><td>&hellip;</td><td>&hellip;</td><td>&hellip;</td><td>&hellip;</td><td>&hellip;</td><td>&hellip;</td><td>&hellip;</td><td>&hellip;</td><td>&hellip;</td><td>&hellip;</td><td>&hellip;</td><td>&hellip;</td><td>&hellip;</td><td>&hellip;</td><td>&hellip;</td><td>&hellip;</td><td>&hellip;</td><td>&hellip;</td><td>&hellip;</td><td>&hellip;</td><td>&hellip;</td><td>&hellip;</td><td>&hellip;</td><td>&hellip;</td><td>&hellip;</td><td>&hellip;</td><td>&hellip;</td><td>&hellip;</td></tr><tr><td>&quot;A-491358&quot;</td><td>&quot;Source2&quot;</td><td>&quot;2017-07-08 01:20:10&quot;</td><td>0.370317</td><td>-1.582265</td><td>-0.117097</td><td>&quot;I-580 W&quot;</td><td>&quot;Berkeley&quot;</td><td>&quot;Alameda&quot;</td><td>&quot;CA&quot;</td><td>&quot;94710&quot;</td><td>&quot;US&quot;</td><td>&quot;US/Pacific&quot;</td><td>&quot;KOAK&quot;</td><td>-0.035679</td><td>-0.722102</td><td>0.409013</td><td>0.285284</td><td>0.366151</td><td>&quot;WNW&quot;</td><td>-0.557635</td><td>-0.083077</td><td>&quot;Clear&quot;</td><td>0.0</td><td>0.0</td><td>1.0</td><td>0.0</td><td>0.0</td><td>0.0</td><td>0.0</td><td>0.0</td><td>0.0</td><td>1.0</td><td>0.0</td><td>0.0</td><td>0.0</td><td>&quot;Night&quot;</td><td>&quot;Night&quot;</td><td>&quot;Night&quot;</td><td>&quot;Night&quot;</td></tr><tr><td>&quot;A-805453&quot;</td><td>&quot;Source2&quot;</td><td>&quot;2021-11-24 15:27:38&quot;</td><td>0.59264</td><td>1.073183</td><td>-0.117097</td><td>&quot;Ocean Gtwy&quot;</td><td>&quot;Queenstown&quot;</td><td>&quot;Queen Anne&#x27;s&quot;</td><td>&quot;MD&quot;</td><td>&quot;21658&quot;</td><td>&quot;US&quot;</td><td>&quot;US/Eastern&quot;</td><td>&quot;KW29&quot;</td><td>-1.067667</td><td>-0.789988</td><td>-0.732797</td><td>0.841006</td><td>0.366151</td><td>&quot;SE&quot;</td><td>-0.112999</td><td>-0.083077</td><td>&quot;Fair&quot;</td><td>0.0</td><td>0.0</td><td>0.0</td><td>0.0</td><td>0.0</td><td>0.0</td><td>0.0</td><td>0.0</td><td>0.0</td><td>0.0</td><td>0.0</td><td>1.0</td><td>0.0</td><td>&quot;Day&quot;</td><td>&quot;Day&quot;</td><td>&quot;Day&quot;</td><td>&quot;Day&quot;</td></tr><tr><td>&quot;A-471019&quot;</td><td>&quot;Source2&quot;</td><td>&quot;2017-06-06 06:47:58&quot;</td><td>1.112154</td><td>0.245648</td><td>0.618706</td><td>&quot;US-6 W&quot;</td><td>&quot;Rock Island&quot;</td><td>&quot;Rock Island&quot;</td><td>&quot;IL&quot;</td><td>&quot;61201&quot;</td><td>&quot;US&quot;</td><td>&quot;US/Central&quot;</td><td>&quot;KMLI&quot;</td><td>-0.259277</td><td>1.440556</td><td>-0.687124</td><td>0.449474</td><td>0.366151</td><td>&quot;ENE&quot;</td><td>0.090793</td><td>-0.067811</td><td>&quot;Clear&quot;</td><td>0.0</td><td>0.0</td><td>0.0</td><td>0.0</td><td>0.0</td><td>0.0</td><td>0.0</td><td>0.0</td><td>0.0</td><td>0.0</td><td>0.0</td><td>0.0</td><td>0.0</td><td>&quot;Day&quot;</td><td>&quot;Day&quot;</td><td>&quot;Day&quot;</td><td>&quot;Day&quot;</td></tr><tr><td>&quot;A-491850&quot;</td><td>&quot;Source2&quot;</td><td>&quot;2017-07-13 18:28:37&quot;</td><td>0.356406</td><td>-1.580473</td><td>-0.117097</td><td>&quot;I-980 W&quot;</td><td>&quot;Oakland&quot;</td><td>&quot;Alameda&quot;</td><td>&quot;CA&quot;</td><td>&quot;94612&quot;</td><td>&quot;US&quot;</td><td>&quot;US/Pacific&quot;</td><td>&quot;KOAK&quot;</td><td>0.01592</td><td>-0.722102</td><td>0.089307</td><td>0.373694</td><td>0.366151</td><td>&quot;West&quot;</td><td>1.572914</td><td>-0.083077</td><td>&quot;Partly Cloudy&quot;</td><td>0.0</td><td>0.0</td><td>0.0</td><td>0.0</td><td>0.0</td><td>0.0</td><td>0.0</td><td>0.0</td><td>0.0</td><td>0.0</td><td>0.0</td><td>0.0</td><td>0.0</td><td>&quot;Day&quot;</td><td>&quot;Day&quot;</td><td>&quot;Day&quot;</td><td>&quot;Day&quot;</td></tr><tr><td>&quot;A-128069&quot;</td><td>&quot;Source2&quot;</td><td>&quot;2016-11-16 18:05:38&quot;</td><td>-2.007384</td><td>0.842004</td><td>-0.110022</td><td>&quot;I-95 S&quot;</td><td>&quot;Fort Lauderdale&quot;</td><td>&quot;Broward&quot;</td><td>&quot;FL&quot;</td><td>&quot;33334&quot;</td><td>&quot;US&quot;</td><td>&quot;US/Eastern&quot;</td><td>&quot;KFXE&quot;</td><td>0.422982</td><td>0.373774</td><td>-0.321745</td><td>0.285284</td><td>0.366151</td><td>&quot;NNE&quot;</td><td>-0.557635</td><td>-0.083077</td><td>&quot;Partly Cloudy&quot;</td><td>0.0</td><td>0.0</td><td>0.0</td><td>0.0</td><td>0.0</td><td>0.0</td><td>0.0</td><td>0.0</td><td>0.0</td><td>0.0</td><td>0.0</td><td>0.0</td><td>0.0</td><td>&quot;Night&quot;</td><td>&quot;Night&quot;</td><td>&quot;Day&quot;</td><td>&quot;Day&quot;</td></tr></tbody></table></div>"
            ]
          },
          "metadata": {},
          "execution_count": 28
        }
      ]
    },
    {
      "cell_type": "code",
      "source": [
        "y_train"
      ],
      "metadata": {
        "colab": {
          "base_uri": "https://localhost:8080/",
          "height": 443
        },
        "id": "nVtj0H3BCTNG",
        "outputId": "4f99d3cd-6712-4f49-d879-daff387792dc"
      },
      "execution_count": 29,
      "outputs": [
        {
          "output_type": "execute_result",
          "data": {
            "text/plain": [
              "shape: (796_665,)\n",
              "Series: 'Severity' [i64]\n",
              "[\n",
              "\t2\n",
              "\t3\n",
              "\t1\n",
              "\t3\n",
              "\t2\n",
              "\t…\n",
              "\t3\n",
              "\t2\n",
              "\t3\n",
              "\t3\n",
              "\t3\n",
              "]"
            ],
            "text/html": [
              "<div><style>\n",
              ".dataframe > thead > tr,\n",
              ".dataframe > tbody > tr {\n",
              "  text-align: right;\n",
              "  white-space: pre-wrap;\n",
              "}\n",
              "</style>\n",
              "<small>shape: (796_665,)</small><table border=\"1\" class=\"dataframe\"><thead><tr><th>Severity</th></tr><tr><td>i64</td></tr></thead><tbody><tr><td>2</td></tr><tr><td>3</td></tr><tr><td>1</td></tr><tr><td>3</td></tr><tr><td>2</td></tr><tr><td>&hellip;</td></tr><tr><td>3</td></tr><tr><td>2</td></tr><tr><td>3</td></tr><tr><td>3</td></tr><tr><td>3</td></tr></tbody></table></div>"
            ]
          },
          "metadata": {},
          "execution_count": 29
        }
      ]
    },
    {
      "cell_type": "code",
      "source": [
        "x_test"
      ],
      "metadata": {
        "colab": {
          "base_uri": "https://localhost:8080/",
          "height": 637
        },
        "id": "yM0Y3Fo1CVOx",
        "outputId": "9b9a398c-14d6-47c8-81e7-12a0e3e80603"
      },
      "execution_count": 30,
      "outputs": [
        {
          "output_type": "execute_result",
          "data": {
            "text/plain": [
              "shape: (199_167, 40)\n",
              "┌──────────┬─────────┬────────────┬───────────┬───┬────────────┬───────────┬───────────┬───────────┐\n",
              "│ ID       ┆ Source  ┆ Start_Time ┆ Start_Lat ┆ … ┆ Sunrise_Su ┆ Civil_Twi ┆ Nautical_ ┆ Astronomi │\n",
              "│ ---      ┆ ---     ┆ ---        ┆ ---       ┆   ┆ nset       ┆ light     ┆ Twilight  ┆ cal_Twili │\n",
              "│ str      ┆ str     ┆ str        ┆ f32       ┆   ┆ ---        ┆ ---       ┆ ---       ┆ ght       │\n",
              "│          ┆         ┆            ┆           ┆   ┆ str        ┆ str       ┆ str       ┆ ---       │\n",
              "│          ┆         ┆            ┆           ┆   ┆            ┆           ┆           ┆ str       │\n",
              "╞══════════╪═════════╪════════════╪═══════════╪═══╪════════════╪═══════════╪═══════════╪═══════════╡\n",
              "│ A-582933 ┆ Source2 ┆ 2022-06-26 ┆ -0.445143 ┆ … ┆ Night      ┆ Night     ┆ Night     ┆ Night     │\n",
              "│          ┆         ┆ 02:31:48   ┆           ┆   ┆            ┆           ┆           ┆           │\n",
              "│ A-27320  ┆ Source2 ┆ 2016-08-15 ┆ 0.267852  ┆ … ┆ Day        ┆ Day       ┆ Day       ┆ Day       │\n",
              "│          ┆         ┆ 10:08:59   ┆           ┆   ┆            ┆           ┆           ┆           │\n",
              "│ A-892102 ┆ Source2 ┆ 2021-09-20 ┆ -0.343087 ┆ … ┆ Day        ┆ Day       ┆ Day       ┆ Day       │\n",
              "│          ┆         ┆ 19:25:29   ┆           ┆   ┆            ┆           ┆           ┆           │\n",
              "│ A-770214 ┆ Source2 ┆ 2021-12-21 ┆ 0.797768  ┆ … ┆ Night      ┆ Night     ┆ Day       ┆ Day       │\n",
              "│          ┆         ┆ 06:58:51   ┆           ┆   ┆            ┆           ┆           ┆           │\n",
              "│ A-236240 ┆ Source2 ┆ 2017-01-18 ┆ 0.817256  ┆ … ┆ Night      ┆ Night     ┆ Night     ┆ Day       │\n",
              "│          ┆         ┆ 06:15:03   ┆           ┆   ┆            ┆           ┆           ┆           │\n",
              "│ …        ┆ …       ┆ …          ┆ …         ┆ … ┆ …          ┆ …         ┆ …         ┆ …         │\n",
              "│ A-519189 ┆ Source2 ┆ 2022-09-01 ┆ 0.680444  ┆ … ┆ Day        ┆ Day       ┆ Day       ┆ Day       │\n",
              "│          ┆         ┆ 18:17:52   ┆           ┆   ┆            ┆           ┆           ┆           │\n",
              "│ A-809612 ┆ Source2 ┆ 2021-11-22 ┆ -0.406401 ┆ … ┆ Day        ┆ Day       ┆ Day       ┆ Day       │\n",
              "│          ┆         ┆ 07:42:10   ┆           ┆   ┆            ┆           ┆           ┆           │\n",
              "│ A-367474 ┆ Source2 ┆ 2017-02-21 ┆ 1.390043  ┆ … ┆ Day        ┆ Day       ┆ Day       ┆ Day       │\n",
              "│          ┆         ┆ 09:41:21   ┆           ┆   ┆            ┆           ┆           ┆           │\n",
              "│ A-801957 ┆ Source2 ┆ 2021-11-28 ┆ -1.355694 ┆ … ┆ Day        ┆ Day       ┆ Day       ┆ Day       │\n",
              "│          ┆         ┆ 11:49:18   ┆           ┆   ┆            ┆           ┆           ┆           │\n",
              "│ A-874992 ┆ Source2 ┆ 2021-10-05 ┆ -0.587794 ┆ … ┆ Day        ┆ Day       ┆ Day       ┆ Day       │\n",
              "│          ┆         ┆ 13:08:11   ┆           ┆   ┆            ┆           ┆           ┆           │\n",
              "└──────────┴─────────┴────────────┴───────────┴───┴────────────┴───────────┴───────────┴───────────┘"
            ],
            "text/html": [
              "<div><style>\n",
              ".dataframe > thead > tr,\n",
              ".dataframe > tbody > tr {\n",
              "  text-align: right;\n",
              "  white-space: pre-wrap;\n",
              "}\n",
              "</style>\n",
              "<small>shape: (199_167, 40)</small><table border=\"1\" class=\"dataframe\"><thead><tr><th>ID</th><th>Source</th><th>Start_Time</th><th>Start_Lat</th><th>Start_Lng</th><th>Distance(mi)</th><th>Street</th><th>City</th><th>County</th><th>State</th><th>Zipcode</th><th>Country</th><th>Timezone</th><th>Airport_Code</th><th>Temperature(F)</th><th>Wind_Chill(F)</th><th>Humidity(%)</th><th>Pressure(in)</th><th>Visibility(mi)</th><th>Wind_Direction</th><th>Wind_Speed(mph)</th><th>Precipitation(in)</th><th>Weather_Condition</th><th>Amenity</th><th>Bump</th><th>Crossing</th><th>Give_Way</th><th>Junction</th><th>No_Exit</th><th>Railway</th><th>Roundabout</th><th>Station</th><th>Stop</th><th>Traffic_Calming</th><th>Traffic_Signal</th><th>Turning_Loop</th><th>Sunrise_Sunset</th><th>Civil_Twilight</th><th>Nautical_Twilight</th><th>Astronomical_Twilight</th></tr><tr><td>str</td><td>str</td><td>str</td><td>f32</td><td>f32</td><td>f32</td><td>str</td><td>str</td><td>str</td><td>str</td><td>str</td><td>str</td><td>str</td><td>str</td><td>f32</td><td>f32</td><td>f32</td><td>f32</td><td>f32</td><td>str</td><td>f64</td><td>f32</td><td>str</td><td>f32</td><td>f32</td><td>f32</td><td>f32</td><td>f32</td><td>f32</td><td>f32</td><td>f32</td><td>f32</td><td>f32</td><td>f32</td><td>f32</td><td>f32</td><td>str</td><td>str</td><td>str</td><td>str</td></tr></thead><tbody><tr><td>&quot;A-582933&quot;</td><td>&quot;Source2&quot;</td><td>&quot;2022-06-26 02:31:48&quot;</td><td>-0.445143</td><td>-1.338305</td><td>-0.117097</td><td>&quot;Bloomfield Ave&quot;</td><td>&quot;Cerritos&quot;</td><td>&quot;Los Angeles&quot;</td><td>&quot;CA&quot;</td><td>&quot;90703&quot;</td><td>&quot;US&quot;</td><td>&quot;US/Pacific&quot;</td><td>&quot;KFUL&quot;</td><td>-0.093012</td><td>0.228304</td><td>0.957082</td><td>0.184243</td><td>-0.076316</td><td>&quot;SSE&quot;</td><td>-0.854059</td><td>-0.083077</td><td>&quot;Fair&quot;</td><td>0.0</td><td>0.0</td><td>0.0</td><td>0.0</td><td>0.0</td><td>0.0</td><td>0.0</td><td>0.0</td><td>0.0</td><td>0.0</td><td>0.0</td><td>0.0</td><td>0.0</td><td>&quot;Night&quot;</td><td>&quot;Night&quot;</td><td>&quot;Night&quot;</td><td>&quot;Night&quot;</td></tr><tr><td>&quot;A-27320&quot;</td><td>&quot;Source2&quot;</td><td>&quot;2016-08-15 10:08:59&quot;</td><td>0.267852</td><td>-1.560788</td><td>-0.117097</td><td>&quot;US-101 N&quot;</td><td>&quot;San Jose&quot;</td><td>&quot;Santa Clara&quot;</td><td>&quot;CA&quot;</td><td>&quot;95110&quot;</td><td>&quot;US&quot;</td><td>&quot;US/Pacific&quot;</td><td>&quot;KSJC&quot;</td><td>0.078986</td><td>-0.63482</td><td>0.089307</td><td>0.335804</td><td>-0.961249</td><td>&quot;SSE&quot;</td><td>-0.761427</td><td>-0.083077</td><td>&quot;Scattered Clouds&quot;</td><td>0.0</td><td>0.0</td><td>0.0</td><td>0.0</td><td>0.0</td><td>0.0</td><td>0.0</td><td>0.0</td><td>0.0</td><td>0.0</td><td>0.0</td><td>0.0</td><td>0.0</td><td>&quot;Day&quot;</td><td>&quot;Day&quot;</td><td>&quot;Day&quot;</td><td>&quot;Day&quot;</td></tr><tr><td>&quot;A-892102&quot;</td><td>&quot;Source2&quot;</td><td>&quot;2021-09-20 19:25:29&quot;</td><td>-0.343087</td><td>0.695152</td><td>-0.117097</td><td>&quot;Highway 81 S&quot;</td><td>&quot;Starr&quot;</td><td>&quot;Anderson&quot;</td><td>&quot;SC&quot;</td><td>&quot;29684-9405&quot;</td><td>&quot;US&quot;</td><td>&quot;US/Eastern&quot;</td><td>&quot;KAND&quot;</td><td>0.422982</td><td>0.664715</td><td>1.231117</td><td>-0.5483</td><td>0.366151</td><td>&quot;ENE&quot;</td><td>0.813327</td><td>-0.083077</td><td>&quot;Light Rain&quot;</td><td>0.0</td><td>0.0</td><td>0.0</td><td>0.0</td><td>0.0</td><td>0.0</td><td>0.0</td><td>0.0</td><td>0.0</td><td>0.0</td><td>0.0</td><td>0.0</td><td>0.0</td><td>&quot;Day&quot;</td><td>&quot;Day&quot;</td><td>&quot;Day&quot;</td><td>&quot;Day&quot;</td></tr><tr><td>&quot;A-770214&quot;</td><td>&quot;Source2&quot;</td><td>&quot;2021-12-21 06:58:51&quot;</td><td>0.797768</td><td>0.670694</td><td>1.743635</td><td>&quot;I-70 E&quot;</td><td>&quot;Columbus&quot;</td><td>&quot;Franklin&quot;</td><td>&quot;OH&quot;</td><td>&quot;43228&quot;</td><td>&quot;US&quot;</td><td>&quot;US/Eastern&quot;</td><td>&quot;KTZR&quot;</td><td>-2.386317</td><td>-1.711299</td><td>1.368134</td><td>-0.788271</td><td>-1.846182</td><td>&quot;CALM&quot;</td><td>-1.409855</td><td>-0.083077</td><td>&quot;Fair&quot;</td><td>0.0</td><td>0.0</td><td>0.0</td><td>0.0</td><td>0.0</td><td>0.0</td><td>0.0</td><td>0.0</td><td>0.0</td><td>0.0</td><td>0.0</td><td>0.0</td><td>0.0</td><td>&quot;Night&quot;</td><td>&quot;Night&quot;</td><td>&quot;Day&quot;</td><td>&quot;Day&quot;</td></tr><tr><td>&quot;A-236240&quot;</td><td>&quot;Source2&quot;</td><td>&quot;2017-01-18 06:15:03&quot;</td><td>0.817256</td><td>1.060832</td><td>-0.110022</td><td>&quot;Plaza Blvd&quot;</td><td>&quot;Lancaster&quot;</td><td>&quot;Lancaster&quot;</td><td>&quot;PA&quot;</td><td>&quot;17601&quot;</td><td>&quot;US&quot;</td><td>&quot;US/Eastern&quot;</td><td>&quot;KLNS&quot;</td><td>-1.468995</td><td>-1.095475</td><td>1.550824</td><td>0.272653</td><td>-3.97002</td><td>&quot;WNW&quot;</td><td>-0.557635</td><td>-0.083077</td><td>&quot;Fog&quot;</td><td>0.0</td><td>0.0</td><td>1.0</td><td>1.0</td><td>0.0</td><td>0.0</td><td>0.0</td><td>0.0</td><td>0.0</td><td>0.0</td><td>0.0</td><td>1.0</td><td>0.0</td><td>&quot;Night&quot;</td><td>&quot;Night&quot;</td><td>&quot;Night&quot;</td><td>&quot;Day&quot;</td></tr><tr><td>&hellip;</td><td>&hellip;</td><td>&hellip;</td><td>&hellip;</td><td>&hellip;</td><td>&hellip;</td><td>&hellip;</td><td>&hellip;</td><td>&hellip;</td><td>&hellip;</td><td>&hellip;</td><td>&hellip;</td><td>&hellip;</td><td>&hellip;</td><td>&hellip;</td><td>&hellip;</td><td>&hellip;</td><td>&hellip;</td><td>&hellip;</td><td>&hellip;</td><td>&hellip;</td><td>&hellip;</td><td>&hellip;</td><td>&hellip;</td><td>&hellip;</td><td>&hellip;</td><td>&hellip;</td><td>&hellip;</td><td>&hellip;</td><td>&hellip;</td><td>&hellip;</td><td>&hellip;</td><td>&hellip;</td><td>&hellip;</td><td>&hellip;</td><td>&hellip;</td><td>&hellip;</td><td>&hellip;</td><td>&hellip;</td><td>&hellip;</td></tr><tr><td>&quot;A-519189&quot;</td><td>&quot;Source2&quot;</td><td>&quot;2022-09-01 18:17:52&quot;</td><td>0.680444</td><td>0.997671</td><td>-0.117097</td><td>&quot;Solarex Ct&quot;</td><td>&quot;Frederick&quot;</td><td>&quot;Frederick&quot;</td><td>&quot;MD&quot;</td><td>&quot;21703-8624&quot;</td><td>&quot;US&quot;</td><td>&quot;US/Eastern&quot;</td><td>&quot;KFDK&quot;</td><td>1.110973</td><td>1.246596</td><td>-1.326538</td><td>-0.030468</td><td>0.366151</td><td>&quot;NNW&quot;</td><td>-0.298264</td><td>-0.083077</td><td>&quot;Fair&quot;</td><td>0.0</td><td>0.0</td><td>0.0</td><td>0.0</td><td>0.0</td><td>0.0</td><td>0.0</td><td>0.0</td><td>0.0</td><td>0.0</td><td>0.0</td><td>0.0</td><td>0.0</td><td>&quot;Day&quot;</td><td>&quot;Day&quot;</td><td>&quot;Day&quot;</td><td>&quot;Day&quot;</td></tr><tr><td>&quot;A-809612&quot;</td><td>&quot;Source2&quot;</td><td>&quot;2021-11-22 07:42:10&quot;</td><td>-0.406401</td><td>0.790194</td><td>-0.117097</td><td>&quot;I-20 E&quot;</td><td>&quot;Columbia&quot;</td><td>&quot;Richland&quot;</td><td>&quot;SC&quot;</td><td>&quot;29203&quot;</td><td>&quot;US&quot;</td><td>&quot;US/Eastern&quot;</td><td>&quot;KCUB&quot;</td><td>-0.551673</td><td>-0.159617</td><td>1.231117</td><td>0.121093</td><td>-3.726664</td><td>&quot;CALM&quot;</td><td>-1.409855</td><td>-0.022012</td><td>&quot;Rain&quot;</td><td>0.0</td><td>0.0</td><td>0.0</td><td>0.0</td><td>0.0</td><td>0.0</td><td>0.0</td><td>0.0</td><td>0.0</td><td>0.0</td><td>0.0</td><td>0.0</td><td>0.0</td><td>&quot;Day&quot;</td><td>&quot;Day&quot;</td><td>&quot;Day&quot;</td><td>&quot;Day&quot;</td></tr><tr><td>&quot;A-367474&quot;</td><td>&quot;Source2&quot;</td><td>&quot;2017-02-21 09:41:21&quot;</td><td>1.390043</td><td>0.530122</td><td>-0.110022</td><td>&quot;Broadmoor Ave SE&quot;</td><td>&quot;Grand Rapids&quot;</td><td>&quot;Kent&quot;</td><td>&quot;MI&quot;</td><td>&quot;49512&quot;</td><td>&quot;US&quot;</td><td>&quot;US/Eastern&quot;</td><td>&quot;KGRR&quot;</td><td>-0.838336</td><td>-1.27004</td><td>1.048427</td><td>0.285284</td><td>-2.731114</td><td>&quot;South&quot;</td><td>0.720694</td><td>-0.022012</td><td>&quot;Rain&quot;</td><td>0.0</td><td>0.0</td><td>1.0</td><td>0.0</td><td>0.0</td><td>0.0</td><td>0.0</td><td>0.0</td><td>0.0</td><td>0.0</td><td>0.0</td><td>1.0</td><td>0.0</td><td>&quot;Day&quot;</td><td>&quot;Day&quot;</td><td>&quot;Day&quot;</td><td>&quot;Day&quot;</td></tr><tr><td>&quot;A-801957&quot;</td><td>&quot;Source2&quot;</td><td>&quot;2021-11-28 11:49:18&quot;</td><td>-1.355694</td><td>-0.217855</td><td>-0.117097</td><td>&quot;SW 36th St&quot;</td><td>&quot;San Antonio&quot;</td><td>&quot;Bexar&quot;</td><td>&quot;TX&quot;</td><td>&quot;78237-4013&quot;</td><td>&quot;US&quot;</td><td>&quot;US/Central&quot;</td><td>&quot;KSKF&quot;</td><td>0.136318</td><td>0.422264</td><td>-0.41309</td><td>-0.308329</td><td>0.366151</td><td>&quot;NNE&quot;</td><td>0.813327</td><td>-0.083077</td><td>&quot;Fair&quot;</td><td>0.0</td><td>0.0</td><td>0.0</td><td>0.0</td><td>0.0</td><td>0.0</td><td>0.0</td><td>0.0</td><td>0.0</td><td>0.0</td><td>0.0</td><td>1.0</td><td>0.0</td><td>&quot;Day&quot;</td><td>&quot;Day&quot;</td><td>&quot;Day&quot;</td><td>&quot;Day&quot;</td></tr><tr><td>&quot;A-874992&quot;</td><td>&quot;Source2&quot;</td><td>&quot;2021-10-05 13:08:11&quot;</td><td>-0.587794</td><td>0.417465</td><td>-0.117097</td><td>&quot;McFarland Blvd E&quot;</td><td>&quot;Tuscaloosa&quot;</td><td>&quot;Tuscaloosa&quot;</td><td>&quot;AL&quot;</td><td>&quot;35405&quot;</td><td>&quot;US&quot;</td><td>&quot;US/Central&quot;</td><td>&quot;KTCL&quot;</td><td>0.766977</td><td>0.955655</td><td>0.454686</td><td>0.133723</td><td>0.366151</td><td>&quot;VAR&quot;</td><td>-0.854059</td><td>-0.083077</td><td>&quot;Mostly Cloudy&quot;</td><td>0.0</td><td>0.0</td><td>0.0</td><td>0.0</td><td>0.0</td><td>0.0</td><td>0.0</td><td>0.0</td><td>0.0</td><td>0.0</td><td>0.0</td><td>1.0</td><td>0.0</td><td>&quot;Day&quot;</td><td>&quot;Day&quot;</td><td>&quot;Day&quot;</td><td>&quot;Day&quot;</td></tr></tbody></table></div>"
            ]
          },
          "metadata": {},
          "execution_count": 30
        }
      ]
    },
    {
      "cell_type": "code",
      "source": [
        "y_test"
      ],
      "metadata": {
        "colab": {
          "base_uri": "https://localhost:8080/",
          "height": 443
        },
        "id": "dVeawgckCcft",
        "outputId": "3eb884f8-dbe3-446b-eeb4-b49e3f6d4095"
      },
      "execution_count": 31,
      "outputs": [
        {
          "output_type": "execute_result",
          "data": {
            "text/plain": [
              "shape: (199_167,)\n",
              "Series: 'Severity' [i64]\n",
              "[\n",
              "\t2\n",
              "\t2\n",
              "\t2\n",
              "\t3\n",
              "\t2\n",
              "\t…\n",
              "\t3\n",
              "\t2\n",
              "\t2\n",
              "\t2\n",
              "\t2\n",
              "]"
            ],
            "text/html": [
              "<div><style>\n",
              ".dataframe > thead > tr,\n",
              ".dataframe > tbody > tr {\n",
              "  text-align: right;\n",
              "  white-space: pre-wrap;\n",
              "}\n",
              "</style>\n",
              "<small>shape: (199_167,)</small><table border=\"1\" class=\"dataframe\"><thead><tr><th>Severity</th></tr><tr><td>i64</td></tr></thead><tbody><tr><td>2</td></tr><tr><td>2</td></tr><tr><td>2</td></tr><tr><td>3</td></tr><tr><td>2</td></tr><tr><td>&hellip;</td></tr><tr><td>3</td></tr><tr><td>2</td></tr><tr><td>2</td></tr><tr><td>2</td></tr><tr><td>2</td></tr></tbody></table></div>"
            ]
          },
          "metadata": {},
          "execution_count": 31
        }
      ]
    },
    {
      "cell_type": "markdown",
      "source": [
        "# Decision Tree"
      ],
      "metadata": {
        "id": "H41KzaqMCeaV"
      }
    },
    {
      "cell_type": "code",
      "source": [
        "from sklearn.pipeline import Pipeline\n",
        "from sklearn.model_selection import RandomizedSearchCV\n",
        "from sklearn.preprocessing import TargetEncoder"
      ],
      "metadata": {
        "id": "BOZis4F2E4XR"
      },
      "execution_count": 32,
      "outputs": []
    },
    {
      "cell_type": "code",
      "source": [
        "dtc = DecisionTreeClassifier(random_state=1,criterion=\"gini\")\n",
        "clock_time_dtc = [] #to report fit and predict times for Decision Tree classifier"
      ],
      "metadata": {
        "id": "4Dbgv5L5CgXb"
      },
      "execution_count": 33,
      "outputs": []
    },
    {
      "cell_type": "code",
      "source": [
        "pipe = Pipeline([\n",
        "    (\"encoder\",TargetEncoder()),\n",
        "    (\"model\",dtc)\n",
        "])"
      ],
      "metadata": {
        "id": "qh4VJiD0FS2Z"
      },
      "execution_count": 34,
      "outputs": []
    },
    {
      "cell_type": "code",
      "source": [
        "pipe.get_params().keys()"
      ],
      "metadata": {
        "colab": {
          "base_uri": "https://localhost:8080/"
        },
        "id": "N4s91EtCGl6P",
        "outputId": "aa46971c-935f-487f-88d3-c336c0672a80"
      },
      "execution_count": 35,
      "outputs": [
        {
          "output_type": "execute_result",
          "data": {
            "text/plain": [
              "dict_keys(['memory', 'steps', 'transform_input', 'verbose', 'encoder', 'model', 'encoder__categories', 'encoder__cv', 'encoder__random_state', 'encoder__shuffle', 'encoder__smooth', 'encoder__target_type', 'model__ccp_alpha', 'model__class_weight', 'model__criterion', 'model__max_depth', 'model__max_features', 'model__max_leaf_nodes', 'model__min_impurity_decrease', 'model__min_samples_leaf', 'model__min_samples_split', 'model__min_weight_fraction_leaf', 'model__monotonic_cst', 'model__random_state', 'model__splitter'])"
            ]
          },
          "metadata": {},
          "execution_count": 35
        }
      ]
    },
    {
      "cell_type": "code",
      "source": [
        "# Using HalvingGridsearchCV to do hyperparameter tuning and Target encoding (of categorical features) with nested cross validation:\n",
        "\n",
        "parameter_grid = {\n",
        "    'model__ccp_alpha':[0,0.005],\n",
        "    'model__max_depth':[6,18],\n",
        "    'model__min_samples_leaf':[100, 200],\n",
        "    'model__min_samples_split':[100,400],\n",
        "    'model__max_features':[\"sqrt\",\"log2\",0.5],\n",
        "    'model__ccp_alpha':[0.0,0.001],\n",
        "    'model__class_weight':[\"balanced\"]\n",
        "}\n",
        "\n",
        "final_model = RandomizedSearchCV(\n",
        "    estimator=pipe,\n",
        "    param_distributions=parameter_grid,\n",
        "    cv=2,\n",
        "    refit=True,\n",
        "    scoring='accuracy',\n",
        "    n_jobs=-1,\n",
        "    return_train_score=True,\n",
        ")"
      ],
      "metadata": {
        "id": "SbCmRi0zErVc"
      },
      "execution_count": 36,
      "outputs": []
    },
    {
      "cell_type": "code",
      "source": [
        "start_time = time.time()\n",
        "final_model.fit(x_train[:50000],y_train[:50000])\n",
        "fit_time = time.time() - start_time   #in seconds"
      ],
      "metadata": {
        "id": "tVEtFWRMFwD2"
      },
      "execution_count": 37,
      "outputs": []
    },
    {
      "cell_type": "code",
      "source": [
        "final_model.best_params_"
      ],
      "metadata": {
        "colab": {
          "base_uri": "https://localhost:8080/"
        },
        "id": "7nppbMqySPq3",
        "outputId": "8f82acb8-d01c-431a-d8c1-c457ae106e09"
      },
      "execution_count": 38,
      "outputs": [
        {
          "output_type": "execute_result",
          "data": {
            "text/plain": [
              "{'model__min_samples_split': 100,\n",
              " 'model__min_samples_leaf': 100,\n",
              " 'model__max_features': 0.5,\n",
              " 'model__max_depth': 18,\n",
              " 'model__class_weight': 'balanced',\n",
              " 'model__ccp_alpha': 0.0}"
            ]
          },
          "metadata": {},
          "execution_count": 38
        }
      ]
    },
    {
      "cell_type": "code",
      "source": [
        "#Plotting Learning curve\n",
        "train_sizes, train_scores, test_scores = learning_curve(\n",
        "    estimator=final_model,\n",
        "    X=x_train[:50000],\n",
        "    y=y_train[:50000],\n",
        "    cv=2,\n",
        "    scoring='accuracy',\n",
        "    train_sizes=([0.05,0.5,1.]),\n",
        "    shuffle=True,\n",
        "    n_jobs=-1,\n",
        "    random_state=1\n",
        ")\n",
        "\n",
        "#calculating the mean training and test score for each training size\n",
        "train_mean = train_scores.mean(axis=1)\n",
        "test_mean = test_scores.mean(axis=1)\n",
        "\n",
        "#Plot Learning curve\n",
        "plt.figure(figsize=(5,5))\n",
        "plt.plot(train_sizes, train_mean, color=\"blue\",label=\"Training error\")\n",
        "plt.plot(train_sizes, test_mean, color=\"red\",label=\"Validation error\")\n",
        "plt.xlabel(\"Training size\")\n",
        "plt.ylabel(\"Error\")\n",
        "plt.title(\"Learning curve\")\n",
        "plt.legend()\n",
        "plt.show()"
      ],
      "metadata": {
        "colab": {
          "base_uri": "https://localhost:8080/",
          "height": 487
        },
        "id": "fw6tRe_9SS8s",
        "outputId": "850ad5b1-b713-47de-91a4-8a1da5115e9a"
      },
      "execution_count": 39,
      "outputs": [
        {
          "output_type": "display_data",
          "data": {
            "text/plain": [
              "<Figure size 500x500 with 1 Axes>"
            ],
            "image/png": "[encoded data removed]"
          },
          "metadata": {}
        }
      ]
    },
    {
      "cell_type": "code",
      "source": [
        "x = final_model.cv_results_['param_model__max_depth'].data\n",
        "y_train_score = final_model.cv_results_['mean_train_score']\n",
        "y_val_score = final_model.cv_results_['mean_test_score']"
      ],
      "metadata": {
        "id": "JegN_TUUI3fy"
      },
      "execution_count": 45,
      "outputs": []
    },
    {
      "cell_type": "code",
      "source": [
        "order = sorted(zip(x, y_train, y_val))\n",
        "x, y_train, y_val = zip(*order)"
      ],
      "metadata": {
        "id": "CgP3K20wO6QC"
      },
      "execution_count": 46,
      "outputs": []
    },
    {
      "cell_type": "code",
      "source": [
        "#calculation of mean train and test scores from final_model.cv_results_\n",
        "\n",
        "sum_train_score_6 = 0\n",
        "sum_valid_score_6 = 0\n",
        "sum_train_score_18 = 0\n",
        "sum_valid_score_18 = 0\n",
        "\n",
        "for i in range(len(x)):\n",
        "  if (x[i] == 6):\n",
        "    sum_train_score_6 = sum_train_score_6 + y_train_score[i]\n",
        "    sum_valid_score_6 = sum_valid_score_6 + y_val_score[i]\n",
        "\n",
        "  elif (x[i] == 18):\n",
        "    sum_train_score_18 = sum_train_score_18 + y_train_score[i]\n",
        "    sum_valid_score_18 = sum_valid_score_18 + y_val_score[i]\n",
        "\n",
        "mean_train_score_6 = sum_train_score_6/3.0\n",
        "mean_train_score_18 = sum_train_score_18/7.0\n",
        "mean_valid_score_6 = sum_valid_score_6/3.0\n",
        "mean_valid_score_18 = sum_valid_score_18/7.0"
      ],
      "metadata": {
        "id": "-FLCglEPa7u8"
      },
      "execution_count": 86,
      "outputs": []
    },
    {
      "cell_type": "code",
      "source": [
        "#Plotting Validation curve/Model complexity curve for max_depth:\n",
        "plt.figure(figsize=(10,5))\n",
        "plt.plot([x[0],x[3]],[mean_train_score_6,mean_train_score_18],color=\"blue\",label=\"Training error\")\n",
        "plt.plot([x[0],x[3]],[mean_valid_score_6,mean_valid_score_18],color=\"red\",label=\"Validation error\")\n",
        "#plt.plot(x[i],y_val_score[i],color=\"red\",label=\"Validation error\")\n",
        "plt.xlabel(\"max_depth size\")\n",
        "plt.xticks(x)\n",
        "plt.ylabel(\"Error\")\n",
        "plt.title(\"Validation curve for max_depth\")\n",
        "plt.legend()\n",
        "plt.show()"
      ],
      "metadata": {
        "colab": {
          "base_uri": "https://localhost:8080/",
          "height": 487
        },
        "id": "WZJaBaV1Xpyl",
        "outputId": "6f4b41ab-eda8-43d4-ba22-8158c676a1f3"
      },
      "execution_count": 87,
      "outputs": [
        {
          "output_type": "display_data",
          "data": {
            "text/plain": [
              "<Figure size 1000x500 with 1 Axes>"
            ],
            "image/png": "[encoded data removed]"
          },
          "metadata": {}
        }
      ]
    },
    {
      "cell_type": "code",
      "source": [
        "start_time = time.time()\n",
        "y_predict = final_model.predict(x_test)\n",
        "predict_time = time.time() - start_time  #in seconds\n",
        "\n",
        "clock_time_dtc.append ((fit_time, predict_time))"
      ],
      "metadata": {
        "id": "lHIVEZPrc5Su"
      },
      "execution_count": 88,
      "outputs": []
    },
    {
      "cell_type": "code",
      "source": [
        "y_predict"
      ],
      "metadata": {
        "colab": {
          "base_uri": "https://localhost:8080/"
        },
        "id": "ERX67L98dKCe",
        "outputId": "1329b1b1-995a-41b3-8d40-878716b06cb9"
      },
      "execution_count": 89,
      "outputs": [
        {
          "output_type": "execute_result",
          "data": {
            "text/plain": [
              "array([2, 2, 1, ..., 2, 1, 2])"
            ]
          },
          "metadata": {},
          "execution_count": 89
        }
      ]
    },
    {
      "cell_type": "code",
      "source": [
        "#Wall-clock fit and predict times\n",
        "print (f\"Fit time for Decision Tree classifier: {clock_time_dtc[0][0]:0.2f} seconds\")\n",
        "print (f\"Predict time for Decision Tree classifier: {clock_time_dtc[0][1]:0.2f} seconds\")"
      ],
      "metadata": {
        "colab": {
          "base_uri": "https://localhost:8080/"
        },
        "id": "J_faYd2EdNZK",
        "outputId": "1268fbad-58dc-497a-842b-5f3cd6d4ef26"
      },
      "execution_count": 91,
      "outputs": [
        {
          "output_type": "stream",
          "name": "stdout",
          "text": [
            "Fit time for Decision Tree classifier: 82.58 seconds\n",
            "Predict time for Decision Tree classifier: 9.18 seconds\n"
          ]
        }
      ]
    },
    {
      "cell_type": "code",
      "source": [
        "metrics.confusion_matrix(y_test,y_predict)"
      ],
      "metadata": {
        "colab": {
          "base_uri": "https://localhost:8080/"
        },
        "id": "xTl2bbyadQae",
        "outputId": "0108dc22-46ec-455a-ca04-9ce504f635e1"
      },
      "execution_count": 92,
      "outputs": [
        {
          "output_type": "execute_result",
          "data": {
            "text/plain": [
              "array([[ 5729,  1035,   499,   197],\n",
              "       [26758, 75265, 14527,  4633],\n",
              "       [ 3810,  5367, 54135,  6581],\n",
              "       [   13,    44,   129,   445]])"
            ]
          },
          "metadata": {},
          "execution_count": 92
        }
      ]
    },
    {
      "cell_type": "code",
      "source": [
        "metrics.ConfusionMatrixDisplay.from_predictions(y_test,y_predict)"
      ],
      "metadata": {
        "colab": {
          "base_uri": "https://localhost:8080/",
          "height": 467
        },
        "id": "_AiOgzewdYgz",
        "outputId": "8e966d2a-73ec-4b30-b062-fbb2c86641a4"
      },
      "execution_count": 93,
      "outputs": [
        {
          "output_type": "execute_result",
          "data": {
            "text/plain": [
              "<sklearn.metrics._plot.confusion_matrix.ConfusionMatrixDisplay at 0x7b106c3919d0>"
            ]
          },
          "metadata": {},
          "execution_count": 93
        },
        {
          "output_type": "display_data",
          "data": {
            "text/plain": [
              "<Figure size 640x480 with 2 Axes>"
            ],
            "image/png": "[encoded data removed]"
          },
          "metadata": {}
        }
      ]
    },
    {
      "cell_type": "code",
      "source": [
        "#Accuracy, Precision, Recall and F1 scores:\n",
        "\n",
        "print (f\"Accuracy = {metrics.accuracy_score(y_test,y_predict)}\")\n",
        "print (f\"Precision = {metrics.precision_score(y_test,y_predict,average='micro')}\")\n",
        "print (f\"Recall = {metrics.recall_score(y_test,y_predict,average='micro')}\")\n",
        "print (f\"F1 score = {metrics.f1_score(y_test,y_predict,average='micro')}\")"
      ],
      "metadata": {
        "colab": {
          "base_uri": "https://localhost:8080/"
        },
        "id": "jsUjRUZbdcjX",
        "outputId": "d60b7d61-912e-4131-b1c6-a54c613c730a"
      },
      "execution_count": 98,
      "outputs": [
        {
          "output_type": "stream",
          "name": "stdout",
          "text": [
            "Accuracy = 0.6807051368951684\n",
            "Precision = 0.6807051368951684\n",
            "Recall = 0.6807051368951684\n",
            "F1 score = 0.6807051368951684\n"
          ]
        }
      ]
    },
    {
      "cell_type": "markdown",
      "source": [
        "# Neural network:"
      ],
      "metadata": {
        "id": "03n3n1Q-hwgC"
      }
    },
    {
      "cell_type": "code",
      "source": [],
      "metadata": {
        "id": "1Xo_VU9yh2dU"
      },
      "execution_count": null,
      "outputs": []
    }
  ]
}